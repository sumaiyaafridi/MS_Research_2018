{
 "cells": [
  {
   "cell_type": "code",
   "execution_count": 20,
   "metadata": {
    "collapsed": true
   },
   "outputs": [],
   "source": [
    "import numpy \n",
    "numpy.random.seed(1337)"
   ]
  },
  {
   "cell_type": "code",
   "execution_count": 21,
   "metadata": {
    "collapsed": true
   },
   "outputs": [],
   "source": [
    "import h5py\n",
    "import keras\n",
    "from keras.models import Sequential, Model\n",
    "from keras.layers import Dense, Activation, Flatten, Input, MaxPooling2D, Dropout, AveragePooling2D, GlobalAveragePooling2D\n",
    "from keras.layers import Conv2D, Embedding\n",
    "from keras.optimizers import SGD, rmsprop\n",
    "from sklearn.metrics import classification_report, confusion_matrix, precision_recall_fscore_support, accuracy_score, f1_score, precision_score, recall_score\n",
    "from sklearn.utils import class_weight\n",
    "from sklearn.utils.class_weight import compute_class_weight\n",
    "from sklearn.preprocessing import LabelEncoder\n",
    "from keras.layers.advanced_activations import LeakyReLU, PReLU, ELU\n",
    "from keras_contrib.layers.advanced_activations import PELU, SReLU"
   ]
  },
  {
   "cell_type": "code",
   "execution_count": 29,
   "metadata": {
    "collapsed": true
   },
   "outputs": [],
   "source": [
    "batch_size=10\n",
    "num_classes=39\n",
    "epochs=30"
   ]
  },
  {
   "cell_type": "code",
   "execution_count": 23,
   "metadata": {
    "collapsed": true
   },
   "outputs": [],
   "source": [
    "import os\n",
    "from PIL import Image\n",
    "import matplotlib.image as mpimg"
   ]
  },
  {
   "cell_type": "code",
   "execution_count": 123,
   "metadata": {
    "collapsed": true
   },
   "outputs": [],
   "source": [
    "os.chdir(\"E:\");\n",
    "#path=\"E:/Dataset_Final(March)/One\";\n",
    "path=\"E:/Dummy/Dataset2\";\n",
    "classes=os.listdir(path)\n",
    "x=[]#Datapoints \n",
    "y=[]#labels \n",
    "for fol in classes:\n",
    "    imgfiles=os.listdir(path+u'\\\\'+fol);\n",
    "    for img in imgfiles:\n",
    "        im=mpimg.imread(path+u'\\\\'+fol+u'\\\\'+img);\n",
    "        x.append(im)\n",
    "        y.append(fol)\n",
    "x=numpy.array(x)\n",
    "y=numpy.array(y)"
   ]
  },
  {
   "cell_type": "code",
   "execution_count": 124,
   "metadata": {},
   "outputs": [
    {
     "name": "stdout",
     "output_type": "stream",
     "text": [
      "(152, 100, 100)\n",
      "(152,)\n"
     ]
    }
   ],
   "source": [
    "print(x.shape)\n",
    "print(y.shape)\n",
    "x=x.reshape((-1,100,100,1))"
   ]
  },
  {
   "cell_type": "code",
   "execution_count": 125,
   "metadata": {},
   "outputs": [],
   "source": [
    "n=x.shape[0]\n",
    "randomize=numpy.arange(n)\n",
    "numpy.random.shuffle(randomize)\n",
    "randomize\n",
    "x=x[randomize]\n",
    "y=y[randomize]"
   ]
  },
  {
   "cell_type": "code",
   "execution_count": 126,
   "metadata": {},
   "outputs": [
    {
     "name": "stdout",
     "output_type": "stream",
     "text": [
      "(101, 100, 100, 1)\n",
      "(101,)\n",
      "(51, 100, 100, 1)\n",
      "(51,)\n"
     ]
    }
   ],
   "source": [
    "test_split=round(n*2/3)\n",
    "x_train=x[:test_split]\n",
    "y_train=y[:test_split]\n",
    "x_test=x[test_split:]\n",
    "y_test=y[test_split:]\n",
    "\n",
    "print(x_train.shape)\n",
    "print(y_train.shape)\n",
    "print(x_test.shape)\n",
    "print(y_test.shape)"
   ]
  },
  {
   "cell_type": "code",
   "execution_count": 127,
   "metadata": {
    "scrolled": true
   },
   "outputs": [
    {
     "data": {
      "text/plain": [
       "array([[ 0.,  0.,  0.,  0.,  0.,  0.,  0.,  0.,  0.,  0.,  1.,  0.,  0.,\n",
       "         0.,  0.,  0.,  0.,  0.,  0.,  0.,  0.,  0.,  0.,  0.,  0.,  0.,\n",
       "         0.,  0.,  0.,  0.,  0.,  0.,  0.,  0.,  0.,  0.,  0.,  0.,  0.]])"
      ]
     },
     "execution_count": 127,
     "metadata": {},
     "output_type": "execute_result"
    }
   ],
   "source": [
    "y_train=keras.utils.to_categorical(y_train, num_classes)\n",
    "y_test=keras.utils.to_categorical(y_test, num_classes)\n",
    "y_train[:1]"
   ]
  },
  {
   "cell_type": "code",
   "execution_count": 128,
   "metadata": {
    "collapsed": true
   },
   "outputs": [],
   "source": [
    "# from keras.preprocessing.image import ImageDataGenerator\n",
    "\n",
    "# datagen = ImageDataGenerator(\n",
    "#         rotation_range=40,\n",
    "#         width_shift_range=0.2,\n",
    "#         height_shift_range=0.2,\n",
    "#         rescale=1./255,\n",
    "#         shear_range=0.2,\n",
    "#         zoom_range=0.2,\n",
    "#         horizontal_flip=True,\n",
    "#         fill_mode='nearest')\n",
    "# datagen.fit(x_train)"
   ]
  },
  {
   "cell_type": "code",
   "execution_count": 129,
   "metadata": {
    "collapsed": true
   },
   "outputs": [],
   "source": [
    "# inputs=Input(shape=(100,100,1))\n",
    "# x=Conv2D(32, (6, 6), padding='same', strides=1)(inputs)\n",
    "# x=SReLU()(x)\n",
    "# x=Conv2D(32, (6, 6), padding='same')(x)\n",
    "# x=SReLU()(x)\n",
    "# x=MaxPooling2D(pool_size=(2,2), strides=1)(x)\n",
    "# x=Dropout(0.2)(x)\n",
    "# x=Conv2D(24, (3, 3), padding='same', strides=1)(x)\n",
    "# x=SReLU()(x)\n",
    "# x=Conv2D(24, (3, 3), padding='same')(x)\n",
    "# x=SReLU()(x)\n",
    "# x=MaxPooling2D(pool_size=(2,2), strides=1)(x)\n",
    "# x=Dropout(0.2)(x)\n",
    "\n",
    "# x=Flatten()(x)#-------------------------------------------------------------------------------0.58(ep-37)\n",
    "# x=Dense(256)(x)\n",
    "# x=SReLU()(x)\n",
    "# x=Dense(num_classes)(x)\n",
    "\n",
    "# output=Activation('softmax')(x)\n",
    "# model=Model([inputs], output)"
   ]
  },
  {
   "cell_type": "code",
   "execution_count": 130,
   "metadata": {
    "collapsed": true
   },
   "outputs": [],
   "source": [
    "# inputs=Input(shape=(100,100,1))\n",
    "\n",
    "# x=Conv2D(128,(3,3), padding='same')(inputs)\n",
    "# x=SReLU()(x)\n",
    "# x=Conv2D(64,(3,3))(x)\n",
    "# x=SReLU()(x)\n",
    "# x=MaxPooling2D(pool_size=(2,2))(x)\n",
    "# x=Dropout(0.2)(x)\n",
    "# x=Flatten()(x)\n",
    "# x=Dense(num_classes)(x)\n",
    "# #x=Activation('softmax')(x)\n",
    "# output=Activation('softmax')(x)\n",
    "# model=Model([inputs], output)"
   ]
  },
  {
   "cell_type": "code",
   "execution_count": 131,
   "metadata": {
    "collapsed": true
   },
   "outputs": [],
   "source": [
    "# inputs=Input(shape=(100,100,1))\n",
    "# x=Conv2D(16, (3, 3), padding='same')(inputs)\n",
    "# x=Conv2D(16, (3, 3), padding='same')(x)\n",
    "# x=MaxPooling2D(pool_size=(2,2))(x)\n",
    "# x=Conv2D(32, (3, 3), padding='same')(x)\n",
    "# x=Conv2D(32, (3, 3), padding='same')(x)\n",
    "# x=MaxPooling2D(pool_size=(2,2))(x)\n",
    "# x=Conv2D(64, (3, 3), padding='same')(x)\n",
    "# x=Conv2D(64, (3, 3), padding='same')(x)\n",
    "# x=MaxPooling2D(pool_size=(2,2))(x)\n",
    "# x=Conv2D(72, (3, 3), padding='same')(x)\n",
    "# x=Conv2D(72, (3, 3), padding='same')(x)\n",
    "# x=MaxPooling2D(pool_size=(2,2))(x)\n",
    "# x=Conv2D(94, (3, 3), padding='same')(x)\n",
    "# x=Conv2D(94, (3, 3), padding='same')(x)\n",
    "# x=MaxPooling2D(pool_size=(2,2))(x)\n",
    "# x=Dropout(0.2)(x)\n",
    "# x=SReLU()(x)\n",
    "# x=Flatten()(x)-----------------------------------------------0.60(ep-38)\n",
    "# # x=Dense(37)(x)\n",
    "# # x=SReLU()(x)\n",
    "\n",
    "# x=Dense(num_classes)(x)\n",
    "# #x=SReLU()(x)\n",
    "# output=Activation('softmax')(x)\n",
    "# model=Model([inputs], output)"
   ]
  },
  {
   "cell_type": "code",
   "execution_count": 132,
   "metadata": {
    "collapsed": true
   },
   "outputs": [],
   "source": [
    "# inputs=Input(shape=(100,100,1))\n",
    "# x=Conv2D(16, (3, 3), padding='same')(inputs)\n",
    "# x=Conv2D(16, (3, 3), padding='same')(x)\n",
    "# x=MaxPooling2D(pool_size=(2,2))(x)\n",
    "# x=Conv2D(32, (3, 3), padding='same')(x)\n",
    "# x=Conv2D(32, (3, 3), padding='same')(x)\n",
    "# x=MaxPooling2D(pool_size=(2,2))(x)\n",
    "# x=Conv2D(64, (3, 3), padding='same')(x)\n",
    "# x=Conv2D(64, (3, 3), padding='same')(x)\n",
    "# x=MaxPooling2D(pool_size=(2,2))(x)\n",
    "# x=Conv2D(72, (3, 3), padding='same')(x)\n",
    "# x=Conv2D(72, (3, 3), padding='same')(x)\n",
    "# x=MaxPooling2D(pool_size=(2,2))(x)\n",
    "# x=Conv2D(128, (3, 3), padding='same')(x)\n",
    "# x=Conv2D(128, (3, 3), padding='same')(x)\n",
    "# x=MaxPooling2D(pool_size=(2,2))(x)\n",
    "# x=Dropout(0.5)(x)\n",
    "# x=SReLU()(x)\n",
    "# x=Flatten()(x)\n",
    "# # x=Dense(37)(x)\n",
    "# # x=SReLU()(x)--------------------------------------------------------------0.62(ep-39)\n",
    "\n",
    "# x=Dense(num_classes)(x)\n",
    "# #x=SReLU()(x)\n",
    "# output=Activation('softmax')(x)\n",
    "# model=Model([inputs], output)"
   ]
  },
  {
   "cell_type": "code",
   "execution_count": 133,
   "metadata": {},
   "outputs": [
    {
     "ename": "KeyboardInterrupt",
     "evalue": "",
     "output_type": "error",
     "traceback": [
      "\u001b[1;31m---------------------------------------------------------------------------\u001b[0m",
      "\u001b[1;31mKeyboardInterrupt\u001b[0m                         Traceback (most recent call last)",
      "\u001b[1;32m<ipython-input-133-e75fbae03ab3>\u001b[0m in \u001b[0;36m<module>\u001b[1;34m()\u001b[0m\n\u001b[0;32m      1\u001b[0m \u001b[1;32mfrom\u001b[0m \u001b[0mkeras\u001b[0m \u001b[1;32mimport\u001b[0m \u001b[0mapplications\u001b[0m\u001b[1;33m\u001b[0m\u001b[0m\n\u001b[1;32m----> 2\u001b[1;33m \u001b[0mmodel\u001b[0m \u001b[1;33m=\u001b[0m \u001b[0mapplications\u001b[0m\u001b[1;33m.\u001b[0m\u001b[0mVGG16\u001b[0m\u001b[1;33m(\u001b[0m\u001b[0mweights\u001b[0m\u001b[1;33m=\u001b[0m\u001b[1;34m'imagenet'\u001b[0m\u001b[1;33m,\u001b[0m \u001b[0minclude_top\u001b[0m\u001b[1;33m=\u001b[0m\u001b[1;32mFalse\u001b[0m\u001b[1;33m)\u001b[0m\u001b[1;33m\u001b[0m\u001b[0m\n\u001b[0m\u001b[0;32m      3\u001b[0m \u001b[0mprint\u001b[0m\u001b[1;33m(\u001b[0m\u001b[1;34m'Model loaded.'\u001b[0m\u001b[1;33m)\u001b[0m\u001b[1;33m\u001b[0m\u001b[0m\n",
      "\u001b[1;32mC:\\ProgramData\\Anaconda3\\lib\\site-packages\\keras\\applications\\vgg16.py\u001b[0m in \u001b[0;36mVGG16\u001b[1;34m(include_top, weights, input_tensor, input_shape, pooling, classes)\u001b[0m\n\u001b[0;32m    174\u001b[0m                                     \u001b[0mcache_subdir\u001b[0m\u001b[1;33m=\u001b[0m\u001b[1;34m'models'\u001b[0m\u001b[1;33m,\u001b[0m\u001b[1;33m\u001b[0m\u001b[0m\n\u001b[0;32m    175\u001b[0m                                     file_hash='6d6bbae143d832006294945121d1f1fc')\n\u001b[1;32m--> 176\u001b[1;33m         \u001b[0mmodel\u001b[0m\u001b[1;33m.\u001b[0m\u001b[0mload_weights\u001b[0m\u001b[1;33m(\u001b[0m\u001b[0mweights_path\u001b[0m\u001b[1;33m)\u001b[0m\u001b[1;33m\u001b[0m\u001b[0m\n\u001b[0m\u001b[0;32m    177\u001b[0m         \u001b[1;32mif\u001b[0m \u001b[0mK\u001b[0m\u001b[1;33m.\u001b[0m\u001b[0mbackend\u001b[0m\u001b[1;33m(\u001b[0m\u001b[1;33m)\u001b[0m \u001b[1;33m==\u001b[0m \u001b[1;34m'theano'\u001b[0m\u001b[1;33m:\u001b[0m\u001b[1;33m\u001b[0m\u001b[0m\n\u001b[0;32m    178\u001b[0m             \u001b[0mlayer_utils\u001b[0m\u001b[1;33m.\u001b[0m\u001b[0mconvert_all_kernels_in_model\u001b[0m\u001b[1;33m(\u001b[0m\u001b[0mmodel\u001b[0m\u001b[1;33m)\u001b[0m\u001b[1;33m\u001b[0m\u001b[0m\n",
      "\u001b[1;32mC:\\ProgramData\\Anaconda3\\lib\\site-packages\\keras\\engine\\topology.py\u001b[0m in \u001b[0;36mload_weights\u001b[1;34m(self, filepath, by_name, skip_mismatch, reshape)\u001b[0m\n\u001b[0;32m   2654\u001b[0m             \u001b[1;32melse\u001b[0m\u001b[1;33m:\u001b[0m\u001b[1;33m\u001b[0m\u001b[0m\n\u001b[0;32m   2655\u001b[0m                 load_weights_from_hdf5_group(\n\u001b[1;32m-> 2656\u001b[1;33m                     f, self.layers, reshape=reshape)\n\u001b[0m\u001b[0;32m   2657\u001b[0m \u001b[1;33m\u001b[0m\u001b[0m\n\u001b[0;32m   2658\u001b[0m     \u001b[1;32mdef\u001b[0m \u001b[0m_updated_config\u001b[0m\u001b[1;33m(\u001b[0m\u001b[0mself\u001b[0m\u001b[1;33m)\u001b[0m\u001b[1;33m:\u001b[0m\u001b[1;33m\u001b[0m\u001b[0m\n",
      "\u001b[1;32mC:\\ProgramData\\Anaconda3\\lib\\site-packages\\keras\\engine\\topology.py\u001b[0m in \u001b[0;36mload_weights_from_hdf5_group\u001b[1;34m(f, layers, reshape)\u001b[0m\n\u001b[0;32m   3380\u001b[0m                              ' elements.')\n\u001b[0;32m   3381\u001b[0m         \u001b[0mweight_value_tuples\u001b[0m \u001b[1;33m+=\u001b[0m \u001b[0mzip\u001b[0m\u001b[1;33m(\u001b[0m\u001b[0msymbolic_weights\u001b[0m\u001b[1;33m,\u001b[0m \u001b[0mweight_values\u001b[0m\u001b[1;33m)\u001b[0m\u001b[1;33m\u001b[0m\u001b[0m\n\u001b[1;32m-> 3382\u001b[1;33m     \u001b[0mK\u001b[0m\u001b[1;33m.\u001b[0m\u001b[0mbatch_set_value\u001b[0m\u001b[1;33m(\u001b[0m\u001b[0mweight_value_tuples\u001b[0m\u001b[1;33m)\u001b[0m\u001b[1;33m\u001b[0m\u001b[0m\n\u001b[0m\u001b[0;32m   3383\u001b[0m \u001b[1;33m\u001b[0m\u001b[0m\n\u001b[0;32m   3384\u001b[0m \u001b[1;33m\u001b[0m\u001b[0m\n",
      "\u001b[1;32mC:\\ProgramData\\Anaconda3\\lib\\site-packages\\keras\\backend\\tensorflow_backend.py\u001b[0m in \u001b[0;36mbatch_set_value\u001b[1;34m(tuples)\u001b[0m\n\u001b[0;32m   2371\u001b[0m             \u001b[0massign_ops\u001b[0m\u001b[1;33m.\u001b[0m\u001b[0mappend\u001b[0m\u001b[1;33m(\u001b[0m\u001b[0massign_op\u001b[0m\u001b[1;33m)\u001b[0m\u001b[1;33m\u001b[0m\u001b[0m\n\u001b[0;32m   2372\u001b[0m             \u001b[0mfeed_dict\u001b[0m\u001b[1;33m[\u001b[0m\u001b[0massign_placeholder\u001b[0m\u001b[1;33m]\u001b[0m \u001b[1;33m=\u001b[0m \u001b[0mvalue\u001b[0m\u001b[1;33m\u001b[0m\u001b[0m\n\u001b[1;32m-> 2373\u001b[1;33m         \u001b[0mget_session\u001b[0m\u001b[1;33m(\u001b[0m\u001b[1;33m)\u001b[0m\u001b[1;33m.\u001b[0m\u001b[0mrun\u001b[0m\u001b[1;33m(\u001b[0m\u001b[0massign_ops\u001b[0m\u001b[1;33m,\u001b[0m \u001b[0mfeed_dict\u001b[0m\u001b[1;33m=\u001b[0m\u001b[0mfeed_dict\u001b[0m\u001b[1;33m)\u001b[0m\u001b[1;33m\u001b[0m\u001b[0m\n\u001b[0m\u001b[0;32m   2374\u001b[0m \u001b[1;33m\u001b[0m\u001b[0m\n\u001b[0;32m   2375\u001b[0m \u001b[1;33m\u001b[0m\u001b[0m\n",
      "\u001b[1;32mC:\\ProgramData\\Anaconda3\\lib\\site-packages\\keras\\backend\\tensorflow_backend.py\u001b[0m in \u001b[0;36mget_session\u001b[1;34m()\u001b[0m\n\u001b[0;32m    197\u001b[0m                     \u001b[0mv\u001b[0m\u001b[1;33m.\u001b[0m\u001b[0m_keras_initialized\u001b[0m \u001b[1;33m=\u001b[0m \u001b[1;32mTrue\u001b[0m\u001b[1;33m\u001b[0m\u001b[0m\n\u001b[0;32m    198\u001b[0m                 \u001b[1;32mif\u001b[0m \u001b[0muninitialized_vars\u001b[0m\u001b[1;33m:\u001b[0m\u001b[1;33m\u001b[0m\u001b[0m\n\u001b[1;32m--> 199\u001b[1;33m                     \u001b[0msession\u001b[0m\u001b[1;33m.\u001b[0m\u001b[0mrun\u001b[0m\u001b[1;33m(\u001b[0m\u001b[0mtf\u001b[0m\u001b[1;33m.\u001b[0m\u001b[0mvariables_initializer\u001b[0m\u001b[1;33m(\u001b[0m\u001b[0muninitialized_vars\u001b[0m\u001b[1;33m)\u001b[0m\u001b[1;33m)\u001b[0m\u001b[1;33m\u001b[0m\u001b[0m\n\u001b[0m\u001b[0;32m    200\u001b[0m     \u001b[1;31m# hack for list_devices() function.\u001b[0m\u001b[1;33m\u001b[0m\u001b[1;33m\u001b[0m\u001b[0m\n\u001b[0;32m    201\u001b[0m     \u001b[1;31m# list_devices() function is not available under tensorflow r1.3.\u001b[0m\u001b[1;33m\u001b[0m\u001b[1;33m\u001b[0m\u001b[0m\n",
      "\u001b[1;32m~\\AppData\\Roaming\\Python\\Python36\\site-packages\\tensorflow\\python\\client\\session.py\u001b[0m in \u001b[0;36mrun\u001b[1;34m(self, fetches, feed_dict, options, run_metadata)\u001b[0m\n\u001b[0;32m    903\u001b[0m     \u001b[1;32mtry\u001b[0m\u001b[1;33m:\u001b[0m\u001b[1;33m\u001b[0m\u001b[0m\n\u001b[0;32m    904\u001b[0m       result = self._run(None, fetches, feed_dict, options_ptr,\n\u001b[1;32m--> 905\u001b[1;33m                          run_metadata_ptr)\n\u001b[0m\u001b[0;32m    906\u001b[0m       \u001b[1;32mif\u001b[0m \u001b[0mrun_metadata\u001b[0m\u001b[1;33m:\u001b[0m\u001b[1;33m\u001b[0m\u001b[0m\n\u001b[0;32m    907\u001b[0m         \u001b[0mproto_data\u001b[0m \u001b[1;33m=\u001b[0m \u001b[0mtf_session\u001b[0m\u001b[1;33m.\u001b[0m\u001b[0mTF_GetBuffer\u001b[0m\u001b[1;33m(\u001b[0m\u001b[0mrun_metadata_ptr\u001b[0m\u001b[1;33m)\u001b[0m\u001b[1;33m\u001b[0m\u001b[0m\n",
      "\u001b[1;32m~\\AppData\\Roaming\\Python\\Python36\\site-packages\\tensorflow\\python\\client\\session.py\u001b[0m in \u001b[0;36m_run\u001b[1;34m(self, handle, fetches, feed_dict, options, run_metadata)\u001b[0m\n\u001b[0;32m   1135\u001b[0m     \u001b[1;32mif\u001b[0m \u001b[0mfinal_fetches\u001b[0m \u001b[1;32mor\u001b[0m \u001b[0mfinal_targets\u001b[0m \u001b[1;32mor\u001b[0m \u001b[1;33m(\u001b[0m\u001b[0mhandle\u001b[0m \u001b[1;32mand\u001b[0m \u001b[0mfeed_dict_tensor\u001b[0m\u001b[1;33m)\u001b[0m\u001b[1;33m:\u001b[0m\u001b[1;33m\u001b[0m\u001b[0m\n\u001b[0;32m   1136\u001b[0m       results = self._do_run(handle, final_targets, final_fetches,\n\u001b[1;32m-> 1137\u001b[1;33m                              feed_dict_tensor, options, run_metadata)\n\u001b[0m\u001b[0;32m   1138\u001b[0m     \u001b[1;32melse\u001b[0m\u001b[1;33m:\u001b[0m\u001b[1;33m\u001b[0m\u001b[0m\n\u001b[0;32m   1139\u001b[0m       \u001b[0mresults\u001b[0m \u001b[1;33m=\u001b[0m \u001b[1;33m[\u001b[0m\u001b[1;33m]\u001b[0m\u001b[1;33m\u001b[0m\u001b[0m\n",
      "\u001b[1;32m~\\AppData\\Roaming\\Python\\Python36\\site-packages\\tensorflow\\python\\client\\session.py\u001b[0m in \u001b[0;36m_do_run\u001b[1;34m(self, handle, target_list, fetch_list, feed_dict, options, run_metadata)\u001b[0m\n\u001b[0;32m   1353\u001b[0m     \u001b[1;32mif\u001b[0m \u001b[0mhandle\u001b[0m \u001b[1;32mis\u001b[0m \u001b[1;32mNone\u001b[0m\u001b[1;33m:\u001b[0m\u001b[1;33m\u001b[0m\u001b[0m\n\u001b[0;32m   1354\u001b[0m       return self._do_call(_run_fn, self._session, feeds, fetches, targets,\n\u001b[1;32m-> 1355\u001b[1;33m                            options, run_metadata)\n\u001b[0m\u001b[0;32m   1356\u001b[0m     \u001b[1;32melse\u001b[0m\u001b[1;33m:\u001b[0m\u001b[1;33m\u001b[0m\u001b[0m\n\u001b[0;32m   1357\u001b[0m       \u001b[1;32mreturn\u001b[0m \u001b[0mself\u001b[0m\u001b[1;33m.\u001b[0m\u001b[0m_do_call\u001b[0m\u001b[1;33m(\u001b[0m\u001b[0m_prun_fn\u001b[0m\u001b[1;33m,\u001b[0m \u001b[0mself\u001b[0m\u001b[1;33m.\u001b[0m\u001b[0m_session\u001b[0m\u001b[1;33m,\u001b[0m \u001b[0mhandle\u001b[0m\u001b[1;33m,\u001b[0m \u001b[0mfeeds\u001b[0m\u001b[1;33m,\u001b[0m \u001b[0mfetches\u001b[0m\u001b[1;33m)\u001b[0m\u001b[1;33m\u001b[0m\u001b[0m\n",
      "\u001b[1;32m~\\AppData\\Roaming\\Python\\Python36\\site-packages\\tensorflow\\python\\client\\session.py\u001b[0m in \u001b[0;36m_do_call\u001b[1;34m(self, fn, *args)\u001b[0m\n\u001b[0;32m   1359\u001b[0m   \u001b[1;32mdef\u001b[0m \u001b[0m_do_call\u001b[0m\u001b[1;33m(\u001b[0m\u001b[0mself\u001b[0m\u001b[1;33m,\u001b[0m \u001b[0mfn\u001b[0m\u001b[1;33m,\u001b[0m \u001b[1;33m*\u001b[0m\u001b[0margs\u001b[0m\u001b[1;33m)\u001b[0m\u001b[1;33m:\u001b[0m\u001b[1;33m\u001b[0m\u001b[0m\n\u001b[0;32m   1360\u001b[0m     \u001b[1;32mtry\u001b[0m\u001b[1;33m:\u001b[0m\u001b[1;33m\u001b[0m\u001b[0m\n\u001b[1;32m-> 1361\u001b[1;33m       \u001b[1;32mreturn\u001b[0m \u001b[0mfn\u001b[0m\u001b[1;33m(\u001b[0m\u001b[1;33m*\u001b[0m\u001b[0margs\u001b[0m\u001b[1;33m)\u001b[0m\u001b[1;33m\u001b[0m\u001b[0m\n\u001b[0m\u001b[0;32m   1362\u001b[0m     \u001b[1;32mexcept\u001b[0m \u001b[0merrors\u001b[0m\u001b[1;33m.\u001b[0m\u001b[0mOpError\u001b[0m \u001b[1;32mas\u001b[0m \u001b[0me\u001b[0m\u001b[1;33m:\u001b[0m\u001b[1;33m\u001b[0m\u001b[0m\n\u001b[0;32m   1363\u001b[0m       \u001b[0mmessage\u001b[0m \u001b[1;33m=\u001b[0m \u001b[0mcompat\u001b[0m\u001b[1;33m.\u001b[0m\u001b[0mas_text\u001b[0m\u001b[1;33m(\u001b[0m\u001b[0me\u001b[0m\u001b[1;33m.\u001b[0m\u001b[0mmessage\u001b[0m\u001b[1;33m)\u001b[0m\u001b[1;33m\u001b[0m\u001b[0m\n",
      "\u001b[1;32m~\\AppData\\Roaming\\Python\\Python36\\site-packages\\tensorflow\\python\\client\\session.py\u001b[0m in \u001b[0;36m_run_fn\u001b[1;34m(session, feed_dict, fetch_list, target_list, options, run_metadata)\u001b[0m\n\u001b[0;32m   1338\u001b[0m         \u001b[1;32melse\u001b[0m\u001b[1;33m:\u001b[0m\u001b[1;33m\u001b[0m\u001b[0m\n\u001b[0;32m   1339\u001b[0m           return tf_session.TF_Run(session, options, feed_dict, fetch_list,\n\u001b[1;32m-> 1340\u001b[1;33m                                    target_list, status, run_metadata)\n\u001b[0m\u001b[0;32m   1341\u001b[0m \u001b[1;33m\u001b[0m\u001b[0m\n\u001b[0;32m   1342\u001b[0m     \u001b[1;32mdef\u001b[0m \u001b[0m_prun_fn\u001b[0m\u001b[1;33m(\u001b[0m\u001b[0msession\u001b[0m\u001b[1;33m,\u001b[0m \u001b[0mhandle\u001b[0m\u001b[1;33m,\u001b[0m \u001b[0mfeed_dict\u001b[0m\u001b[1;33m,\u001b[0m \u001b[0mfetch_list\u001b[0m\u001b[1;33m)\u001b[0m\u001b[1;33m:\u001b[0m\u001b[1;33m\u001b[0m\u001b[0m\n",
      "\u001b[1;31mKeyboardInterrupt\u001b[0m: "
     ]
    }
   ],
   "source": [
    "from keras import applications\n",
    "model = applications.VGG16(weights='imagenet', include_top=False)\n",
    "print('Model loaded.')"
   ]
  },
  {
   "cell_type": "code",
   "execution_count": 17,
   "metadata": {
    "collapsed": true
   },
   "outputs": [],
   "source": [
    "# inputs=Input(shape=(100,100,1))\n",
    "# top_model = Sequential()\n",
    "# top_model.add(Flatten(input_shape=inputs))\n",
    "# top_model.add(Dense(256, activation='relu'))\n",
    "# top_model.add(Dropout(0.5))\n",
    "# top_model.add(Dense(1, activation='sigmoid'))"
   ]
  },
  {
   "cell_type": "code",
   "execution_count": 80,
   "metadata": {
    "collapsed": true
   },
   "outputs": [],
   "source": [
    "# inputs=Input(shape=(100,100,1))\n",
    "\n",
    "# x=Conv2D(16, (3, 3), padding='same')(inputs)\n",
    "# x=Conv2D(16, (3, 3), padding='same')(x)\n",
    "# x=MaxPooling2D(pool_size=(2,2))(x)\n",
    "# x=SReLU()(x)\n",
    "\n",
    "# x=Conv2D(32, (3, 3), padding='same')(x)\n",
    "# x=Conv2D(32, (3, 3), padding='same')(x)\n",
    "# x=MaxPooling2D(pool_size=(2,2))(x)\n",
    "# x=SReLU()(x)\n",
    "\n",
    "# x=Conv2D(64, (3, 3), padding='same')(x)\n",
    "# x=Conv2D(64, (3, 3), padding='same')(x)\n",
    "# x=MaxPooling2D(pool_size=(2,2))(x)\n",
    "# x=SReLU()(x)\n",
    "\n",
    "# x=Conv2D(128, (3, 3), padding='same')(x)\n",
    "# x=Conv2D(128, (3, 3), padding='same')(x)\n",
    "# x=MaxPooling2D(pool_size=(2,2))(x)\n",
    "# x=Dropout(0.2)(x)------------------------------0.96\n",
    "# x=SReLU()(x)\n",
    "\n",
    "# x=Flatten()(x)\n",
    "# x=Dense(num_classes)(x)\n",
    "# #x=SReLU()(x)\n",
    "# output=Activation('softmax')(x)\n",
    "# model=Model([inputs], output)"
   ]
  },
  {
   "cell_type": "code",
   "execution_count": 48,
   "metadata": {
    "collapsed": true
   },
   "outputs": [],
   "source": [
    "# inputs = Input((100, 100, 1))\n",
    "# x =Conv2D(32, (9, 9), padding='same')(inputs)\n",
    "# x=SReLU()(x)\n",
    "# x =Conv2D(64, (9, 9), padding='same')(x)\n",
    "# x=SReLU()(x)\n",
    "# x = MaxPooling2D((2, 2))(x)\n",
    "# x = Dropout(0.25)(x)\n",
    "# x = Flatten()(x)\n",
    "# x = Dense(240)(x)\n",
    "# x = Dropout(0.5)(x)\n",
    "# output=Dense(num_classes, activation='softmax')(x)\n",
    "# model=Model([inputs], output)"
   ]
  },
  {
   "cell_type": "code",
   "execution_count": 49,
   "metadata": {
    "collapsed": true
   },
   "outputs": [],
   "source": [
    "# inputs=Input(shape=(100,100,1))\n",
    "\n",
    "# x=Conv2D(16, (3, 3), padding='same')(inputs)\n",
    "# # x=MaxPooling2D(pool_size=(2,2))(x)\n",
    "# # x=SReLU()(x)\n",
    "\n",
    "# x=Conv2D(32, (3, 3), padding='same')(x)\n",
    "# # x=MaxPooling2D(pool_size=(2,2))(x)\n",
    "# # x=SReLU()(x)\n",
    "\n",
    "# x=Conv2D(64, (3, 3), padding='same')(x)\n",
    "# # x=MaxPooling2D(pool_size=(2,2))(x)\n",
    "# # x=SReLU()(x)\n",
    "\n",
    "# x=Conv2D(128, (3, 3), padding='same')(x)\n",
    "# # x=MaxPooling2D(pool_size=(2,2))(x)\n",
    "# # x=SReLU()(x)\n",
    "\n",
    "# # x=Conv2D(256, (3, 3), padding='same')(x)\n",
    "# x=MaxPooling2D(pool_size=(2,2))(x)\n",
    "# x=Dropout(0.2)(x)\n",
    "# x=SReLU()(x)\n",
    "\n",
    "# x=Flatten()(x)\n",
    "# x=SReLU()(x)\n",
    "# x=Dense(num_classes)(x)\n",
    "# #x=SReLU()(x)\n",
    "# output=Activation('softmax')(x)\n",
    "# model=Model([inputs], output)"
   ]
  },
  {
   "cell_type": "code",
   "execution_count": 175,
   "metadata": {
    "collapsed": true
   },
   "outputs": [],
   "source": [
    "inputs=Input(shape=(100,100,1))\n",
    "\n",
    "x=Conv2D(16, (3, 3), padding='same')(inputs)\n",
    "x=SReLU()(x)\n",
    "x=MaxPooling2D(pool_size=(2,2))(x)\n",
    "\n",
    "\n",
    "x=Conv2D(32, (3, 3), padding='same')(x)\n",
    "x=SReLU()(x)\n",
    "x=MaxPooling2D(pool_size=(2,2))(x)\n",
    "\n",
    "\n",
    "x=Conv2D(64, (3, 3), padding='same')(x)\n",
    "x=SReLU()(x)\n",
    "x=MaxPooling2D(pool_size=(2,2))(x)\n",
    "\n",
    "x=Conv2D(128, (3, 3), padding='same')(x)\n",
    "x=SReLU()(x)\n",
    "x=MaxPooling2D(pool_size=(2,2))(x)\n",
    "x=Dropout(0.2)(x)\n",
    "x=Flatten()(x)\n",
    "x=Dense(num_classes)(x)\n",
    "output=Activation('softmax')(x)\n",
    "model=Model([inputs], output)"
   ]
  },
  {
   "cell_type": "code",
   "execution_count": 176,
   "metadata": {},
   "outputs": [
    {
     "name": "stdout",
     "output_type": "stream",
     "text": [
      "_________________________________________________________________\n",
      "Layer (type)                 Output Shape              Param #   \n",
      "=================================================================\n",
      "input_10 (InputLayer)        (None, 100, 100, 1)       0         \n",
      "_________________________________________________________________\n",
      "conv2d_52 (Conv2D)           (None, 100, 100, 16)      160       \n",
      "_________________________________________________________________\n",
      "s_re_lu_28 (SReLU)           (None, 100, 100, 16)      640000    \n",
      "_________________________________________________________________\n",
      "max_pooling2d_28 (MaxPooling (None, 50, 50, 16)        0         \n",
      "_________________________________________________________________\n",
      "conv2d_53 (Conv2D)           (None, 50, 50, 32)        4640      \n",
      "_________________________________________________________________\n",
      "s_re_lu_29 (SReLU)           (None, 50, 50, 32)        320000    \n",
      "_________________________________________________________________\n",
      "max_pooling2d_29 (MaxPooling (None, 25, 25, 32)        0         \n",
      "_________________________________________________________________\n",
      "conv2d_54 (Conv2D)           (None, 25, 25, 64)        18496     \n",
      "_________________________________________________________________\n",
      "s_re_lu_30 (SReLU)           (None, 25, 25, 64)        160000    \n",
      "_________________________________________________________________\n",
      "max_pooling2d_30 (MaxPooling (None, 12, 12, 64)        0         \n",
      "_________________________________________________________________\n",
      "conv2d_55 (Conv2D)           (None, 12, 12, 128)       73856     \n",
      "_________________________________________________________________\n",
      "s_re_lu_31 (SReLU)           (None, 12, 12, 128)       73728     \n",
      "_________________________________________________________________\n",
      "max_pooling2d_31 (MaxPooling (None, 6, 6, 128)         0         \n",
      "_________________________________________________________________\n",
      "dropout_8 (Dropout)          (None, 6, 6, 128)         0         \n",
      "_________________________________________________________________\n",
      "flatten_8 (Flatten)          (None, 4608)              0         \n",
      "_________________________________________________________________\n",
      "dense_8 (Dense)              (None, 39)                179751    \n",
      "_________________________________________________________________\n",
      "activation_8 (Activation)    (None, 39)                0         \n",
      "=================================================================\n",
      "Total params: 1,470,631\n",
      "Trainable params: 1,470,631\n",
      "Non-trainable params: 0\n",
      "_________________________________________________________________\n"
     ]
    }
   ],
   "source": [
    "model.summary()"
   ]
  },
  {
   "cell_type": "code",
   "execution_count": 177,
   "metadata": {
    "collapsed": true
   },
   "outputs": [],
   "source": [
    "opt=keras.optimizers.RMSprop(lr=1e-3)"
   ]
  },
  {
   "cell_type": "code",
   "execution_count": 178,
   "metadata": {
    "collapsed": true
   },
   "outputs": [],
   "source": [
    "model.compile(loss='categorical_crossentropy', optimizer=opt, metrics=['accuracy'])"
   ]
  },
  {
   "cell_type": "code",
   "execution_count": 179,
   "metadata": {
    "collapsed": true
   },
   "outputs": [],
   "source": [
    "import h5py\n",
    "from keras.callbacks import ModelCheckpoint\n",
    "filepath='E:Dataset_Final(March)/Checkpoints/Level_1/Epoch_41/weights-improvement-{epoch:2d}-{val_acc:.2f}.hdf5'\n",
    "checkpoint=ModelCheckpoint(filepath, monitor='val_acc', verbose=1, mode='max')"
   ]
  },
  {
   "cell_type": "code",
   "execution_count": 180,
   "metadata": {
    "collapsed": true
   },
   "outputs": [],
   "source": [
    "# hist=model.fit_generator(datagen.flow(x_train, y_train,batch_size=batch_size),\n",
    "#                         epochs=epochs,\n",
    "#                         validation_data=(x_test, y_test),\n",
    "#                         callbacks=[checkpoint]\n",
    "#                )"
   ]
  },
  {
   "cell_type": "code",
   "execution_count": 181,
   "metadata": {},
   "outputs": [
    {
     "name": "stdout",
     "output_type": "stream",
     "text": [
      "Train on 101 samples, validate on 51 samples\n",
      "Epoch 1/30\n",
      "101/101 [==============================] - 6s 59ms/step - loss: 3.6838 - acc: 0.0198 - val_loss: 3.6511 - val_acc: 0.0392\n",
      "\n",
      "Epoch 00001: saving model to E:Dataset_Final(March)/Checkpoints/Level_1/Epoch_41/weights-improvement- 1-0.04.hdf5\n",
      "Epoch 2/30\n",
      "101/101 [==============================] - 5s 45ms/step - loss: 3.5493 - acc: 0.0891 - val_loss: 3.5240 - val_acc: 0.0392\n",
      "\n",
      "Epoch 00002: saving model to E:Dataset_Final(March)/Checkpoints/Level_1/Epoch_41/weights-improvement- 2-0.04.hdf5\n",
      "Epoch 3/30\n",
      "101/101 [==============================] - 4s 44ms/step - loss: 3.0459 - acc: 0.1881 - val_loss: 2.8597 - val_acc: 0.2941\n",
      "\n",
      "Epoch 00003: saving model to E:Dataset_Final(March)/Checkpoints/Level_1/Epoch_41/weights-improvement- 3-0.29.hdf5\n",
      "Epoch 4/30\n",
      "101/101 [==============================] - 4s 44ms/step - loss: 2.0361 - acc: 0.4257 - val_loss: 1.8296 - val_acc: 0.4118\n",
      "\n",
      "Epoch 00004: saving model to E:Dataset_Final(March)/Checkpoints/Level_1/Epoch_41/weights-improvement- 4-0.41.hdf5\n",
      "Epoch 5/30\n",
      "101/101 [==============================] - 4s 44ms/step - loss: 1.2427 - acc: 0.6040 - val_loss: 1.1455 - val_acc: 0.7451\n",
      "\n",
      "Epoch 00005: saving model to E:Dataset_Final(March)/Checkpoints/Level_1/Epoch_41/weights-improvement- 5-0.75.hdf5\n",
      "Epoch 6/30\n",
      "101/101 [==============================] - 4s 44ms/step - loss: 0.8526 - acc: 0.7228 - val_loss: 1.0203 - val_acc: 0.6863\n",
      "\n",
      "Epoch 00006: saving model to E:Dataset_Final(March)/Checkpoints/Level_1/Epoch_41/weights-improvement- 6-0.69.hdf5\n",
      "Epoch 7/30\n",
      "101/101 [==============================] - 4s 44ms/step - loss: 0.5123 - acc: 0.7921 - val_loss: 0.5873 - val_acc: 0.7451\n",
      "\n",
      "Epoch 00007: saving model to E:Dataset_Final(March)/Checkpoints/Level_1/Epoch_41/weights-improvement- 7-0.75.hdf5\n",
      "Epoch 8/30\n",
      "101/101 [==============================] - 4s 44ms/step - loss: 0.4312 - acc: 0.8317 - val_loss: 0.6179 - val_acc: 0.8039\n",
      "\n",
      "Epoch 00008: saving model to E:Dataset_Final(March)/Checkpoints/Level_1/Epoch_41/weights-improvement- 8-0.80.hdf5\n",
      "Epoch 9/30\n",
      "101/101 [==============================] - 4s 44ms/step - loss: 0.3436 - acc: 0.8911 - val_loss: 0.5468 - val_acc: 0.8627\n",
      "\n",
      "Epoch 00009: saving model to E:Dataset_Final(March)/Checkpoints/Level_1/Epoch_41/weights-improvement- 9-0.86.hdf5\n",
      "Epoch 10/30\n",
      "101/101 [==============================] - 4s 44ms/step - loss: 0.3399 - acc: 0.9010 - val_loss: 0.6140 - val_acc: 0.8431\n",
      "\n",
      "Epoch 00010: saving model to E:Dataset_Final(March)/Checkpoints/Level_1/Epoch_41/weights-improvement-10-0.84.hdf5\n",
      "Epoch 11/30\n",
      "101/101 [==============================] - 4s 44ms/step - loss: 0.2253 - acc: 0.9406 - val_loss: 0.4282 - val_acc: 0.8824\n",
      "\n",
      "Epoch 00011: saving model to E:Dataset_Final(March)/Checkpoints/Level_1/Epoch_41/weights-improvement-11-0.88.hdf5\n",
      "Epoch 12/30\n",
      "101/101 [==============================] - 4s 44ms/step - loss: 0.1826 - acc: 0.9208 - val_loss: 0.4495 - val_acc: 0.9020\n",
      "\n",
      "Epoch 00012: saving model to E:Dataset_Final(March)/Checkpoints/Level_1/Epoch_41/weights-improvement-12-0.90.hdf5\n",
      "Epoch 13/30\n",
      "101/101 [==============================] - 5s 45ms/step - loss: 0.2146 - acc: 0.9208 - val_loss: 0.2726 - val_acc: 0.8824\n",
      "\n",
      "Epoch 00013: saving model to E:Dataset_Final(March)/Checkpoints/Level_1/Epoch_41/weights-improvement-13-0.88.hdf5\n",
      "Epoch 14/30\n",
      "101/101 [==============================] - 4s 44ms/step - loss: 0.1230 - acc: 0.9604 - val_loss: 0.2529 - val_acc: 0.9804\n",
      "\n",
      "Epoch 00014: saving model to E:Dataset_Final(March)/Checkpoints/Level_1/Epoch_41/weights-improvement-14-0.98.hdf5\n",
      "Epoch 15/30\n",
      "101/101 [==============================] - 4s 45ms/step - loss: 0.1100 - acc: 0.9703 - val_loss: 0.0761 - val_acc: 1.0000\n",
      "\n",
      "Epoch 00015: saving model to E:Dataset_Final(March)/Checkpoints/Level_1/Epoch_41/weights-improvement-15-1.00.hdf5\n",
      "Epoch 16/30\n",
      "101/101 [==============================] - 4s 44ms/step - loss: 0.1018 - acc: 0.9703 - val_loss: 0.0581 - val_acc: 1.0000\n",
      "\n",
      "Epoch 00016: saving model to E:Dataset_Final(March)/Checkpoints/Level_1/Epoch_41/weights-improvement-16-1.00.hdf5\n",
      "Epoch 17/30\n",
      "101/101 [==============================] - 4s 44ms/step - loss: 0.0877 - acc: 0.9802 - val_loss: 0.2520 - val_acc: 0.9412\n",
      "\n",
      "Epoch 00017: saving model to E:Dataset_Final(March)/Checkpoints/Level_1/Epoch_41/weights-improvement-17-0.94.hdf5\n",
      "Epoch 18/30\n",
      "101/101 [==============================] - 4s 44ms/step - loss: 0.0307 - acc: 0.9901 - val_loss: 0.0520 - val_acc: 1.0000\n",
      "\n",
      "Epoch 00018: saving model to E:Dataset_Final(March)/Checkpoints/Level_1/Epoch_41/weights-improvement-18-1.00.hdf5\n",
      "Epoch 19/30\n",
      "101/101 [==============================] - 4s 44ms/step - loss: 0.0467 - acc: 0.9901 - val_loss: 0.0839 - val_acc: 0.9608\n",
      "\n",
      "Epoch 00019: saving model to E:Dataset_Final(March)/Checkpoints/Level_1/Epoch_41/weights-improvement-19-0.96.hdf5\n",
      "Epoch 20/30\n",
      "101/101 [==============================] - 4s 44ms/step - loss: 0.0281 - acc: 0.9802 - val_loss: 0.0898 - val_acc: 0.9608\n",
      "\n",
      "Epoch 00020: saving model to E:Dataset_Final(March)/Checkpoints/Level_1/Epoch_41/weights-improvement-20-0.96.hdf5\n",
      "Epoch 21/30\n",
      "101/101 [==============================] - 4s 44ms/step - loss: 0.0080 - acc: 1.0000 - val_loss: 0.0894 - val_acc: 0.9608\n",
      "\n",
      "Epoch 00021: saving model to E:Dataset_Final(March)/Checkpoints/Level_1/Epoch_41/weights-improvement-21-0.96.hdf5\n",
      "Epoch 22/30\n",
      "101/101 [==============================] - 4s 44ms/step - loss: 0.0101 - acc: 1.0000 - val_loss: 0.1156 - val_acc: 0.9608\n",
      "\n",
      "Epoch 00022: saving model to E:Dataset_Final(March)/Checkpoints/Level_1/Epoch_41/weights-improvement-22-0.96.hdf5\n",
      "Epoch 23/30\n",
      "101/101 [==============================] - 4s 44ms/step - loss: 0.0378 - acc: 0.9901 - val_loss: 0.1594 - val_acc: 0.9412\n",
      "\n",
      "Epoch 00023: saving model to E:Dataset_Final(March)/Checkpoints/Level_1/Epoch_41/weights-improvement-23-0.94.hdf5\n",
      "Epoch 24/30\n",
      "101/101 [==============================] - 5s 45ms/step - loss: 0.0059 - acc: 1.0000 - val_loss: 0.0354 - val_acc: 1.0000\n",
      "\n",
      "Epoch 00024: saving model to E:Dataset_Final(March)/Checkpoints/Level_1/Epoch_41/weights-improvement-24-1.00.hdf5\n",
      "Epoch 25/30\n",
      "101/101 [==============================] - 4s 45ms/step - loss: 0.0512 - acc: 0.9703 - val_loss: 0.0674 - val_acc: 0.9608\n",
      "\n",
      "Epoch 00025: saving model to E:Dataset_Final(March)/Checkpoints/Level_1/Epoch_41/weights-improvement-25-0.96.hdf5\n",
      "Epoch 26/30\n",
      "101/101 [==============================] - 4s 44ms/step - loss: 0.0025 - acc: 1.0000 - val_loss: 0.0945 - val_acc: 0.9608\n",
      "\n",
      "Epoch 00026: saving model to E:Dataset_Final(March)/Checkpoints/Level_1/Epoch_41/weights-improvement-26-0.96.hdf5\n",
      "Epoch 27/30\n",
      "101/101 [==============================] - 4s 44ms/step - loss: 0.0028 - acc: 1.0000 - val_loss: 0.0099 - val_acc: 1.0000\n",
      "\n",
      "Epoch 00027: saving model to E:Dataset_Final(March)/Checkpoints/Level_1/Epoch_41/weights-improvement-27-1.00.hdf5\n",
      "Epoch 28/30\n",
      "101/101 [==============================] - 5s 45ms/step - loss: 0.0089 - acc: 1.0000 - val_loss: 0.0089 - val_acc: 1.0000\n",
      "\n",
      "Epoch 00028: saving model to E:Dataset_Final(March)/Checkpoints/Level_1/Epoch_41/weights-improvement-28-1.00.hdf5\n",
      "Epoch 29/30\n",
      "101/101 [==============================] - 5s 45ms/step - loss: 0.0066 - acc: 1.0000 - val_loss: 0.0053 - val_acc: 1.0000\n",
      "\n",
      "Epoch 00029: saving model to E:Dataset_Final(March)/Checkpoints/Level_1/Epoch_41/weights-improvement-29-1.00.hdf5\n",
      "Epoch 30/30\n",
      "101/101 [==============================] - 4s 44ms/step - loss: 4.1591e-04 - acc: 1.0000 - val_loss: 0.0190 - val_acc: 0.9804\n",
      "\n",
      "Epoch 00030: saving model to E:Dataset_Final(March)/Checkpoints/Level_1/Epoch_41/weights-improvement-30-0.98.hdf5\n"
     ]
    }
   ],
   "source": [
    "hist=model.fit(x_train, y_train, \n",
    "               batch_size=batch_size,\n",
    "               epochs=epochs,\n",
    "               validation_data=(x_test, y_test),\n",
    "               callbacks=[checkpoint]\n",
    "               )"
   ]
  },
  {
   "cell_type": "code",
   "execution_count": null,
   "metadata": {
    "collapsed": true
   },
   "outputs": [],
   "source": [
    "score=model.evaluate(x_test, y_test)"
   ]
  },
  {
   "cell_type": "code",
   "execution_count": null,
   "metadata": {
    "collapsed": true
   },
   "outputs": [],
   "source": [
    "score[1]"
   ]
  },
  {
   "cell_type": "code",
   "execution_count": null,
   "metadata": {
    "collapsed": true
   },
   "outputs": [],
   "source": [
    "y_pred=model.predict(x_test)# for dataset of 12 characters\n",
    "print (y_pred)\n",
    "y_pred=numpy.argmax(y_pred, axis=1)\n",
    "print (y_pred)"
   ]
  },
  {
   "cell_type": "code",
   "execution_count": 185,
   "metadata": {
    "collapsed": true
   },
   "outputs": [],
   "source": [
    "model.load_weights(\"E:Dataset_Final(March)/Checkpoints/Level_1/Epoch_41/weights-improvement-14-0.98.hdf5\")# f1"
   ]
  },
  {
   "cell_type": "code",
   "execution_count": 186,
   "metadata": {},
   "outputs": [
    {
     "name": "stdout",
     "output_type": "stream",
     "text": [
      "51/51 [==============================] - 1s 11ms/step\n"
     ]
    }
   ],
   "source": [
    "score=model.evaluate(x_test, y_test)"
   ]
  },
  {
   "cell_type": "code",
   "execution_count": 187,
   "metadata": {},
   "outputs": [
    {
     "data": {
      "text/plain": [
       "0.98039215686274506"
      ]
     },
     "execution_count": 187,
     "metadata": {},
     "output_type": "execute_result"
    }
   ],
   "source": [
    "score[1]"
   ]
  },
  {
   "cell_type": "code",
   "execution_count": 188,
   "metadata": {},
   "outputs": [
    {
     "name": "stdout",
     "output_type": "stream",
     "text": [
      "[[  8.56340332e-10   3.57269023e-08   5.51229423e-05 ...,   6.33863584e-09\n",
      "    7.03464877e-07   5.64237084e-08]\n",
      " [  3.62106417e-12   2.62546807e-09   3.85350809e-08 ...,   4.68423607e-12\n",
      "    3.56244234e-09   3.04301806e-09]\n",
      " [  2.36558689e-12   8.08804259e-08   4.07387191e-08 ...,   5.00119147e-11\n",
      "    9.88002782e-08   4.84607521e-10]\n",
      " ..., \n",
      " [  1.93800894e-13   1.02898613e-13   5.18864799e-05 ...,   1.75349557e-09\n",
      "    2.58499836e-06   9.83416890e-11]\n",
      " [  2.66346767e-08   1.46851555e-04   2.63521302e-04 ...,   1.19189145e-02\n",
      "    1.24375540e-04   5.40804249e-05]\n",
      " [  1.23272457e-14   3.74155629e-15   9.99994040e-01 ...,   1.36864777e-08\n",
      "    3.58358889e-08   1.06472234e-10]]\n",
      "[19 10 28 29  6 28 11 36 15 37 19  4  2 25  5 24 31 29 18 17 14 16  4 21  1\n",
      " 22 12 20 21 23 37 17 12 33  5  9  2 13 32 15 23 11 27 22 10 14 27 16 20 11\n",
      "  2]\n"
     ]
    }
   ],
   "source": [
    "y_pred=model.predict(x_test)# for dataset of 12 characters\n",
    "print (y_pred)\n",
    "y_pred=numpy.argmax(y_pred, axis=1)\n",
    "print (y_pred)"
   ]
  },
  {
   "cell_type": "code",
   "execution_count": 189,
   "metadata": {},
   "outputs": [
    {
     "name": "stdout",
     "output_type": "stream",
     "text": [
      "[[1 0 0 0 0 0 0 0 0 0 0 0 0 0 0 0 0 0 0 0 0 0 0 0 0 0 0 0 0 0 0]\n",
      " [0 2 0 0 0 0 0 0 0 0 0 0 0 0 0 0 0 0 0 0 0 0 0 0 0 0 0 0 0 0 0]\n",
      " [0 1 0 0 0 0 0 0 0 0 0 0 0 0 0 0 0 0 0 0 0 0 0 0 0 0 0 0 0 0 0]\n",
      " [0 0 0 2 0 0 0 0 0 0 0 0 0 0 0 0 0 0 0 0 0 0 0 0 0 0 0 0 0 0 0]\n",
      " [0 0 0 0 2 0 0 0 0 0 0 0 0 0 0 0 0 0 0 0 0 0 0 0 0 0 0 0 0 0 0]\n",
      " [0 0 0 0 0 1 0 0 0 0 0 0 0 0 0 0 0 0 0 0 0 0 0 0 0 0 0 0 0 0 0]\n",
      " [0 0 0 0 0 0 1 0 0 0 0 0 0 0 0 0 0 0 0 0 0 0 0 0 0 0 0 0 0 0 0]\n",
      " [0 0 0 0 0 0 0 2 0 0 0 0 0 0 0 0 0 0 0 0 0 0 0 0 0 0 0 0 0 0 0]\n",
      " [0 0 0 0 0 0 0 0 3 0 0 0 0 0 0 0 0 0 0 0 0 0 0 0 0 0 0 0 0 0 0]\n",
      " [0 0 0 0 0 0 0 0 0 2 0 0 0 0 0 0 0 0 0 0 0 0 0 0 0 0 0 0 0 0 0]\n",
      " [0 0 0 0 0 0 0 0 0 0 1 0 0 0 0 0 0 0 0 0 0 0 0 0 0 0 0 0 0 0 0]\n",
      " [0 0 0 0 0 0 0 0 0 0 0 2 0 0 0 0 0 0 0 0 0 0 0 0 0 0 0 0 0 0 0]\n",
      " [0 0 0 0 0 0 0 0 0 0 0 0 2 0 0 0 0 0 0 0 0 0 0 0 0 0 0 0 0 0 0]\n",
      " [0 0 0 0 0 0 0 0 0 0 0 0 0 2 0 0 0 0 0 0 0 0 0 0 0 0 0 0 0 0 0]\n",
      " [0 0 0 0 0 0 0 0 0 0 0 0 0 0 2 0 0 0 0 0 0 0 0 0 0 0 0 0 0 0 0]\n",
      " [0 0 0 0 0 0 0 0 0 0 0 0 0 0 0 1 0 0 0 0 0 0 0 0 0 0 0 0 0 0 0]\n",
      " [0 0 0 0 0 0 0 0 0 0 0 0 0 0 0 0 2 0 0 0 0 0 0 0 0 0 0 0 0 0 0]\n",
      " [0 0 0 0 0 0 0 0 0 0 0 0 0 0 0 0 0 2 0 0 0 0 0 0 0 0 0 0 0 0 0]\n",
      " [0 0 0 0 0 0 0 0 0 0 0 0 0 0 0 0 0 0 2 0 0 0 0 0 0 0 0 0 0 0 0]\n",
      " [0 0 0 0 0 0 0 0 0 0 0 0 0 0 0 0 0 0 0 2 0 0 0 0 0 0 0 0 0 0 0]\n",
      " [0 0 0 0 0 0 0 0 0 0 0 0 0 0 0 0 0 0 0 0 2 0 0 0 0 0 0 0 0 0 0]\n",
      " [0 0 0 0 0 0 0 0 0 0 0 0 0 0 0 0 0 0 0 0 0 1 0 0 0 0 0 0 0 0 0]\n",
      " [0 0 0 0 0 0 0 0 0 0 0 0 0 0 0 0 0 0 0 0 0 0 1 0 0 0 0 0 0 0 0]\n",
      " [0 0 0 0 0 0 0 0 0 0 0 0 0 0 0 0 0 0 0 0 0 0 0 2 0 0 0 0 0 0 0]\n",
      " [0 0 0 0 0 0 0 0 0 0 0 0 0 0 0 0 0 0 0 0 0 0 0 0 2 0 0 0 0 0 0]\n",
      " [0 0 0 0 0 0 0 0 0 0 0 0 0 0 0 0 0 0 0 0 0 0 0 0 0 2 0 0 0 0 0]\n",
      " [0 0 0 0 0 0 0 0 0 0 0 0 0 0 0 0 0 0 0 0 0 0 0 0 0 0 1 0 0 0 0]\n",
      " [0 0 0 0 0 0 0 0 0 0 0 0 0 0 0 0 0 0 0 0 0 0 0 0 0 0 0 1 0 0 0]\n",
      " [0 0 0 0 0 0 0 0 0 0 0 0 0 0 0 0 0 0 0 0 0 0 0 0 0 0 0 0 1 0 0]\n",
      " [0 0 0 0 0 0 0 0 0 0 0 0 0 0 0 0 0 0 0 0 0 0 0 0 0 0 0 0 0 1 0]\n",
      " [0 0 0 0 0 0 0 0 0 0 0 0 0 0 0 0 0 0 0 0 0 0 0 0 0 0 0 0 0 0 2]]\n"
     ]
    }
   ],
   "source": [
    "print(confusion_matrix(numpy.argmax(y_test, axis=1),y_pred))"
   ]
  },
  {
   "cell_type": "code",
   "execution_count": 190,
   "metadata": {},
   "outputs": [
    {
     "name": "stdout",
     "output_type": "stream",
     "text": [
      "             precision    recall  f1-score   support\n",
      "\n",
      "          1       1.00      1.00      1.00         1\n",
      "          2       0.67      1.00      0.80         2\n",
      "          3       0.00      0.00      0.00         1\n",
      "          4       1.00      1.00      1.00         2\n",
      "          5       1.00      1.00      1.00         2\n",
      "          6       1.00      1.00      1.00         1\n",
      "          9       1.00      1.00      1.00         1\n",
      "         10       1.00      1.00      1.00         2\n",
      "         11       1.00      1.00      1.00         3\n",
      "         12       1.00      1.00      1.00         2\n",
      "         13       1.00      1.00      1.00         1\n",
      "         14       1.00      1.00      1.00         2\n",
      "         15       1.00      1.00      1.00         2\n",
      "         16       1.00      1.00      1.00         2\n",
      "         17       1.00      1.00      1.00         2\n",
      "         18       1.00      1.00      1.00         1\n",
      "         19       1.00      1.00      1.00         2\n",
      "         20       1.00      1.00      1.00         2\n",
      "         21       1.00      1.00      1.00         2\n",
      "         22       1.00      1.00      1.00         2\n",
      "         23       1.00      1.00      1.00         2\n",
      "         24       1.00      1.00      1.00         1\n",
      "         25       1.00      1.00      1.00         1\n",
      "         27       1.00      1.00      1.00         2\n",
      "         28       1.00      1.00      1.00         2\n",
      "         29       1.00      1.00      1.00         2\n",
      "         31       1.00      1.00      1.00         1\n",
      "         32       1.00      1.00      1.00         1\n",
      "         33       1.00      1.00      1.00         1\n",
      "         36       1.00      1.00      1.00         1\n",
      "         37       1.00      1.00      1.00         2\n",
      "\n",
      "avg / total       0.97      0.98      0.97        51\n",
      "\n"
     ]
    },
    {
     "name": "stderr",
     "output_type": "stream",
     "text": [
      "C:\\ProgramData\\Anaconda3\\lib\\site-packages\\sklearn\\metrics\\classification.py:1135: UndefinedMetricWarning: Precision and F-score are ill-defined and being set to 0.0 in labels with no predicted samples.\n",
      "  'precision', 'predicted', average, warn_for)\n"
     ]
    }
   ],
   "source": [
    "\n",
    "print (classification_report(numpy.argmax(y_test, axis=1), y_pred))"
   ]
  },
  {
   "cell_type": "code",
   "execution_count": 182,
   "metadata": {
    "collapsed": true
   },
   "outputs": [],
   "source": [
    "import pandas\n",
    "\n",
    "pandas.DataFrame(hist.history).to_csv(\"E:Dataset_Final(March)/Checkpoints/Level_1/Epoch_41/Figure/History-980.csv\")        \n",
    "# visualizing losses and accuracy\n",
    "train_loss=hist.history['loss']\n",
    "val_loss=hist.history['val_loss']\n",
    "train_acc=hist.history['acc']\n",
    "val_acc=hist.history['val_acc']\n",
    "xc=range(epochs)"
   ]
  },
  {
   "cell_type": "code",
   "execution_count": 183,
   "metadata": {},
   "outputs": [
    {
     "name": "stdout",
     "output_type": "stream",
     "text": [
      "['bmh', 'classic', 'dark_background', 'fast', 'fivethirtyeight', 'ggplot', 'grayscale', 'seaborn-bright', 'seaborn-colorblind', 'seaborn-dark-palette', 'seaborn-dark', 'seaborn-darkgrid', 'seaborn-deep', 'seaborn-muted', 'seaborn-notebook', 'seaborn-paper', 'seaborn-pastel', 'seaborn-poster', 'seaborn-talk', 'seaborn-ticks', 'seaborn-white', 'seaborn-whitegrid', 'seaborn', 'Solarize_Light2', '_classic_test']\n"
     ]
    }
   ],
   "source": [
    "import matplotlib.pyplot as plt\n",
    "import matplotlib\n",
    "from matplotlib.backends.backend_pdf import PdfPages\n",
    "\n",
    "pp=PdfPages(\"E:Dataset_Final(March)/Checkpoints/Level_1/Epoch_41/Figure/Loss-980.pdf\")\n",
    "plt.figure(1,figsize=(7,5))\n",
    "plt.plot(xc,train_loss)\n",
    "plt.plot(xc,val_loss)\n",
    "plt.xlabel('Epochs')\n",
    "plt.ylabel('Loss')\n",
    "plt.title('train_loss vs val_loss')\n",
    "plt.grid(True)\n",
    "plt.legend(['train','val'])\n",
    "print (plt.style.available)\n",
    "plt.style.use(['classic'])\n",
    "plt.savefig(pp, format='pdf')\n",
    "pp.close()"
   ]
  },
  {
   "cell_type": "code",
   "execution_count": 184,
   "metadata": {
    "collapsed": true
   },
   "outputs": [],
   "source": [
    "pp=PdfPages(\"E:Dataset_Final(March)/Checkpoints/Level_1/Epoch_41/Figure/Accuracy-980.pdf\")\n",
    "plt.figure(2,figsize=(7,5))\n",
    "plt.plot(xc,train_acc)\n",
    "plt.plot(xc,val_acc)\n",
    "plt.xlabel('Epochs')\n",
    "plt.ylabel('Accuracy')\n",
    "plt.title('train_acc vs val_acc')\n",
    "plt.grid(True)\n",
    "plt.legend(['train','val'],loc=4)\n",
    "#print plt.style.available # use bmh, classic,ggplot for big pictures\n",
    "plt.style.use(['bmh'])\n",
    "plt.savefig(pp, format='pdf')\n",
    "pp.close()"
   ]
  },
  {
   "cell_type": "code",
   "execution_count": null,
   "metadata": {
    "collapsed": true
   },
   "outputs": [],
   "source": []
  }
 ],
 "metadata": {
  "kernelspec": {
   "display_name": "Python 3",
   "language": "python",
   "name": "python3"
  },
  "language_info": {
   "codemirror_mode": {
    "name": "ipython",
    "version": 3
   },
   "file_extension": ".py",
   "mimetype": "text/x-python",
   "name": "python",
   "nbconvert_exporter": "python",
   "pygments_lexer": "ipython3",
   "version": "3.6.3"
  }
 },
 "nbformat": 4,
 "nbformat_minor": 2
}
