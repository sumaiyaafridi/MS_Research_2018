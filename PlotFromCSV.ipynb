{
 "cells": [
  {
   "cell_type": "code",
   "execution_count": 1,
   "metadata": {
    "collapsed": true
   },
   "outputs": [],
   "source": [
    "import pandas\n",
    "\n",
    "history=pandas.read_csv(\"E:/FinalResult-Two/History-97.csv\",sep=',')        \n",
    "# visualizing losses and accuracy\n",
    "train_loss=history['loss']\n",
    "val_loss=history['val_loss']\n",
    "train_acc=history['acc']\n",
    "val_acc=history['val_acc']\n",
    "xc=range(25)"
   ]
  },
  {
   "cell_type": "code",
   "execution_count": 2,
   "metadata": {},
   "outputs": [
    {
     "name": "stdout",
     "output_type": "stream",
     "text": [
      "['bmh', 'classic', 'dark_background', 'fast', 'fivethirtyeight', 'ggplot', 'grayscale', 'seaborn-bright', 'seaborn-colorblind', 'seaborn-dark-palette', 'seaborn-dark', 'seaborn-darkgrid', 'seaborn-deep', 'seaborn-muted', 'seaborn-notebook', 'seaborn-paper', 'seaborn-pastel', 'seaborn-poster', 'seaborn-talk', 'seaborn-ticks', 'seaborn-white', 'seaborn-whitegrid', 'seaborn', 'Solarize_Light2', '_classic_test']\n"
     ]
    }
   ],
   "source": [
    "import matplotlib.pyplot as plt\n",
    "import matplotlib\n",
    "from matplotlib.backends.backend_pdf import PdfPages\n",
    "\n",
    "pp=PdfPages(\"E:FinalResult-Two/Loss-1.pdf\")\n",
    "plt.figure(1,figsize=(7,5))\n",
    "plt.plot(xc,train_loss)\n",
    "plt.plot(xc,val_loss)\n",
    "plt.xlabel('Epochs')\n",
    "plt.ylabel('Loss')\n",
    "plt.title('Training_loss vs Validation_loss')\n",
    "plt.grid(True)\n",
    "plt.legend(['Training','Validation'])\n",
    "print (plt.style.available)\n",
    "plt.style.use(['bmh'])\n",
    "plt.savefig(pp, format='pdf')\n",
    "pp.close()"
   ]
  },
  {
   "cell_type": "code",
   "execution_count": 3,
   "metadata": {
    "collapsed": true
   },
   "outputs": [],
   "source": [
    "pp=PdfPages(\"E:FinalResult-Two/Accuracy-1.pdf\")\n",
    "plt.figure(2,figsize=(7,5))\n",
    "plt.plot(xc,train_acc)\n",
    "plt.plot(xc,val_acc)\n",
    "plt.xlabel('Epochs')\n",
    "plt.ylabel('Accuracy')\n",
    "plt.title('Training_Accuracy vs Validation_accuracy')\n",
    "plt.grid(True)\n",
    "plt.legend(['Training','Validation'],loc=4)\n",
    "#print plt.style.available # use bmh, classic,ggplot for big pictures\n",
    "plt.style.use(['bmh'])\n",
    "plt.savefig(pp, format='pdf')\n",
    "pp.close()"
   ]
  },
  {
   "cell_type": "code",
   "execution_count": 8,
   "metadata": {},
   "outputs": [
    {
     "ename": "ModuleNotFoundError",
     "evalue": "No module named 'plotly'",
     "output_type": "error",
     "traceback": [
      "\u001b[1;31m---------------------------------------------------------------------------\u001b[0m",
      "\u001b[1;31mModuleNotFoundError\u001b[0m                       Traceback (most recent call last)",
      "\u001b[1;32m<ipython-input-8-78a2dddde8e4>\u001b[0m in \u001b[0;36m<module>\u001b[1;34m()\u001b[0m\n\u001b[1;32m----> 1\u001b[1;33m \u001b[1;32mimport\u001b[0m \u001b[0mplotly\u001b[0m\u001b[1;33m.\u001b[0m\u001b[0mplotly\u001b[0m \u001b[1;32mas\u001b[0m \u001b[0mpy\u001b[0m\u001b[1;33m\u001b[0m\u001b[0m\n\u001b[0m\u001b[0;32m      2\u001b[0m \u001b[1;32mimport\u001b[0m \u001b[0mplotly\u001b[0m\u001b[1;33m.\u001b[0m\u001b[0mgraph_objs\u001b[0m \u001b[1;32mas\u001b[0m \u001b[0mgo\u001b[0m\u001b[1;33m\u001b[0m\u001b[0m\n\u001b[0;32m      3\u001b[0m \u001b[1;33m\u001b[0m\u001b[0m\n\u001b[0;32m      4\u001b[0m trace1 = go.Scatter(\n\u001b[0;32m      5\u001b[0m     x=[1, 2, 3, 4, 5,\n",
      "\u001b[1;31mModuleNotFoundError\u001b[0m: No module named 'plotly'"
     ]
    }
   ],
   "source": [
    "# import plotly.plotly as py\n",
    "# import plotly.graph_objs as go\n",
    "\n",
    "# trace1 = go.Scatter(\n",
    "#     x=[1, 2, 3, 4, 5,\n",
    "#        6, 7, 8, 9, 10,\n",
    "#        11, 12, 13, 14, 15],\n",
    "#     y=[10, 20, None, 15, 10,\n",
    "#        5, 15, None, 20, 10,\n",
    "#        10, 15, 25, 20, 10],\n",
    "#     name = '<b>No</b> Gaps', # Style name/legend entry with html tags\n",
    "#     connectgaps=True\n",
    "# )\n",
    "# trace2 = go.Scatter(\n",
    "#     x=[1, 2, 3, 4, 5,\n",
    "#        6, 7, 8, 9, 10,\n",
    "#        11, 12, 13, 14, 15],\n",
    "#     y=[5, 15, None, 10, 5,\n",
    "#        0, 10, None, 15, 5,\n",
    "#        5, 10, 20, 15, 5],\n",
    "#     name = 'Gaps',\n",
    "# )\n",
    "\n",
    "# data = [trace1, trace2]\n",
    "\n",
    "# fig = dict(data=data)\n",
    "# py.iplot(fig, filename='simple-connectgaps')"
   ]
  },
  {
   "cell_type": "code",
   "execution_count": null,
   "metadata": {
    "collapsed": true
   },
   "outputs": [],
   "source": []
  }
 ],
 "metadata": {
  "kernelspec": {
   "display_name": "Python 3",
   "language": "python",
   "name": "python3"
  },
  "language_info": {
   "codemirror_mode": {
    "name": "ipython",
    "version": 3
   },
   "file_extension": ".py",
   "mimetype": "text/x-python",
   "name": "python",
   "nbconvert_exporter": "python",
   "pygments_lexer": "ipython3",
   "version": "3.6.3"
  }
 },
 "nbformat": 4,
 "nbformat_minor": 2
}
