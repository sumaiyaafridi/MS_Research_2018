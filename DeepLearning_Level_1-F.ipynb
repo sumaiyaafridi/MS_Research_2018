{
 "cells": [
  {
   "cell_type": "code",
   "execution_count": 1,
   "metadata": {
    "collapsed": true
   },
   "outputs": [],
   "source": [
    "import numpy \n",
    "numpy.random.seed(1337)"
   ]
  },
  {
   "cell_type": "code",
   "execution_count": 2,
   "metadata": {},
   "outputs": [
    {
     "name": "stderr",
     "output_type": "stream",
     "text": [
      "Using TensorFlow backend.\n"
     ]
    }
   ],
   "source": [
    "import h5py\n",
    "import keras\n",
    "from keras.models import Sequential, Model\n",
    "from keras.layers import Dense, Activation, Flatten, Input, MaxPooling2D, Dropout, AveragePooling2D, GlobalAveragePooling2D\n",
    "from keras.layers import Conv2D, Embedding\n",
    "from keras.optimizers import SGD, rmsprop\n",
    "from sklearn.metrics import classification_report, confusion_matrix, precision_recall_fscore_support, accuracy_score, f1_score, precision_score, recall_score\n",
    "from sklearn.utils import class_weight\n",
    "from sklearn.utils.class_weight import compute_class_weight\n",
    "from sklearn.preprocessing import LabelEncoder\n",
    "from keras.layers.advanced_activations import LeakyReLU, PReLU, ELU\n",
    "from keras_contrib.layers.advanced_activations import PELU, SReLU"
   ]
  },
  {
   "cell_type": "code",
   "execution_count": 3,
   "metadata": {
    "collapsed": true
   },
   "outputs": [],
   "source": [
    "batch_size=10\n",
    "num_classes=37\n",
    "epochs=25"
   ]
  },
  {
   "cell_type": "code",
   "execution_count": 4,
   "metadata": {
    "collapsed": true
   },
   "outputs": [],
   "source": [
    "import os\n",
    "from PIL import Image\n",
    "import matplotlib.image as mpimg"
   ]
  },
  {
   "cell_type": "code",
   "execution_count": 5,
   "metadata": {},
   "outputs": [],
   "source": [
    "os.chdir(\"E:\");\n",
    "#path=\"E:/Dataset_Final(March)/dum\";\n",
    "path=\"E:/Dummy/Level_1-12\";\n",
    "#path=\"E:/Dataset_Final(April)/six\";\n",
    "classes=os.listdir(path)\n",
    "x=[]#Datapoints \n",
    "y=[]#labels \n",
    "for fol in classes:\n",
    "    imgfiles=os.listdir(path+u'\\\\'+fol);\n",
    "    for img in imgfiles:\n",
    "        im=mpimg.imread(path+u'\\\\'+fol+u'\\\\'+img);\n",
    "        x.append(im)\n",
    "        y.append(fol)\n",
    "x=numpy.array(x)\n",
    "y=numpy.array(y)"
   ]
  },
  {
   "cell_type": "code",
   "execution_count": 6,
   "metadata": {},
   "outputs": [
    {
     "name": "stdout",
     "output_type": "stream",
     "text": [
      "(285, 100, 100)\n",
      "(285,)\n"
     ]
    }
   ],
   "source": [
    "print(x.shape)\n",
    "print(y.shape)\n",
    "x=x.reshape((-1,100,100,1))"
   ]
  },
  {
   "cell_type": "code",
   "execution_count": 7,
   "metadata": {
    "collapsed": true
   },
   "outputs": [],
   "source": [
    "n=x.shape[0]\n",
    "randomize=numpy.arange(n)\n",
    "numpy.random.shuffle(randomize)\n",
    "randomize\n",
    "x=x[randomize]\n",
    "y=y[randomize]"
   ]
  },
  {
   "cell_type": "code",
   "execution_count": 8,
   "metadata": {},
   "outputs": [
    {
     "name": "stdout",
     "output_type": "stream",
     "text": [
      "(190, 100, 100, 1)\n",
      "(190,)\n",
      "(95, 100, 100, 1)\n",
      "(95,)\n"
     ]
    }
   ],
   "source": [
    "test_split=round(n*2/3)\n",
    "x_train=x[:test_split]\n",
    "y_train=y[:test_split]\n",
    "x_test=x[test_split:]\n",
    "y_test=y[test_split:]\n",
    "\n",
    "print(x_train.shape)\n",
    "print(y_train.shape)\n",
    "print(x_test.shape)\n",
    "print(y_test.shape)"
   ]
  },
  {
   "cell_type": "code",
   "execution_count": 9,
   "metadata": {
    "scrolled": true
   },
   "outputs": [
    {
     "data": {
      "text/plain": [
       "array([[ 0.,  0.,  0.,  0.,  0.,  0.,  0.,  0.,  0.,  0.,  0.,  0.,  0.,\n",
       "         0.,  0.,  0.,  0.,  0.,  0.,  0.,  0.,  0.,  0.,  0.,  0.,  0.,\n",
       "         0.,  0.,  0.,  0.,  0.,  0.,  0.,  0.,  1.,  0.,  0.]])"
      ]
     },
     "execution_count": 9,
     "metadata": {},
     "output_type": "execute_result"
    }
   ],
   "source": [
    "y_train=keras.utils.to_categorical(y_train, num_classes)\n",
    "y_test=keras.utils.to_categorical(y_test, num_classes)\n",
    "y_train[:1]"
   ]
  },
  {
   "cell_type": "code",
   "execution_count": 10,
   "metadata": {
    "collapsed": true
   },
   "outputs": [],
   "source": [
    "# from keras import applications\n",
    "# model = applications.VGG16(weights='imagenet', include_top=False)\n",
    "# print('Model loaded.')"
   ]
  },
  {
   "cell_type": "code",
   "execution_count": 46,
   "metadata": {},
   "outputs": [],
   "source": [
    "# inputs=Input(shape=(100,100,1))\n",
    "\n",
    "# x=Conv2D(16, (8, 8), padding='same')(inputs)\n",
    "# x=SReLU()(x)\n",
    "# x=MaxPooling2D(pool_size=(2,2))(x)\n",
    "\n",
    "\n",
    "# x=Conv2D(32, (6, 6), padding='same')(x)\n",
    "# x=SReLU()(x)\n",
    "# x=MaxPooling2D(pool_size=(2,2))(x)\n",
    "\n",
    "\n",
    "# x=Conv2D(64, (4, 4), padding='same')(x)\n",
    "# x=SReLU()(x)\n",
    "# x=MaxPooling2D(pool_size=(2,2))(x)\n",
    "\n",
    "# x=Conv2D(128, (3, 3), padding='same')(x)\n",
    "# x=SReLU()(x)\n",
    "# x=MaxPooling2D(pool_size=(2,2))(x)\n",
    "# x=Dropout(0.2)(x)\n",
    "# x=Flatten()(x)\n",
    "# x=Dense(num_classes)(x)\n",
    "# output=Activation('softmax')(x)\n",
    "# model=Model([inputs], output)"
   ]
  },
  {
   "cell_type": "code",
   "execution_count": 56,
   "metadata": {
    "collapsed": true
   },
   "outputs": [],
   "source": [
    "inputs=Input(shape=(100,100,1))\n",
    "\n",
    "x=Conv2D(16, (8, 8), padding='same')(inputs)\n",
    "x=SReLU()(x)\n",
    "x=MaxPooling2D(pool_size=(2,2))(x)\n",
    "\n",
    "\n",
    "x=Conv2D(32, (7, 7), padding='same')(x)\n",
    "x=SReLU()(x)\n",
    "x=MaxPooling2D(pool_size=(2,2))(x)\n",
    "\n",
    "\n",
    "x=Conv2D(64, (6, 6), padding='same')(x)\n",
    "x=SReLU()(x)\n",
    "x=MaxPooling2D(pool_size=(2,2))(x)\n",
    "\n",
    "x=Conv2D(128, (3, 3), padding='same')(x)\n",
    "x=SReLU()(x)\n",
    "x=MaxPooling2D(pool_size=(2,2))(x)\n",
    "x=Dropout(0.2)(x)\n",
    "x=Flatten()(x)\n",
    "x=Dense(num_classes)(x)\n",
    "output=Activation('softmax')(x)\n",
    "model=Model([inputs], output)"
   ]
  },
  {
   "cell_type": "code",
   "execution_count": 57,
   "metadata": {},
   "outputs": [
    {
     "name": "stdout",
     "output_type": "stream",
     "text": [
      "_________________________________________________________________\n",
      "Layer (type)                 Output Shape              Param #   \n",
      "=================================================================\n",
      "input_7 (InputLayer)         (None, 100, 100, 1)       0         \n",
      "_________________________________________________________________\n",
      "conv2d_25 (Conv2D)           (None, 100, 100, 16)      1040      \n",
      "_________________________________________________________________\n",
      "s_re_lu_25 (SReLU)           (None, 100, 100, 16)      640000    \n",
      "_________________________________________________________________\n",
      "max_pooling2d_25 (MaxPooling (None, 50, 50, 16)        0         \n",
      "_________________________________________________________________\n",
      "conv2d_26 (Conv2D)           (None, 50, 50, 32)        25120     \n",
      "_________________________________________________________________\n",
      "s_re_lu_26 (SReLU)           (None, 50, 50, 32)        320000    \n",
      "_________________________________________________________________\n",
      "max_pooling2d_26 (MaxPooling (None, 25, 25, 32)        0         \n",
      "_________________________________________________________________\n",
      "conv2d_27 (Conv2D)           (None, 25, 25, 64)        73792     \n",
      "_________________________________________________________________\n",
      "s_re_lu_27 (SReLU)           (None, 25, 25, 64)        160000    \n",
      "_________________________________________________________________\n",
      "max_pooling2d_27 (MaxPooling (None, 12, 12, 64)        0         \n",
      "_________________________________________________________________\n",
      "conv2d_28 (Conv2D)           (None, 12, 12, 128)       73856     \n",
      "_________________________________________________________________\n",
      "s_re_lu_28 (SReLU)           (None, 12, 12, 128)       73728     \n",
      "_________________________________________________________________\n",
      "max_pooling2d_28 (MaxPooling (None, 6, 6, 128)         0         \n",
      "_________________________________________________________________\n",
      "dropout_7 (Dropout)          (None, 6, 6, 128)         0         \n",
      "_________________________________________________________________\n",
      "flatten_7 (Flatten)          (None, 4608)              0         \n",
      "_________________________________________________________________\n",
      "dense_7 (Dense)              (None, 37)                170533    \n",
      "_________________________________________________________________\n",
      "activation_7 (Activation)    (None, 37)                0         \n",
      "=================================================================\n",
      "Total params: 1,538,069\n",
      "Trainable params: 1,538,069\n",
      "Non-trainable params: 0\n",
      "_________________________________________________________________\n"
     ]
    }
   ],
   "source": [
    "model.summary()"
   ]
  },
  {
   "cell_type": "code",
   "execution_count": 58,
   "metadata": {
    "collapsed": true
   },
   "outputs": [],
   "source": [
    "opt=keras.optimizers.RMSprop(lr=1e-3)"
   ]
  },
  {
   "cell_type": "code",
   "execution_count": 59,
   "metadata": {
    "collapsed": true
   },
   "outputs": [],
   "source": [
    "model.compile(loss='categorical_crossentropy', optimizer=opt, metrics=['accuracy'])"
   ]
  },
  {
   "cell_type": "code",
   "execution_count": 60,
   "metadata": {
    "collapsed": true
   },
   "outputs": [],
   "source": [
    "import h5py\n",
    "from keras.callbacks import ModelCheckpoint\n",
    "filepath='E:Dataset_Final(March)/Checkpoints/Level_1/Epoch_41/weights-improvement-{epoch:2d}-{val_acc:.2f}.hdf5'\n",
    "checkpoint=ModelCheckpoint(filepath, monitor='val_acc', verbose=1, mode='max')"
   ]
  },
  {
   "cell_type": "code",
   "execution_count": 61,
   "metadata": {
    "collapsed": true
   },
   "outputs": [],
   "source": [
    "# hist=model.fit_generator(datagen.flow(x_train, y_train,batch_size=batch_size),\n",
    "#                         epochs=epochs,\n",
    "#                         validation_data=(x_test, y_test),\n",
    "#                         callbacks=[checkpoint]\n",
    "#                )"
   ]
  },
  {
   "cell_type": "code",
   "execution_count": 62,
   "metadata": {},
   "outputs": [
    {
     "name": "stdout",
     "output_type": "stream",
     "text": [
      "Train on 190 samples, validate on 95 samples\n",
      "Epoch 1/25\n",
      "190/190 [==============================] - 17s 89ms/step - loss: 3.1667 - acc: 0.1263 - val_loss: 2.4009 - val_acc: 0.2842\n",
      "\n",
      "Epoch 00001: saving model to E:Dataset_Final(March)/Checkpoints/Level_1/Epoch_41/weights-improvement- 1-0.28.hdf5\n",
      "Epoch 2/25\n",
      "190/190 [==============================] - 15s 77ms/step - loss: 1.6757 - acc: 0.4211 - val_loss: 1.2220 - val_acc: 0.5474\n",
      "\n",
      "Epoch 00002: saving model to E:Dataset_Final(March)/Checkpoints/Level_1/Epoch_41/weights-improvement- 2-0.55.hdf5\n",
      "Epoch 3/25\n",
      "190/190 [==============================] - 14s 74ms/step - loss: 0.9697 - acc: 0.6684 - val_loss: 0.8039 - val_acc: 0.6632\n",
      "\n",
      "Epoch 00003: saving model to E:Dataset_Final(March)/Checkpoints/Level_1/Epoch_41/weights-improvement- 3-0.66.hdf5\n",
      "Epoch 4/25\n",
      "190/190 [==============================] - 13s 71ms/step - loss: 0.5988 - acc: 0.7842 - val_loss: 0.7483 - val_acc: 0.7053\n",
      "\n",
      "Epoch 00004: saving model to E:Dataset_Final(March)/Checkpoints/Level_1/Epoch_41/weights-improvement- 4-0.71.hdf5\n",
      "Epoch 5/25\n",
      "190/190 [==============================] - 14s 71ms/step - loss: 0.4336 - acc: 0.8526 - val_loss: 0.6166 - val_acc: 0.7158\n",
      "\n",
      "Epoch 00005: saving model to E:Dataset_Final(March)/Checkpoints/Level_1/Epoch_41/weights-improvement- 5-0.72.hdf5\n",
      "Epoch 6/25\n",
      "190/190 [==============================] - 14s 71ms/step - loss: 0.2936 - acc: 0.9053 - val_loss: 0.4866 - val_acc: 0.8421\n",
      "\n",
      "Epoch 00006: saving model to E:Dataset_Final(March)/Checkpoints/Level_1/Epoch_41/weights-improvement- 6-0.84.hdf5\n",
      "Epoch 7/25\n",
      "190/190 [==============================] - 14s 71ms/step - loss: 0.1901 - acc: 0.9105 - val_loss: 0.2933 - val_acc: 0.9053\n",
      "\n",
      "Epoch 00007: saving model to E:Dataset_Final(March)/Checkpoints/Level_1/Epoch_41/weights-improvement- 7-0.91.hdf5\n",
      "Epoch 8/25\n",
      "190/190 [==============================] - 14s 71ms/step - loss: 0.0922 - acc: 0.9684 - val_loss: 0.2640 - val_acc: 0.9158\n",
      "\n",
      "Epoch 00008: saving model to E:Dataset_Final(March)/Checkpoints/Level_1/Epoch_41/weights-improvement- 8-0.92.hdf5\n",
      "Epoch 9/25\n",
      "190/190 [==============================] - 14s 71ms/step - loss: 0.1338 - acc: 0.9579 - val_loss: 0.6086 - val_acc: 0.7684\n",
      "\n",
      "Epoch 00009: saving model to E:Dataset_Final(March)/Checkpoints/Level_1/Epoch_41/weights-improvement- 9-0.77.hdf5\n",
      "Epoch 10/25\n",
      "190/190 [==============================] - 14s 71ms/step - loss: 0.0516 - acc: 0.9789 - val_loss: 0.2309 - val_acc: 0.9368\n",
      "\n",
      "Epoch 00010: saving model to E:Dataset_Final(March)/Checkpoints/Level_1/Epoch_41/weights-improvement-10-0.94.hdf5\n",
      "Epoch 11/25\n",
      "190/190 [==============================] - 14s 73ms/step - loss: 0.1426 - acc: 0.9789 - val_loss: 0.2883 - val_acc: 0.8842\n",
      "\n",
      "Epoch 00011: saving model to E:Dataset_Final(March)/Checkpoints/Level_1/Epoch_41/weights-improvement-11-0.88.hdf5\n",
      "Epoch 12/25\n",
      "190/190 [==============================] - 14s 72ms/step - loss: 0.0334 - acc: 0.9947 - val_loss: 0.3948 - val_acc: 0.8947\n",
      "\n",
      "Epoch 00012: saving model to E:Dataset_Final(March)/Checkpoints/Level_1/Epoch_41/weights-improvement-12-0.89.hdf5\n",
      "Epoch 13/25\n",
      "190/190 [==============================] - 14s 72ms/step - loss: 0.0138 - acc: 0.9947 - val_loss: 0.3563 - val_acc: 0.9053\n",
      "\n",
      "Epoch 00013: saving model to E:Dataset_Final(March)/Checkpoints/Level_1/Epoch_41/weights-improvement-13-0.91.hdf5\n",
      "Epoch 14/25\n",
      "190/190 [==============================] - 14s 71ms/step - loss: 0.0079 - acc: 1.0000 - val_loss: 0.4732 - val_acc: 0.8947\n",
      "\n",
      "Epoch 00014: saving model to E:Dataset_Final(March)/Checkpoints/Level_1/Epoch_41/weights-improvement-14-0.89.hdf5\n",
      "Epoch 15/25\n",
      "190/190 [==============================] - 14s 73ms/step - loss: 0.0666 - acc: 0.9737 - val_loss: 0.2262 - val_acc: 0.9368\n",
      "\n",
      "Epoch 00015: saving model to E:Dataset_Final(March)/Checkpoints/Level_1/Epoch_41/weights-improvement-15-0.94.hdf5\n",
      "Epoch 16/25\n",
      "190/190 [==============================] - 14s 73ms/step - loss: 0.0054 - acc: 1.0000 - val_loss: 0.2284 - val_acc: 0.9474\n",
      "\n",
      "Epoch 00016: saving model to E:Dataset_Final(March)/Checkpoints/Level_1/Epoch_41/weights-improvement-16-0.95.hdf5\n",
      "Epoch 17/25\n",
      "190/190 [==============================] - 14s 73ms/step - loss: 3.8463e-04 - acc: 1.0000 - val_loss: 0.2046 - val_acc: 0.9579\n",
      "\n",
      "Epoch 00017: saving model to E:Dataset_Final(March)/Checkpoints/Level_1/Epoch_41/weights-improvement-17-0.96.hdf5\n",
      "Epoch 18/25\n",
      "190/190 [==============================] - 14s 76ms/step - loss: 2.5258e-04 - acc: 1.0000 - val_loss: 0.1893 - val_acc: 0.9684\n",
      "\n",
      "Epoch 00018: saving model to E:Dataset_Final(March)/Checkpoints/Level_1/Epoch_41/weights-improvement-18-0.97.hdf5\n",
      "Epoch 19/25\n",
      "190/190 [==============================] - 14s 76ms/step - loss: 9.8133e-05 - acc: 1.0000 - val_loss: 0.2312 - val_acc: 0.9474\n",
      "\n",
      "Epoch 00019: saving model to E:Dataset_Final(March)/Checkpoints/Level_1/Epoch_41/weights-improvement-19-0.95.hdf5\n",
      "Epoch 20/25\n",
      "190/190 [==============================] - 15s 76ms/step - loss: 4.2080e-05 - acc: 1.0000 - val_loss: 0.2032 - val_acc: 0.9474\n",
      "\n",
      "Epoch 00020: saving model to E:Dataset_Final(March)/Checkpoints/Level_1/Epoch_41/weights-improvement-20-0.95.hdf5\n",
      "Epoch 21/25\n",
      "190/190 [==============================] - 15s 78ms/step - loss: 1.1001e-05 - acc: 1.0000 - val_loss: 0.2489 - val_acc: 0.9474\n",
      "\n",
      "Epoch 00021: saving model to E:Dataset_Final(March)/Checkpoints/Level_1/Epoch_41/weights-improvement-21-0.95.hdf5\n",
      "Epoch 22/25\n",
      "190/190 [==============================] - 15s 80ms/step - loss: 0.0380 - acc: 0.9947 - val_loss: 0.3648 - val_acc: 0.9368\n",
      "\n",
      "Epoch 00022: saving model to E:Dataset_Final(March)/Checkpoints/Level_1/Epoch_41/weights-improvement-22-0.94.hdf5\n",
      "Epoch 23/25\n",
      "190/190 [==============================] - 15s 77ms/step - loss: 0.0061 - acc: 0.9947 - val_loss: 0.3318 - val_acc: 0.9053\n",
      "\n",
      "Epoch 00023: saving model to E:Dataset_Final(March)/Checkpoints/Level_1/Epoch_41/weights-improvement-23-0.91.hdf5\n",
      "Epoch 24/25\n",
      "190/190 [==============================] - 15s 78ms/step - loss: 0.0083 - acc: 0.9947 - val_loss: 0.2129 - val_acc: 0.9263\n",
      "\n",
      "Epoch 00024: saving model to E:Dataset_Final(March)/Checkpoints/Level_1/Epoch_41/weights-improvement-24-0.93.hdf5\n",
      "Epoch 25/25\n",
      "190/190 [==============================] - 15s 77ms/step - loss: 5.1559e-05 - acc: 1.0000 - val_loss: 0.2610 - val_acc: 0.9263\n",
      "\n",
      "Epoch 00025: saving model to E:Dataset_Final(March)/Checkpoints/Level_1/Epoch_41/weights-improvement-25-0.93.hdf5\n"
     ]
    }
   ],
   "source": [
    "hist=model.fit(x_train, y_train, \n",
    "               batch_size=batch_size,\n",
    "               epochs=epochs,\n",
    "               validation_data=(x_test, y_test),\n",
    "               callbacks=[checkpoint]\n",
    "               )"
   ]
  },
  {
   "cell_type": "code",
   "execution_count": 63,
   "metadata": {},
   "outputs": [
    {
     "name": "stdout",
     "output_type": "stream",
     "text": [
      "95/95 [==============================] - 2s 18ms/step\n"
     ]
    }
   ],
   "source": [
    "score=model.evaluate(x_test, y_test)"
   ]
  },
  {
   "cell_type": "code",
   "execution_count": 64,
   "metadata": {},
   "outputs": [
    {
     "data": {
      "text/plain": [
       "0.92631579010110154"
      ]
     },
     "execution_count": 64,
     "metadata": {},
     "output_type": "execute_result"
    }
   ],
   "source": [
    "score[1]"
   ]
  },
  {
   "cell_type": "code",
   "execution_count": 65,
   "metadata": {},
   "outputs": [
    {
     "name": "stdout",
     "output_type": "stream",
     "text": [
      "[[  3.47644504e-12   3.22111370e-13   1.29508214e-06 ...,   1.06734087e-05\n",
      "    3.26745706e-08   8.32946068e-09]\n",
      " [  7.28400795e-16   3.30637101e-10   1.68200426e-10 ...,   1.14621976e-07\n",
      "    9.99998331e-01   4.98533259e-09]\n",
      " [  3.87072881e-15   2.40499415e-16   9.99984503e-01 ...,   6.41880771e-10\n",
      "    6.85059440e-11   3.08459508e-12]\n",
      " ..., \n",
      " [  3.08492749e-18   5.99201799e-11   2.97410288e-16 ...,   1.00000000e+00\n",
      "    3.15580166e-11   6.59199222e-17]\n",
      " [  6.66140575e-25   2.98017407e-19   2.73270586e-20 ...,   1.07321780e-19\n",
      "    2.37718363e-24   1.28491983e-26]\n",
      " [  6.10089541e-15   4.28373394e-14   3.60455582e-14 ...,   5.25120049e-06\n",
      "    1.55909096e-12   1.37469159e-12]]\n",
      "[26 35  2 35  7 35 31 24 11 18 32 22 14 22 35 36 31 27 30 32  7 18 17  1 28\n",
      " 27 30 28 17 28 35 17  2 20 17  7 35 17 24 36 17 27  7  2 24 34  2 36 35 28\n",
      " 27 36  7 11 11 11 28 35 22 35 36 24 18 34 32 31 26 24 18 18  7  1 31 20 34\n",
      " 26 14 18 31 22 11 36 18 24 27 11 36 18  2  2  7 28 34 30 27]\n"
     ]
    }
   ],
   "source": [
    "y_pred=model.predict(x_test)# for dataset of 12 characters\n",
    "print (y_pred)\n",
    "y_pred=numpy.argmax(y_pred, axis=1)\n",
    "print (y_pred)"
   ]
  },
  {
   "cell_type": "code",
   "execution_count": 68,
   "metadata": {
    "collapsed": true
   },
   "outputs": [],
   "source": [
    "model.load_weights(\"E:Dataset_Final(March)/Checkpoints/Level_1/Epoch_41/weights-improvement-18-0.97.hdf5\")# f1"
   ]
  },
  {
   "cell_type": "code",
   "execution_count": 69,
   "metadata": {},
   "outputs": [
    {
     "name": "stdout",
     "output_type": "stream",
     "text": [
      "95/95 [==============================] - 2s 18ms/step\n"
     ]
    }
   ],
   "source": [
    "score=model.evaluate(x_test, y_test)"
   ]
  },
  {
   "cell_type": "code",
   "execution_count": 71,
   "metadata": {},
   "outputs": [
    {
     "data": {
      "text/plain": [
       "0.9684210432203193"
      ]
     },
     "execution_count": 71,
     "metadata": {},
     "output_type": "execute_result"
    }
   ],
   "source": [
    "score[1]"
   ]
  },
  {
   "cell_type": "code",
   "execution_count": 72,
   "metadata": {},
   "outputs": [
    {
     "name": "stdout",
     "output_type": "stream",
     "text": [
      "[[  7.30041808e-12   1.70339177e-11   1.20046952e-05 ...,   7.01342424e-06\n",
      "    1.30440708e-06   2.15105072e-08]\n",
      " [  1.08027041e-14   3.56684033e-08   4.29111857e-09 ...,   9.36162394e-07\n",
      "    9.99993801e-01   3.34069199e-08]\n",
      " [  1.16249024e-13   1.86050489e-13   9.99940038e-01 ...,   2.90433633e-08\n",
      "    1.45696504e-07   6.57217059e-11]\n",
      " ..., \n",
      " [  7.75159720e-18   3.08780046e-09   6.50223758e-14 ...,   9.99999285e-01\n",
      "    3.90982091e-09   1.29641251e-15]\n",
      " [  1.39784416e-21   2.01232582e-15   1.18056456e-15 ...,   1.26308627e-16\n",
      "    1.54347915e-17   3.31020879e-20]\n",
      " [  3.93720511e-13   4.21661074e-11   8.54988649e-11 ...,   2.60360266e-05\n",
      "    3.41155526e-09   2.55456073e-10]]\n",
      "[26 35  2 35  7 35 31 24 11 18 32 22 14 22 35 36 31 27 32 32  7 18 17  1 28\n",
      " 27 30 28 14 28 35 17  2 20 17  7 35 34 24 36 17 26  7  2 24 34  2 36 35 28\n",
      " 27 36  7 11 11 11 28 35 22 35 36 24  2 34 32 31 26 24 18 18  7  1 31 20 34\n",
      " 26 32 18 31 22 11 36 18 24 27 11 36 18  2  2  7 28 34 30 27]\n"
     ]
    }
   ],
   "source": [
    "y_pred=model.predict(x_test)# for dataset of 12 characters\n",
    "print (y_pred)\n",
    "y_pred=numpy.argmax(y_pred, axis=1)\n",
    "print (y_pred)"
   ]
  },
  {
   "cell_type": "code",
   "execution_count": 74,
   "metadata": {},
   "outputs": [
    {
     "name": "stdout",
     "output_type": "stream",
     "text": [
      "[[2 0 0 0 0 1 0 0 0 0 0 0 0 0 0 0 0 0 0]\n",
      " [0 7 0 0 0 0 0 0 0 0 0 0 0 0 0 0 0 0 0]\n",
      " [0 0 7 0 0 0 0 0 0 0 0 0 0 0 0 0 0 0 0]\n",
      " [0 0 0 6 0 0 0 0 0 0 0 0 0 0 0 0 0 0 0]\n",
      " [0 0 0 0 1 0 0 0 0 0 0 0 0 0 0 0 0 0 0]\n",
      " [0 0 0 0 1 3 0 0 0 0 0 0 0 0 0 0 0 0 0]\n",
      " [0 0 0 0 0 0 6 0 0 0 0 0 0 0 0 0 0 0 0]\n",
      " [0 0 0 0 0 0 1 2 0 0 0 0 0 0 0 0 0 0 0]\n",
      " [0 0 0 0 0 0 0 0 4 0 0 0 0 0 0 0 0 0 0]\n",
      " [0 0 0 0 0 0 0 0 0 6 0 0 0 0 0 0 0 0 0]\n",
      " [0 0 0 0 0 0 0 0 0 0 4 0 0 0 0 0 0 0 0]\n",
      " [0 0 0 0 0 0 0 0 0 0 0 5 0 0 0 0 0 0 0]\n",
      " [0 0 0 0 0 0 0 0 0 0 0 0 6 0 0 0 0 0 0]\n",
      " [0 0 0 0 0 0 0 0 0 0 0 0 0 2 0 0 0 0 0]\n",
      " [0 0 0 0 0 0 0 0 0 0 0 0 0 0 5 0 0 0 0]\n",
      " [0 0 0 0 0 0 0 0 0 0 0 0 0 0 0 5 0 0 0]\n",
      " [0 0 0 0 0 0 0 0 0 0 0 0 0 0 0 0 5 0 0]\n",
      " [0 0 0 0 0 0 0 0 0 0 0 0 0 0 0 0 0 9 0]\n",
      " [0 0 0 0 0 0 0 0 0 0 0 0 0 0 0 0 0 0 7]]\n"
     ]
    }
   ],
   "source": [
    "print(confusion_matrix(numpy.argmax(y_test, axis=1),y_pred))"
   ]
  },
  {
   "cell_type": "code",
   "execution_count": 75,
   "metadata": {},
   "outputs": [
    {
     "name": "stdout",
     "output_type": "stream",
     "text": [
      "             precision    recall  f1-score   support\n",
      "\n",
      "          1       1.00      0.67      0.80         3\n",
      "          2       1.00      1.00      1.00         7\n",
      "          7       1.00      1.00      1.00         7\n",
      "         11       1.00      1.00      1.00         6\n",
      "         14       0.50      1.00      0.67         1\n",
      "         17       0.75      0.75      0.75         4\n",
      "         18       0.86      1.00      0.92         6\n",
      "         20       1.00      0.67      0.80         3\n",
      "         22       1.00      1.00      1.00         4\n",
      "         24       1.00      1.00      1.00         6\n",
      "         26       1.00      1.00      1.00         4\n",
      "         27       1.00      1.00      1.00         5\n",
      "         28       1.00      1.00      1.00         6\n",
      "         30       1.00      1.00      1.00         2\n",
      "         31       1.00      1.00      1.00         5\n",
      "         32       1.00      1.00      1.00         5\n",
      "         34       1.00      1.00      1.00         5\n",
      "         35       1.00      1.00      1.00         9\n",
      "         36       1.00      1.00      1.00         7\n",
      "\n",
      "avg / total       0.98      0.97      0.97        95\n",
      "\n"
     ]
    }
   ],
   "source": [
    "\n",
    "print (classification_report(numpy.argmax(y_test, axis=1), y_pred))"
   ]
  },
  {
   "cell_type": "code",
   "execution_count": 76,
   "metadata": {
    "collapsed": true
   },
   "outputs": [],
   "source": [
    "import pandas\n",
    "\n",
    "pandas.DataFrame(hist.history).to_csv(\"E:Dataset_Final(March)/Checkpoints/Level_1/Epoch_41/Figure/History-97m.csv\")        \n",
    "# visualizing losses and accuracy\n",
    "train_loss=hist.history['loss']\n",
    "val_loss=hist.history['val_loss']\n",
    "train_acc=hist.history['acc']\n",
    "val_acc=hist.history['val_acc']\n",
    "xc=range(epochs)"
   ]
  },
  {
   "cell_type": "code",
   "execution_count": 77,
   "metadata": {},
   "outputs": [
    {
     "name": "stdout",
     "output_type": "stream",
     "text": [
      "['bmh', 'classic', 'dark_background', 'fast', 'fivethirtyeight', 'ggplot', 'grayscale', 'seaborn-bright', 'seaborn-colorblind', 'seaborn-dark-palette', 'seaborn-dark', 'seaborn-darkgrid', 'seaborn-deep', 'seaborn-muted', 'seaborn-notebook', 'seaborn-paper', 'seaborn-pastel', 'seaborn-poster', 'seaborn-talk', 'seaborn-ticks', 'seaborn-white', 'seaborn-whitegrid', 'seaborn', 'Solarize_Light2', '_classic_test']\n"
     ]
    }
   ],
   "source": [
    "import matplotlib.pyplot as plt\n",
    "import matplotlib\n",
    "from matplotlib.backends.backend_pdf import PdfPages\n",
    "\n",
    "pp=PdfPages(\"E:Dataset_Final(March)/Checkpoints/Level_1/Epoch_41/Figure/Loss-97m.pdf\")\n",
    "plt.figure(1,figsize=(7,5))\n",
    "plt.plot(xc,train_loss)\n",
    "plt.plot(xc,val_loss)\n",
    "plt.xlabel('Epochs')\n",
    "plt.ylabel('Loss')\n",
    "plt.title('train_loss vs val_loss')\n",
    "plt.grid(True)\n",
    "plt.legend(['train','val'])\n",
    "print (plt.style.available)\n",
    "plt.style.use(['classic'])\n",
    "plt.savefig(pp, format='pdf')\n",
    "pp.close()"
   ]
  },
  {
   "cell_type": "code",
   "execution_count": 78,
   "metadata": {
    "collapsed": true
   },
   "outputs": [],
   "source": [
    "pp=PdfPages(\"E:Dataset_Final(March)/Checkpoints/Level_1/Epoch_41/Figure/Accuracy-97m.pdf\")\n",
    "plt.figure(2,figsize=(7,5))\n",
    "plt.plot(xc,train_acc)\n",
    "plt.plot(xc,val_acc)\n",
    "plt.xlabel('Epochs')\n",
    "plt.ylabel('Accuracy')\n",
    "plt.title('train_acc vs val_acc')\n",
    "plt.grid(True)\n",
    "plt.legend(['train','val'],loc=4)\n",
    "#print plt.style.available # use bmh, classic,ggplot for big pictures\n",
    "plt.style.use(['bmh'])\n",
    "plt.savefig(pp, format='pdf')\n",
    "pp.close()"
   ]
  },
  {
   "cell_type": "code",
   "execution_count": null,
   "metadata": {
    "collapsed": true
   },
   "outputs": [],
   "source": []
  }
 ],
 "metadata": {
  "kernelspec": {
   "display_name": "Python 3",
   "language": "python",
   "name": "python3"
  },
  "language_info": {
   "codemirror_mode": {
    "name": "ipython",
    "version": 3
   },
   "file_extension": ".py",
   "mimetype": "text/x-python",
   "name": "python",
   "nbconvert_exporter": "python",
   "pygments_lexer": "ipython3",
   "version": "3.6.3"
  }
 },
 "nbformat": 4,
 "nbformat_minor": 2
}
