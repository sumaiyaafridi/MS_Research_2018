{
 "cells": [
  {
   "cell_type": "code",
   "execution_count": 1,
   "metadata": {
    "collapsed": true
   },
   "outputs": [],
   "source": [
    "import numpy \n",
    "numpy.random.seed(1337)"
   ]
  },
  {
   "cell_type": "code",
   "execution_count": 4,
   "metadata": {},
   "outputs": [],
   "source": [
    "import h5py\n",
    "import keras\n",
    "from keras.models import Sequential, Model\n",
    "from keras.layers import Dense, Activation, Flatten, Input, MaxPooling2D, Dropout\n",
    "from keras.layers import Conv2D, Embedding\n",
    "from keras.optimizers import SGD, rmsprop\n",
    "from sklearn.metrics import classification_report, confusion_matrix, precision_recall_fscore_support, accuracy_score, f1_score, precision_score, recall_score\n",
    "from sklearn.utils import class_weight\n",
    "from sklearn.utils.class_weight import compute_class_weight\n",
    "from sklearn.preprocessing import LabelEncoder\n",
    "from keras.layers.advanced_activations import LeakyReLU, PReLU, ELU\n",
    "from keras_contrib.layers.advanced_activations import PELU, SReLU"
   ]
  },
  {
   "cell_type": "code",
   "execution_count": 6,
   "metadata": {
    "collapsed": true
   },
   "outputs": [],
   "source": [
    "batch_size=128 \n",
    "num_classes=4\n",
    "epochs=5\n",
    "class_weights={1:350, 2:30, 3: 10}"
   ]
  },
  {
   "cell_type": "code",
   "execution_count": 7,
   "metadata": {
    "collapsed": true
   },
   "outputs": [],
   "source": [
    "import os\n",
    "from PIL import Image\n",
    "import matplotlib.image as mpimg"
   ]
  },
  {
   "cell_type": "code",
   "execution_count": 8,
   "metadata": {
    "collapsed": true
   },
   "outputs": [],
   "source": [
    "os.chdir(\"D:\");\n",
    "path=\"D:/Dataset_Final(March)/Level_0\";\n",
    "classes=os.listdir(path)\n",
    "x=[]#Datapoints \n",
    "y=[]#labels \n",
    "for fol in classes:\n",
    "    imgfiles=os.listdir(path+u'\\\\'+fol);\n",
    "    for img in imgfiles:\n",
    "        im=mpimg.imread(path+u'\\\\'+fol+u'\\\\'+img);\n",
    "        x.append(im)\n",
    "        y.append(fol)\n",
    "x=numpy.array(x)\n",
    "y=numpy.array(y)"
   ]
  },
  {
   "cell_type": "code",
   "execution_count": 9,
   "metadata": {},
   "outputs": [
    {
     "name": "stdout",
     "output_type": "stream",
     "text": [
      "(66704, 100, 100)\n",
      "(66704,)\n"
     ]
    }
   ],
   "source": [
    "print(x.shape)\n",
    "print(y.shape)\n",
    "x=x.reshape((-1,100,100,1))"
   ]
  },
  {
   "cell_type": "code",
   "execution_count": 10,
   "metadata": {
    "collapsed": true
   },
   "outputs": [],
   "source": [
    "n=x.shape[0]\n",
    "randomize=numpy.arange(n)\n",
    "numpy.random.shuffle(randomize)\n",
    "randomize\n",
    "x=x[randomize]\n",
    "y=y[randomize]"
   ]
  },
  {
   "cell_type": "code",
   "execution_count": 11,
   "metadata": {},
   "outputs": [
    {
     "name": "stdout",
     "output_type": "stream",
     "text": [
      "(44469, 100, 100, 1)\n",
      "(44469,)\n",
      "(22235, 100, 100, 1)\n",
      "(22235,)\n"
     ]
    }
   ],
   "source": [
    "test_split=round(n*2/3)\n",
    "x_train=x[:test_split]\n",
    "y_train=y[:test_split]\n",
    "x_test=x[test_split:]\n",
    "y_test=y[test_split:]\n",
    "\n",
    "print(x_train.shape)\n",
    "print(y_train.shape)\n",
    "print(x_test.shape)\n",
    "print(y_test.shape)"
   ]
  },
  {
   "cell_type": "code",
   "execution_count": 12,
   "metadata": {
    "scrolled": true
   },
   "outputs": [
    {
     "data": {
      "text/plain": [
       "array([[ 0.,  0.,  0.,  1.]])"
      ]
     },
     "execution_count": 12,
     "metadata": {},
     "output_type": "execute_result"
    }
   ],
   "source": [
    "y_train=keras.utils.to_categorical(y_train, num_classes)\n",
    "y_test=keras.utils.to_categorical(y_test, num_classes)\n",
    "y_train[:1]"
   ]
  },
  {
   "cell_type": "code",
   "execution_count": 13,
   "metadata": {
    "collapsed": true
   },
   "outputs": [],
   "source": [
    "# inputs=Input(shape=(100,100,1))\n",
    "# x=Conv2D(128, (3, 3), padding='same')(inputs)\n",
    "# x=SReLU()(x)\n",
    "# x=MaxPooling2D(pool_size=(2,2))(x)\n",
    "# x=Conv2D(64, (3, 3), padding='same')(x)\n",
    "# x=SReLU()(x)\n",
    "# x=MaxPooling2D(pool_size=(2,2))(x)\n",
    "# x=Conv2D(12, (3, 3), padding='same')(x)\n",
    "# x=SReLU()(x)\n",
    "# x=MaxPooling2D(pool_size=(2,2))(x)\n",
    "# x=Dropout(0.2)(x)#---------------------------------------------->0.38(Epoch_70)\n",
    "# x=Dense(num_classes)(x)\n",
    "# x=SReLU()(x)\n",
    "# x=Flatten()(x)\n",
    "# x=Dense(num_classes)(x)\n",
    "\n",
    "# output=Activation('softmax')(x)\n",
    "# model=Model([inputs], output)"
   ]
  },
  {
   "cell_type": "code",
   "execution_count": 14,
   "metadata": {
    "collapsed": true
   },
   "outputs": [],
   "source": [
    "inputs=Input(shape=(100,100,1))\n",
    "x=Conv2D(32, (3, 3), padding='same')(inputs)\n",
    "x=SReLU()(x)\n",
    "x=MaxPooling2D(pool_size=(2,2))(x)\n",
    "x=Conv2D(16, (3, 3), padding='same')(x)\n",
    "x=SReLU()(x)\n",
    "x=MaxPooling2D(pool_size=(2,2))(x)\n",
    "# x=Conv2D(32, (3, 3), padding='same')(x)\n",
    "# x=SReLU()(x)\n",
    "# x=MaxPooling2D(pool_size=(2,2))(x)\n",
    "x=Dropout(0.2)(x)#---------------------------------------------->0.38(Epoch_70)\n",
    "x=Flatten()(x)\n",
    "x=Dense(num_classes)(x)\n",
    "\n",
    "output=Activation('softmax')(x)\n",
    "model=Model([inputs], output)"
   ]
  },
  {
   "cell_type": "code",
   "execution_count": 15,
   "metadata": {},
   "outputs": [
    {
     "name": "stdout",
     "output_type": "stream",
     "text": [
      "_________________________________________________________________\n",
      "Layer (type)                 Output Shape              Param #   \n",
      "=================================================================\n",
      "input_1 (InputLayer)         (None, 100, 100, 1)       0         \n",
      "_________________________________________________________________\n",
      "conv2d_1 (Conv2D)            (None, 100, 100, 32)      320       \n",
      "_________________________________________________________________\n",
      "s_re_lu_1 (SReLU)            (None, 100, 100, 32)      1280000   \n",
      "_________________________________________________________________\n",
      "max_pooling2d_1 (MaxPooling2 (None, 50, 50, 32)        0         \n",
      "_________________________________________________________________\n",
      "conv2d_2 (Conv2D)            (None, 50, 50, 16)        4624      \n",
      "_________________________________________________________________\n",
      "s_re_lu_2 (SReLU)            (None, 50, 50, 16)        160000    \n",
      "_________________________________________________________________\n",
      "max_pooling2d_2 (MaxPooling2 (None, 25, 25, 16)        0         \n",
      "_________________________________________________________________\n",
      "dropout_1 (Dropout)          (None, 25, 25, 16)        0         \n",
      "_________________________________________________________________\n",
      "flatten_1 (Flatten)          (None, 10000)             0         \n",
      "_________________________________________________________________\n",
      "dense_1 (Dense)              (None, 4)                 40004     \n",
      "_________________________________________________________________\n",
      "activation_1 (Activation)    (None, 4)                 0         \n",
      "=================================================================\n",
      "Total params: 1,484,948\n",
      "Trainable params: 1,484,948\n",
      "Non-trainable params: 0\n",
      "_________________________________________________________________\n"
     ]
    }
   ],
   "source": [
    "model.summary()"
   ]
  },
  {
   "cell_type": "code",
   "execution_count": 16,
   "metadata": {
    "collapsed": true
   },
   "outputs": [],
   "source": [
    "opt=keras.optimizers.Adam(lr=1e-3)"
   ]
  },
  {
   "cell_type": "code",
   "execution_count": 17,
   "metadata": {
    "collapsed": true
   },
   "outputs": [],
   "source": [
    "model.compile(loss='categorical_crossentropy', optimizer=opt, metrics=['accuracy'])"
   ]
  },
  {
   "cell_type": "code",
   "execution_count": 18,
   "metadata": {
    "collapsed": true
   },
   "outputs": [],
   "source": [
    "import h5py\n",
    "from keras.callbacks import ModelCheckpoint\n",
    "filepath='D:Dataset_Final(March)/Checkpoints/Level_0/Epoch_22/weights-improvement-{epoch:2d}-{val_acc:.2f}.hdf5'\n",
    "checkpoint=ModelCheckpoint(filepath, monitor='val_acc', verbose=1, mode='max')"
   ]
  },
  {
   "cell_type": "code",
   "execution_count": 19,
   "metadata": {},
   "outputs": [
    {
     "name": "stdout",
     "output_type": "stream",
     "text": [
      "Train on 44469 samples, validate on 22235 samples\n",
      "Epoch 1/5\n",
      "44469/44469 [==============================] - 1808s 41ms/step - loss: 2.9182 - acc: 0.9524 - val_loss: 0.0832 - val_acc: 0.9713\n",
      "\n",
      "Epoch 00001: saving model to D:Dataset_Final(March)/Checkpoints/Level_0/Epoch_22/weights-improvement- 1-0.97.hdf5\n",
      "Epoch 2/5\n",
      "44469/44469 [==============================] - 1794s 40ms/step - loss: 1.6100 - acc: 0.9667 - val_loss: 0.0568 - val_acc: 0.9817\n",
      "\n",
      "Epoch 00002: saving model to D:Dataset_Final(March)/Checkpoints/Level_0/Epoch_22/weights-improvement- 2-0.98.hdf5\n",
      "Epoch 3/5\n",
      "44469/44469 [==============================] - 1794s 40ms/step - loss: 1.0290 - acc: 0.9785 - val_loss: 0.0377 - val_acc: 0.9877\n",
      "\n",
      "Epoch 00003: saving model to D:Dataset_Final(March)/Checkpoints/Level_0/Epoch_22/weights-improvement- 3-0.99.hdf5\n",
      "Epoch 4/5\n",
      "44469/44469 [==============================] - 1796s 40ms/step - loss: 0.7139 - acc: 0.9848 - val_loss: 0.0282 - val_acc: 0.9922\n",
      "\n",
      "Epoch 00004: saving model to D:Dataset_Final(March)/Checkpoints/Level_0/Epoch_22/weights-improvement- 4-0.99.hdf5\n",
      "Epoch 5/5\n",
      "44469/44469 [==============================] - 1794s 40ms/step - loss: 0.5170 - acc: 0.9889 - val_loss: 0.0231 - val_acc: 0.9932\n",
      "\n",
      "Epoch 00005: saving model to D:Dataset_Final(March)/Checkpoints/Level_0/Epoch_22/weights-improvement- 5-0.99.hdf5\n"
     ]
    }
   ],
   "source": [
    "hist=model.fit(x_train, y_train, \n",
    "               batch_size=batch_size,\n",
    "               epochs=epochs,\n",
    "               validation_data=(x_test, y_test),\n",
    "               callbacks=[checkpoint],\n",
    "               class_weight=class_weights\n",
    "               )"
   ]
  },
  {
   "cell_type": "code",
   "execution_count": 26,
   "metadata": {},
   "outputs": [
    {
     "name": "stdout",
     "output_type": "stream",
     "text": [
      "22235/22235 [==============================] - 219s 10ms/step\n"
     ]
    }
   ],
   "source": [
    "score=model.evaluate(x_test, y_test)"
   ]
  },
  {
   "cell_type": "code",
   "execution_count": 31,
   "metadata": {},
   "outputs": [
    {
     "data": {
      "text/plain": [
       "0.99316393076663123"
      ]
     },
     "execution_count": 31,
     "metadata": {},
     "output_type": "execute_result"
    }
   ],
   "source": [
    "score[1]"
   ]
  },
  {
   "cell_type": "code",
   "execution_count": 32,
   "metadata": {},
   "outputs": [],
   "source": [
    "# y_pred=model.predict(x_test)# for dataset of 12 characters\n",
    "# print (y_pred)\n",
    "# y_pred=numpy.argmax(y_pred, axis=1)\n",
    "# print (y_pred)"
   ]
  },
  {
   "cell_type": "code",
   "execution_count": 33,
   "metadata": {
    "collapsed": true
   },
   "outputs": [],
   "source": [
    "# model.load_weights(\"D:Dataset_Final(March)/Checkpoints/Level_0/Epoch_22/weights-improvement- 1-0.98.hdf5\")"
   ]
  },
  {
   "cell_type": "code",
   "execution_count": 34,
   "metadata": {
    "collapsed": true
   },
   "outputs": [],
   "source": [
    "# opt=keras.optimizers.Adam(lr=1e-3)"
   ]
  },
  {
   "cell_type": "code",
   "execution_count": 35,
   "metadata": {
    "collapsed": true
   },
   "outputs": [],
   "source": [
    "# model.compile(loss='categorical_crossentropy', optimizer=opt, metrics=['accuracy'])"
   ]
  },
  {
   "cell_type": "code",
   "execution_count": 36,
   "metadata": {},
   "outputs": [],
   "source": [
    "# score=model.evaluate(x_test, y_test)"
   ]
  },
  {
   "cell_type": "code",
   "execution_count": 37,
   "metadata": {},
   "outputs": [],
   "source": [
    "# score[1]"
   ]
  },
  {
   "cell_type": "code",
   "execution_count": 38,
   "metadata": {},
   "outputs": [
    {
     "name": "stdout",
     "output_type": "stream",
     "text": [
      "[[  3.18220188e-08   1.07281584e-09   9.99824464e-01   1.75511959e-04]\n",
      " [  2.15332797e-13   5.66837922e-19   3.33338446e-13   1.00000000e+00]\n",
      " [  2.71200786e-13   7.12810889e-16   1.63863593e-11   1.00000000e+00]\n",
      " ..., \n",
      " [  6.11118144e-14   2.95622969e-17   4.08637880e-12   1.00000000e+00]\n",
      " [  6.06166395e-10   9.80048121e-15   3.94004514e-04   9.99606073e-01]\n",
      " [  2.61290865e-07   7.47299040e-08   1.48815557e-01   8.51184070e-01]]\n",
      "[2 3 3 ..., 3 3 3]\n"
     ]
    }
   ],
   "source": [
    "y_pred=model.predict(x_test)# for dataset of 12 characters\n",
    "print (y_pred)\n",
    "y_pred=numpy.argmax(y_pred, axis=1)\n",
    "print (y_pred)"
   ]
  },
  {
   "cell_type": "code",
   "execution_count": 39,
   "metadata": {},
   "outputs": [
    {
     "name": "stdout",
     "output_type": "stream",
     "text": [
      "[[   51     3     0]\n",
      " [    6   919    34]\n",
      " [    0   109 21113]]\n"
     ]
    }
   ],
   "source": [
    "print(confusion_matrix(numpy.argmax(y_test, axis=1),y_pred))"
   ]
  },
  {
   "cell_type": "code",
   "execution_count": 40,
   "metadata": {},
   "outputs": [
    {
     "name": "stdout",
     "output_type": "stream",
     "text": [
      "             precision    recall  f1-score   support\n",
      "\n",
      "          1       0.89      0.94      0.92        54\n",
      "          2       0.89      0.96      0.92       959\n",
      "          3       1.00      0.99      1.00     21222\n",
      "\n",
      "avg / total       0.99      0.99      0.99     22235\n",
      "\n"
     ]
    }
   ],
   "source": [
    "\n",
    "print (classification_report(numpy.argmax(y_test, axis=1), y_pred))"
   ]
  },
  {
   "cell_type": "code",
   "execution_count": 21,
   "metadata": {},
   "outputs": [],
   "source": [
    "import pandas\n",
    "\n",
    "pandas.DataFrame(hist.history).to_csv(\"D:Dataset_Final(March)/Checkpoints/Level_0/Epoch_22/Figure/History-99.csv\")        \n",
    "# visualizing losses and accuracy\n",
    "train_loss=hist.history['loss']\n",
    "val_loss=hist.history['val_loss']\n",
    "train_acc=hist.history['acc']\n",
    "val_acc=hist.history['val_acc']\n",
    "xc=range(epochs)"
   ]
  },
  {
   "cell_type": "code",
   "execution_count": 23,
   "metadata": {},
   "outputs": [
    {
     "name": "stdout",
     "output_type": "stream",
     "text": [
      "['bmh', 'classic', 'dark_background', 'fast', 'fivethirtyeight', 'ggplot', 'grayscale', 'seaborn-bright', 'seaborn-colorblind', 'seaborn-dark-palette', 'seaborn-dark', 'seaborn-darkgrid', 'seaborn-deep', 'seaborn-muted', 'seaborn-notebook', 'seaborn-paper', 'seaborn-pastel', 'seaborn-poster', 'seaborn-talk', 'seaborn-ticks', 'seaborn-white', 'seaborn-whitegrid', 'seaborn', 'Solarize_Light2', '_classic_test']\n"
     ]
    }
   ],
   "source": [
    "import matplotlib.pyplot as plt\n",
    "import matplotlib\n",
    "from matplotlib.backends.backend_pdf import PdfPages\n",
    "\n",
    "pp=PdfPages(\"D:Dataset_Final(March)/Checkpoints/Level_0/Epoch_22/Figure/Loss-99.pdf\")\n",
    "plt.figure(1,figsize=(7,5))\n",
    "plt.plot(xc,train_loss)\n",
    "plt.plot(xc,val_loss)\n",
    "plt.xlabel('Epochs')\n",
    "plt.ylabel('Loss')\n",
    "plt.title('train_loss vs val_loss')\n",
    "plt.grid(True)\n",
    "plt.legend(['train','val'])\n",
    "print (plt.style.available)\n",
    "plt.style.use(['classic'])\n",
    "plt.savefig(pp, format='pdf')\n",
    "pp.close()"
   ]
  },
  {
   "cell_type": "code",
   "execution_count": 24,
   "metadata": {
    "collapsed": true
   },
   "outputs": [],
   "source": [
    "pp=PdfPages(\"D:Dataset_Final(March)/Checkpoints/Level_0/Epoch_22/Figure/Accuracy.pdf\")\n",
    "plt.figure(2,figsize=(7,5))\n",
    "plt.plot(xc,train_acc)\n",
    "plt.plot(xc,val_acc)\n",
    "plt.xlabel('Epochs')\n",
    "plt.ylabel('Accuracy')\n",
    "plt.title('train_acc vs val_acc')\n",
    "plt.grid(True)\n",
    "plt.legend(['train','val'],loc=4)\n",
    "#print plt.style.available # use bmh, classic,ggplot for big pictures\n",
    "plt.style.use(['classic'])\n",
    "plt.savefig(pp, format='pdf')\n",
    "pp.close()"
   ]
  },
  {
   "cell_type": "code",
   "execution_count": null,
   "metadata": {
    "collapsed": true
   },
   "outputs": [],
   "source": []
  }
 ],
 "metadata": {
  "kernelspec": {
   "display_name": "Python 3",
   "language": "python",
   "name": "python3"
  },
  "language_info": {
   "codemirror_mode": {
    "name": "ipython",
    "version": 3
   },
   "file_extension": ".py",
   "mimetype": "text/x-python",
   "name": "python",
   "nbconvert_exporter": "python",
   "pygments_lexer": "ipython3",
   "version": "3.6.3"
  }
 },
 "nbformat": 4,
 "nbformat_minor": 2
}
