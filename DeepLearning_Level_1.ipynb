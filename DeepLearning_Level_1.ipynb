{
 "cells": [
  {
   "cell_type": "code",
   "execution_count": 18,
   "metadata": {
    "collapsed": true
   },
   "outputs": [],
   "source": [
    "import numpy \n",
    "numpy.random.seed(1337)"
   ]
  },
  {
   "cell_type": "code",
   "execution_count": 19,
   "metadata": {},
   "outputs": [],
   "source": [
    "import h5py\n",
    "import keras\n",
    "from keras.models import Sequential, Model\n",
    "from keras.layers import Dense, Activation, Flatten, Input, MaxPooling2D, Dropout\n",
    "from keras.layers import Conv2D, Embedding\n",
    "from keras.optimizers import SGD, rmsprop\n",
    "from sklearn.metrics import classification_report, confusion_matrix, precision_recall_fscore_support, accuracy_score, f1_score, precision_score, recall_score\n",
    "from sklearn.utils import class_weight\n",
    "from sklearn.utils.class_weight import compute_class_weight\n",
    "from sklearn.preprocessing import LabelEncoder\n",
    "from keras.layers.advanced_activations import LeakyReLU, PReLU, ELU\n",
    "from keras_contrib.layers.advanced_activations import PELU, SReLU"
   ]
  },
  {
   "cell_type": "code",
   "execution_count": 40,
   "metadata": {
    "collapsed": true
   },
   "outputs": [],
   "source": [
    "batch_size=128 \n",
    "num_classes=37\n",
    "epochs=60"
   ]
  },
  {
   "cell_type": "code",
   "execution_count": 21,
   "metadata": {
    "collapsed": true
   },
   "outputs": [],
   "source": [
    "import os\n",
    "from PIL import Image\n",
    "import matplotlib.image as mpimg"
   ]
  },
  {
   "cell_type": "code",
   "execution_count": 22,
   "metadata": {},
   "outputs": [],
   "source": [
    "os.chdir(\"E:\");\n",
    "path=\"E:/Dummy/Level_1\";\n",
    "classes=os.listdir(path)\n",
    "x=[]#Datapoints \n",
    "y=[]#labels \n",
    "for fol in classes:\n",
    "    imgfiles=os.listdir(path+u'\\\\'+fol);\n",
    "    for img in imgfiles:\n",
    "        im=mpimg.imread(path+u'\\\\'+fol+u'\\\\'+img);\n",
    "        x.append(im)\n",
    "        y.append(fol)\n",
    "x=numpy.array(x)\n",
    "y=numpy.array(y)"
   ]
  },
  {
   "cell_type": "code",
   "execution_count": 23,
   "metadata": {},
   "outputs": [
    {
     "name": "stdout",
     "output_type": "stream",
     "text": [
      "(1080, 100, 100)\n",
      "(1080,)\n"
     ]
    }
   ],
   "source": [
    "print(x.shape)\n",
    "print(y.shape)\n",
    "x=x.reshape((-1,100,100,1))"
   ]
  },
  {
   "cell_type": "code",
   "execution_count": 24,
   "metadata": {},
   "outputs": [],
   "source": [
    "n=x.shape[0]\n",
    "randomize=numpy.arange(n)\n",
    "numpy.random.shuffle(randomize)\n",
    "randomize\n",
    "x=x[randomize]\n",
    "y=y[randomize]"
   ]
  },
  {
   "cell_type": "code",
   "execution_count": 25,
   "metadata": {},
   "outputs": [
    {
     "name": "stdout",
     "output_type": "stream",
     "text": [
      "(720, 100, 100, 1)\n",
      "(720,)\n",
      "(360, 100, 100, 1)\n",
      "(360,)\n"
     ]
    }
   ],
   "source": [
    "test_split=round(n*2/3)\n",
    "x_train=x[:test_split]\n",
    "y_train=y[:test_split]\n",
    "x_test=x[test_split:]\n",
    "y_test=y[test_split:]\n",
    "\n",
    "print(x_train.shape)\n",
    "print(y_train.shape)\n",
    "print(x_test.shape)\n",
    "print(y_test.shape)"
   ]
  },
  {
   "cell_type": "code",
   "execution_count": 26,
   "metadata": {
    "scrolled": true
   },
   "outputs": [
    {
     "data": {
      "text/plain": [
       "array([[ 0.,  0.,  0.,  0.,  0.,  0.,  0.,  0.,  0.,  1.,  0.,  0.,  0.,\n",
       "         0.,  0.,  0.,  0.,  0.,  0.,  0.,  0.,  0.,  0.,  0.,  0.,  0.,\n",
       "         0.,  0.,  0.,  0.,  0.,  0.,  0.,  0.,  0.,  0.,  0.]])"
      ]
     },
     "execution_count": 26,
     "metadata": {},
     "output_type": "execute_result"
    }
   ],
   "source": [
    "y_train=keras.utils.to_categorical(y_train, num_classes)\n",
    "y_test=keras.utils.to_categorical(y_test, num_classes)\n",
    "y_train[:1]"
   ]
  },
  {
   "cell_type": "code",
   "execution_count": 34,
   "metadata": {},
   "outputs": [],
   "source": [
    "# inputs=Input(shape=(100,100,1))\n",
    "# x=Conv2D(32, (3, 3), padding='same')(inputs)\n",
    "# x=SReLU()(x)\n",
    "# x=MaxPooling2D(pool_size=(2,2))(x)\n",
    "# x=Conv2D(7, (3, 3), padding='same')(x)\n",
    "# x=SReLU()(x)\n",
    "# x=MaxPooling2D(pool_size=(2,2))(x)\n",
    "\n",
    "# x=Dropout(0.2)(x)#---------------------------------------------->0.3389(Epoch_24)\n",
    "# x=Dense(num_classes)(x)\n",
    "# x=SReLU()(x)\n",
    "# x=Flatten()(x)\n",
    "# x=Dense(num_classes)(x)\n",
    "\n",
    "# output=Activation('softmax')(x)\n",
    "# model=Model([inputs], output)"
   ]
  },
  {
   "cell_type": "code",
   "execution_count": 35,
   "metadata": {},
   "outputs": [
    {
     "name": "stdout",
     "output_type": "stream",
     "text": [
      "_________________________________________________________________\n",
      "Layer (type)                 Output Shape              Param #   \n",
      "=================================================================\n",
      "input_3 (InputLayer)         (None, 100, 100, 1)       0         \n",
      "_________________________________________________________________\n",
      "conv2d_4 (Conv2D)            (None, 100, 100, 32)      320       \n",
      "_________________________________________________________________\n",
      "s_re_lu_4 (SReLU)            (None, 100, 100, 32)      1280000   \n",
      "_________________________________________________________________\n",
      "max_pooling2d_3 (MaxPooling2 (None, 50, 50, 32)        0         \n",
      "_________________________________________________________________\n",
      "conv2d_5 (Conv2D)            (None, 50, 50, 7)         2023      \n",
      "_________________________________________________________________\n",
      "s_re_lu_5 (SReLU)            (None, 50, 50, 7)         70000     \n",
      "_________________________________________________________________\n",
      "max_pooling2d_4 (MaxPooling2 (None, 25, 25, 7)         0         \n",
      "_________________________________________________________________\n",
      "dropout_2 (Dropout)          (None, 25, 25, 7)         0         \n",
      "_________________________________________________________________\n",
      "dense_3 (Dense)              (None, 25, 25, 37)        296       \n",
      "_________________________________________________________________\n",
      "s_re_lu_6 (SReLU)            (None, 25, 25, 37)        92500     \n",
      "_________________________________________________________________\n",
      "flatten_2 (Flatten)          (None, 23125)             0         \n",
      "_________________________________________________________________\n",
      "dense_4 (Dense)              (None, 37)                855662    \n",
      "_________________________________________________________________\n",
      "activation_2 (Activation)    (None, 37)                0         \n",
      "=================================================================\n",
      "Total params: 2,300,801\n",
      "Trainable params: 2,300,801\n",
      "Non-trainable params: 0\n",
      "_________________________________________________________________\n"
     ]
    }
   ],
   "source": [
    "model.summary()"
   ]
  },
  {
   "cell_type": "code",
   "execution_count": 36,
   "metadata": {
    "collapsed": true
   },
   "outputs": [],
   "source": [
    "opt=keras.optimizers.Adam(lr=1e-3)"
   ]
  },
  {
   "cell_type": "code",
   "execution_count": 37,
   "metadata": {
    "collapsed": true
   },
   "outputs": [],
   "source": [
    "model.compile(loss='categorical_crossentropy', optimizer=opt, metrics=['accuracy'])"
   ]
  },
  {
   "cell_type": "code",
   "execution_count": 38,
   "metadata": {
    "collapsed": true
   },
   "outputs": [],
   "source": [
    "import h5py\n",
    "from keras.callbacks import ModelCheckpoint\n",
    "filepath='E:Dataset_Final(March)/Checkpoints/Level_1/Epoch_24/weights-improvement-{epoch:2d}-{val_acc:.2f}.hdf5'\n",
    "checkpoint=ModelCheckpoint(filepath, monitor='val_acc', verbose=1, mode='max')"
   ]
  },
  {
   "cell_type": "code",
   "execution_count": 41,
   "metadata": {},
   "outputs": [
    {
     "name": "stdout",
     "output_type": "stream",
     "text": [
      "Train on 720 samples, validate on 360 samples\n",
      "Epoch 1/60\n",
      "720/720 [==============================] - 40s 55ms/step - loss: 3.4434 - acc: 0.1417 - val_loss: 3.2818 - val_acc: 0.1417\n",
      "\n",
      "Epoch 00001: saving model to E:Dataset_Final(March)/Checkpoints/Level_1/Epoch_24/weights-improvement- 1-0.14.hdf5\n",
      "Epoch 2/60\n",
      "720/720 [==============================] - 38s 52ms/step - loss: 2.9946 - acc: 0.2806 - val_loss: 2.8090 - val_acc: 0.2167\n",
      "\n",
      "Epoch 00002: saving model to E:Dataset_Final(March)/Checkpoints/Level_1/Epoch_24/weights-improvement- 2-0.22.hdf5\n",
      "Epoch 3/60\n",
      "720/720 [==============================] - 36s 50ms/step - loss: 2.3828 - acc: 0.3528 - val_loss: 2.2351 - val_acc: 0.2750\n",
      "\n",
      "Epoch 00003: saving model to E:Dataset_Final(March)/Checkpoints/Level_1/Epoch_24/weights-improvement- 3-0.28.hdf5\n",
      "Epoch 4/60\n",
      "720/720 [==============================] - 35s 49ms/step - loss: 1.8520 - acc: 0.3833 - val_loss: 1.9944 - val_acc: 0.3000\n",
      "\n",
      "Epoch 00004: saving model to E:Dataset_Final(March)/Checkpoints/Level_1/Epoch_24/weights-improvement- 4-0.30.hdf5\n",
      "Epoch 5/60\n",
      "720/720 [==============================] - 35s 49ms/step - loss: 1.5733 - acc: 0.4153 - val_loss: 1.8919 - val_acc: 0.3056\n",
      "\n",
      "Epoch 00005: saving model to E:Dataset_Final(March)/Checkpoints/Level_1/Epoch_24/weights-improvement- 5-0.31.hdf5\n",
      "Epoch 6/60\n",
      "720/720 [==============================] - 35s 49ms/step - loss: 1.4153 - acc: 0.4639 - val_loss: 1.9332 - val_acc: 0.3167\n",
      "\n",
      "Epoch 00006: saving model to E:Dataset_Final(March)/Checkpoints/Level_1/Epoch_24/weights-improvement- 6-0.32.hdf5\n",
      "Epoch 7/60\n",
      "720/720 [==============================] - 35s 49ms/step - loss: 1.2692 - acc: 0.4958 - val_loss: 1.9359 - val_acc: 0.3139\n",
      "\n",
      "Epoch 00007: saving model to E:Dataset_Final(March)/Checkpoints/Level_1/Epoch_24/weights-improvement- 7-0.31.hdf5\n",
      "Epoch 8/60\n",
      "720/720 [==============================] - 36s 50ms/step - loss: 1.1947 - acc: 0.5028 - val_loss: 1.9335 - val_acc: 0.3222\n",
      "\n",
      "Epoch 00008: saving model to E:Dataset_Final(March)/Checkpoints/Level_1/Epoch_24/weights-improvement- 8-0.32.hdf5\n",
      "Epoch 9/60\n",
      "720/720 [==============================] - 35s 49ms/step - loss: 1.1640 - acc: 0.5194 - val_loss: 1.8758 - val_acc: 0.3417\n",
      "\n",
      "Epoch 00009: saving model to E:Dataset_Final(March)/Checkpoints/Level_1/Epoch_24/weights-improvement- 9-0.34.hdf5\n",
      "Epoch 10/60\n",
      "720/720 [==============================] - 35s 49ms/step - loss: 1.1242 - acc: 0.5472 - val_loss: 1.9273 - val_acc: 0.3000\n",
      "\n",
      "Epoch 00010: saving model to E:Dataset_Final(March)/Checkpoints/Level_1/Epoch_24/weights-improvement-10-0.30.hdf5\n",
      "Epoch 11/60\n",
      "720/720 [==============================] - 37s 51ms/step - loss: 1.0420 - acc: 0.5597 - val_loss: 1.9254 - val_acc: 0.3250\n",
      "\n",
      "Epoch 00011: saving model to E:Dataset_Final(March)/Checkpoints/Level_1/Epoch_24/weights-improvement-11-0.32.hdf5\n",
      "Epoch 12/60\n",
      "720/720 [==============================] - 38s 52ms/step - loss: 1.0370 - acc: 0.5667 - val_loss: 1.9791 - val_acc: 0.3333\n",
      "\n",
      "Epoch 00012: saving model to E:Dataset_Final(March)/Checkpoints/Level_1/Epoch_24/weights-improvement-12-0.33.hdf5\n",
      "Epoch 13/60\n",
      "720/720 [==============================] - 37s 52ms/step - loss: 0.9544 - acc: 0.5806 - val_loss: 1.9558 - val_acc: 0.3389\n",
      "\n",
      "Epoch 00013: saving model to E:Dataset_Final(March)/Checkpoints/Level_1/Epoch_24/weights-improvement-13-0.34.hdf5\n",
      "Epoch 14/60\n",
      "720/720 [==============================] - 37s 52ms/step - loss: 0.9122 - acc: 0.6056 - val_loss: 2.0048 - val_acc: 0.3306\n",
      "\n",
      "Epoch 00014: saving model to E:Dataset_Final(March)/Checkpoints/Level_1/Epoch_24/weights-improvement-14-0.33.hdf5\n",
      "Epoch 15/60\n",
      "720/720 [==============================] - 37s 52ms/step - loss: 0.8872 - acc: 0.6069 - val_loss: 1.9537 - val_acc: 0.3361\n",
      "\n",
      "Epoch 00015: saving model to E:Dataset_Final(March)/Checkpoints/Level_1/Epoch_24/weights-improvement-15-0.34.hdf5\n",
      "Epoch 16/60\n",
      "720/720 [==============================] - 37s 52ms/step - loss: 0.8996 - acc: 0.5847 - val_loss: 2.0967 - val_acc: 0.3194\n",
      "\n",
      "Epoch 00016: saving model to E:Dataset_Final(March)/Checkpoints/Level_1/Epoch_24/weights-improvement-16-0.32.hdf5\n",
      "Epoch 17/60\n",
      "720/720 [==============================] - 37s 52ms/step - loss: 0.8424 - acc: 0.6111 - val_loss: 2.0940 - val_acc: 0.3361\n",
      "\n",
      "Epoch 00017: saving model to E:Dataset_Final(March)/Checkpoints/Level_1/Epoch_24/weights-improvement-17-0.34.hdf5\n",
      "Epoch 18/60\n",
      "720/720 [==============================] - 37s 52ms/step - loss: 0.8600 - acc: 0.6028 - val_loss: 2.0908 - val_acc: 0.3111\n",
      "\n",
      "Epoch 00018: saving model to E:Dataset_Final(March)/Checkpoints/Level_1/Epoch_24/weights-improvement-18-0.31.hdf5\n",
      "Epoch 19/60\n",
      "720/720 [==============================] - 37s 52ms/step - loss: 0.8625 - acc: 0.6042 - val_loss: 2.1175 - val_acc: 0.3194\n",
      "\n",
      "Epoch 00019: saving model to E:Dataset_Final(March)/Checkpoints/Level_1/Epoch_24/weights-improvement-19-0.32.hdf5\n",
      "Epoch 20/60\n",
      "720/720 [==============================] - 37s 51ms/step - loss: 0.7999 - acc: 0.6458 - val_loss: 2.1764 - val_acc: 0.3083\n",
      "\n",
      "Epoch 00020: saving model to E:Dataset_Final(March)/Checkpoints/Level_1/Epoch_24/weights-improvement-20-0.31.hdf5\n",
      "Epoch 21/60\n",
      "720/720 [==============================] - 37s 52ms/step - loss: 0.8451 - acc: 0.6181 - val_loss: 2.1265 - val_acc: 0.3306\n",
      "\n",
      "Epoch 00021: saving model to E:Dataset_Final(March)/Checkpoints/Level_1/Epoch_24/weights-improvement-21-0.33.hdf5\n",
      "Epoch 22/60\n",
      "720/720 [==============================] - 37s 51ms/step - loss: 0.7782 - acc: 0.6431 - val_loss: 2.1777 - val_acc: 0.3139\n",
      "\n",
      "Epoch 00022: saving model to E:Dataset_Final(March)/Checkpoints/Level_1/Epoch_24/weights-improvement-22-0.31.hdf5\n",
      "Epoch 23/60\n",
      "720/720 [==============================] - 37s 52ms/step - loss: 0.7832 - acc: 0.6389 - val_loss: 2.2122 - val_acc: 0.3222\n",
      "\n",
      "Epoch 00023: saving model to E:Dataset_Final(March)/Checkpoints/Level_1/Epoch_24/weights-improvement-23-0.32.hdf5\n",
      "Epoch 24/60\n",
      "720/720 [==============================] - 37s 52ms/step - loss: 0.7502 - acc: 0.6431 - val_loss: 2.2283 - val_acc: 0.3139\n",
      "\n",
      "Epoch 00024: saving model to E:Dataset_Final(March)/Checkpoints/Level_1/Epoch_24/weights-improvement-24-0.31.hdf5\n",
      "Epoch 25/60\n",
      "720/720 [==============================] - 37s 52ms/step - loss: 0.7794 - acc: 0.6458 - val_loss: 2.2058 - val_acc: 0.3278\n",
      "\n",
      "Epoch 00025: saving model to E:Dataset_Final(March)/Checkpoints/Level_1/Epoch_24/weights-improvement-25-0.33.hdf5\n",
      "Epoch 26/60\n",
      "720/720 [==============================] - 37s 52ms/step - loss: 0.7447 - acc: 0.6500 - val_loss: 2.2824 - val_acc: 0.3139\n",
      "\n",
      "Epoch 00026: saving model to E:Dataset_Final(March)/Checkpoints/Level_1/Epoch_24/weights-improvement-26-0.31.hdf5\n",
      "Epoch 27/60\n",
      "720/720 [==============================] - 38s 53ms/step - loss: 0.7508 - acc: 0.6542 - val_loss: 2.2962 - val_acc: 0.3139\n",
      "\n",
      "Epoch 00027: saving model to E:Dataset_Final(March)/Checkpoints/Level_1/Epoch_24/weights-improvement-27-0.31.hdf5\n",
      "Epoch 28/60\n",
      "720/720 [==============================] - 3560s 5s/step - loss: 0.7647 - acc: 0.6417 - val_loss: 2.2311 - val_acc: 0.3222\n",
      "\n",
      "Epoch 00028: saving model to E:Dataset_Final(March)/Checkpoints/Level_1/Epoch_24/weights-improvement-28-0.32.hdf5\n",
      "Epoch 29/60\n",
      "720/720 [==============================] - 37s 51ms/step - loss: 0.7081 - acc: 0.6708 - val_loss: 2.2087 - val_acc: 0.3306\n",
      "\n",
      "Epoch 00029: saving model to E:Dataset_Final(March)/Checkpoints/Level_1/Epoch_24/weights-improvement-29-0.33.hdf5\n",
      "Epoch 30/60\n",
      "720/720 [==============================] - 36s 50ms/step - loss: 0.7141 - acc: 0.6569 - val_loss: 2.2426 - val_acc: 0.3278\n",
      "\n",
      "Epoch 00030: saving model to E:Dataset_Final(March)/Checkpoints/Level_1/Epoch_24/weights-improvement-30-0.33.hdf5\n",
      "Epoch 31/60\n",
      "720/720 [==============================] - 35s 49ms/step - loss: 0.6963 - acc: 0.6778 - val_loss: 2.3562 - val_acc: 0.3111\n",
      "\n",
      "Epoch 00031: saving model to E:Dataset_Final(March)/Checkpoints/Level_1/Epoch_24/weights-improvement-31-0.31.hdf5\n",
      "Epoch 32/60\n",
      "720/720 [==============================] - 35s 49ms/step - loss: 0.7130 - acc: 0.6639 - val_loss: 2.2593 - val_acc: 0.3194\n",
      "\n",
      "Epoch 00032: saving model to E:Dataset_Final(March)/Checkpoints/Level_1/Epoch_24/weights-improvement-32-0.32.hdf5\n",
      "Epoch 33/60\n",
      "720/720 [==============================] - 35s 49ms/step - loss: 0.6871 - acc: 0.6667 - val_loss: 2.3474 - val_acc: 0.3167\n",
      "\n",
      "Epoch 00033: saving model to E:Dataset_Final(March)/Checkpoints/Level_1/Epoch_24/weights-improvement-33-0.32.hdf5\n",
      "Epoch 34/60\n"
     ]
    },
    {
     "name": "stdout",
     "output_type": "stream",
     "text": [
      "720/720 [==============================] - 35s 49ms/step - loss: 0.6961 - acc: 0.6694 - val_loss: 2.3360 - val_acc: 0.3139\n",
      "\n",
      "Epoch 00034: saving model to E:Dataset_Final(March)/Checkpoints/Level_1/Epoch_24/weights-improvement-34-0.31.hdf5\n",
      "Epoch 35/60\n",
      "720/720 [==============================] - 35s 49ms/step - loss: 0.6550 - acc: 0.6875 - val_loss: 2.3590 - val_acc: 0.3083\n",
      "\n",
      "Epoch 00035: saving model to E:Dataset_Final(March)/Checkpoints/Level_1/Epoch_24/weights-improvement-35-0.31.hdf5\n",
      "Epoch 36/60\n",
      "720/720 [==============================] - 35s 49ms/step - loss: 0.6743 - acc: 0.6889 - val_loss: 2.4457 - val_acc: 0.3139\n",
      "\n",
      "Epoch 00036: saving model to E:Dataset_Final(March)/Checkpoints/Level_1/Epoch_24/weights-improvement-36-0.31.hdf5\n",
      "Epoch 37/60\n",
      "720/720 [==============================] - 35s 49ms/step - loss: 0.6626 - acc: 0.6722 - val_loss: 2.4356 - val_acc: 0.3000\n",
      "\n",
      "Epoch 00037: saving model to E:Dataset_Final(March)/Checkpoints/Level_1/Epoch_24/weights-improvement-37-0.30.hdf5\n",
      "Epoch 38/60\n",
      "720/720 [==============================] - 35s 48ms/step - loss: 0.6803 - acc: 0.6750 - val_loss: 2.4210 - val_acc: 0.3389\n",
      "\n",
      "Epoch 00038: saving model to E:Dataset_Final(March)/Checkpoints/Level_1/Epoch_24/weights-improvement-38-0.34.hdf5\n",
      "Epoch 39/60\n",
      "720/720 [==============================] - 35s 49ms/step - loss: 0.6584 - acc: 0.6847 - val_loss: 2.4669 - val_acc: 0.3083\n",
      "\n",
      "Epoch 00039: saving model to E:Dataset_Final(March)/Checkpoints/Level_1/Epoch_24/weights-improvement-39-0.31.hdf5\n",
      "Epoch 40/60\n",
      "720/720 [==============================] - 35s 48ms/step - loss: 0.6442 - acc: 0.6847 - val_loss: 2.4477 - val_acc: 0.3139\n",
      "\n",
      "Epoch 00040: saving model to E:Dataset_Final(March)/Checkpoints/Level_1/Epoch_24/weights-improvement-40-0.31.hdf5\n",
      "Epoch 41/60\n",
      "720/720 [==============================] - 36s 49ms/step - loss: 0.6771 - acc: 0.6792 - val_loss: 2.4940 - val_acc: 0.3083\n",
      "\n",
      "Epoch 00041: saving model to E:Dataset_Final(March)/Checkpoints/Level_1/Epoch_24/weights-improvement-41-0.31.hdf5\n",
      "Epoch 42/60\n",
      "720/720 [==============================] - 37s 52ms/step - loss: 0.6736 - acc: 0.6653 - val_loss: 2.4756 - val_acc: 0.3167\n",
      "\n",
      "Epoch 00042: saving model to E:Dataset_Final(March)/Checkpoints/Level_1/Epoch_24/weights-improvement-42-0.32.hdf5\n",
      "Epoch 43/60\n",
      "720/720 [==============================] - 37s 52ms/step - loss: 0.6427 - acc: 0.6847 - val_loss: 2.4568 - val_acc: 0.3111\n",
      "\n",
      "Epoch 00043: saving model to E:Dataset_Final(March)/Checkpoints/Level_1/Epoch_24/weights-improvement-43-0.31.hdf5\n",
      "Epoch 44/60\n",
      "720/720 [==============================] - 44s 61ms/step - loss: 0.6421 - acc: 0.6861 - val_loss: 2.4712 - val_acc: 0.3000\n",
      "\n",
      "Epoch 00044: saving model to E:Dataset_Final(March)/Checkpoints/Level_1/Epoch_24/weights-improvement-44-0.30.hdf5\n",
      "Epoch 45/60\n",
      "720/720 [==============================] - 45s 63ms/step - loss: 0.6210 - acc: 0.7028 - val_loss: 2.4925 - val_acc: 0.3083\n",
      "\n",
      "Epoch 00045: saving model to E:Dataset_Final(March)/Checkpoints/Level_1/Epoch_24/weights-improvement-45-0.31.hdf5\n",
      "Epoch 46/60\n",
      "720/720 [==============================] - 38s 52ms/step - loss: 0.6417 - acc: 0.6847 - val_loss: 2.5032 - val_acc: 0.3083\n",
      "\n",
      "Epoch 00046: saving model to E:Dataset_Final(March)/Checkpoints/Level_1/Epoch_24/weights-improvement-46-0.31.hdf5\n",
      "Epoch 47/60\n",
      "720/720 [==============================] - 37s 51ms/step - loss: 0.6444 - acc: 0.7000 - val_loss: 2.5723 - val_acc: 0.3167\n",
      "\n",
      "Epoch 00047: saving model to E:Dataset_Final(March)/Checkpoints/Level_1/Epoch_24/weights-improvement-47-0.32.hdf5\n",
      "Epoch 48/60\n",
      "720/720 [==============================] - 38s 53ms/step - loss: 0.6126 - acc: 0.6972 - val_loss: 2.5341 - val_acc: 0.3194\n",
      "\n",
      "Epoch 00048: saving model to E:Dataset_Final(March)/Checkpoints/Level_1/Epoch_24/weights-improvement-48-0.32.hdf5\n",
      "Epoch 49/60\n",
      "720/720 [==============================] - 43s 59ms/step - loss: 0.6336 - acc: 0.6931 - val_loss: 2.5293 - val_acc: 0.3028\n",
      "\n",
      "Epoch 00049: saving model to E:Dataset_Final(March)/Checkpoints/Level_1/Epoch_24/weights-improvement-49-0.30.hdf5\n",
      "Epoch 50/60\n",
      "720/720 [==============================] - 37s 52ms/step - loss: 0.6143 - acc: 0.6847 - val_loss: 2.5471 - val_acc: 0.3056\n",
      "\n",
      "Epoch 00050: saving model to E:Dataset_Final(March)/Checkpoints/Level_1/Epoch_24/weights-improvement-50-0.31.hdf5\n",
      "Epoch 51/60\n",
      "720/720 [==============================] - 37s 51ms/step - loss: 0.5986 - acc: 0.6847 - val_loss: 2.5367 - val_acc: 0.3056\n",
      "\n",
      "Epoch 00051: saving model to E:Dataset_Final(March)/Checkpoints/Level_1/Epoch_24/weights-improvement-51-0.31.hdf5\n",
      "Epoch 52/60\n",
      "720/720 [==============================] - 37s 51ms/step - loss: 0.6003 - acc: 0.7028 - val_loss: 2.6251 - val_acc: 0.3250\n",
      "\n",
      "Epoch 00052: saving model to E:Dataset_Final(March)/Checkpoints/Level_1/Epoch_24/weights-improvement-52-0.32.hdf5\n",
      "Epoch 53/60\n",
      "720/720 [==============================] - 37s 51ms/step - loss: 0.5960 - acc: 0.7139 - val_loss: 2.6621 - val_acc: 0.3083\n",
      "\n",
      "Epoch 00053: saving model to E:Dataset_Final(March)/Checkpoints/Level_1/Epoch_24/weights-improvement-53-0.31.hdf5\n",
      "Epoch 54/60\n",
      "720/720 [==============================] - 36s 50ms/step - loss: 0.5928 - acc: 0.7042 - val_loss: 2.6239 - val_acc: 0.3056\n",
      "\n",
      "Epoch 00054: saving model to E:Dataset_Final(March)/Checkpoints/Level_1/Epoch_24/weights-improvement-54-0.31.hdf5\n",
      "Epoch 55/60\n",
      "720/720 [==============================] - 36s 51ms/step - loss: 0.6056 - acc: 0.6986 - val_loss: 2.6165 - val_acc: 0.3139\n",
      "\n",
      "Epoch 00055: saving model to E:Dataset_Final(March)/Checkpoints/Level_1/Epoch_24/weights-improvement-55-0.31.hdf5\n",
      "Epoch 56/60\n",
      "720/720 [==============================] - 37s 51ms/step - loss: 0.5811 - acc: 0.7194 - val_loss: 2.6718 - val_acc: 0.3000\n",
      "\n",
      "Epoch 00056: saving model to E:Dataset_Final(March)/Checkpoints/Level_1/Epoch_24/weights-improvement-56-0.30.hdf5\n",
      "Epoch 57/60\n",
      "720/720 [==============================] - 41s 56ms/step - loss: 0.5827 - acc: 0.7250 - val_loss: 2.6742 - val_acc: 0.3194\n",
      "\n",
      "Epoch 00057: saving model to E:Dataset_Final(March)/Checkpoints/Level_1/Epoch_24/weights-improvement-57-0.32.hdf5\n",
      "Epoch 58/60\n",
      "720/720 [==============================] - 37s 51ms/step - loss: 0.6145 - acc: 0.6931 - val_loss: 2.6536 - val_acc: 0.3056\n",
      "\n",
      "Epoch 00058: saving model to E:Dataset_Final(March)/Checkpoints/Level_1/Epoch_24/weights-improvement-58-0.31.hdf5\n",
      "Epoch 59/60\n",
      "720/720 [==============================] - 37s 51ms/step - loss: 0.6223 - acc: 0.6972 - val_loss: 2.6511 - val_acc: 0.3083\n",
      "\n",
      "Epoch 00059: saving model to E:Dataset_Final(March)/Checkpoints/Level_1/Epoch_24/weights-improvement-59-0.31.hdf5\n",
      "Epoch 60/60\n",
      "720/720 [==============================] - 37s 51ms/step - loss: 0.5876 - acc: 0.7042 - val_loss: 2.5899 - val_acc: 0.3111\n",
      "\n",
      "Epoch 00060: saving model to E:Dataset_Final(March)/Checkpoints/Level_1/Epoch_24/weights-improvement-60-0.31.hdf5\n"
     ]
    }
   ],
   "source": [
    "hist=model.fit(x_train, y_train, \n",
    "               batch_size=batch_size,\n",
    "               epochs=epochs,\n",
    "               validation_data=(x_test, y_test),\n",
    "               callbacks=[checkpoint]\n",
    "               )"
   ]
  },
  {
   "cell_type": "code",
   "execution_count": null,
   "metadata": {
    "collapsed": true
   },
   "outputs": [],
   "source": []
  }
 ],
 "metadata": {
  "kernelspec": {
   "display_name": "Python 3",
   "language": "python",
   "name": "python3"
  },
  "language_info": {
   "codemirror_mode": {
    "name": "ipython",
    "version": 3
   },
   "file_extension": ".py",
   "mimetype": "text/x-python",
   "name": "python",
   "nbconvert_exporter": "python",
   "pygments_lexer": "ipython3",
   "version": "3.6.3"
  }
 },
 "nbformat": 4,
 "nbformat_minor": 2
}
