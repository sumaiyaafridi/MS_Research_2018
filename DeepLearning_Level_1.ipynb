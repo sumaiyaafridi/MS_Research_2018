{
 "cells": [
  {
   "cell_type": "code",
   "execution_count": 1,
   "metadata": {
    "collapsed": true
   },
   "outputs": [],
   "source": [
    "import numpy \n",
    "numpy.random.seed(1337)"
   ]
  },
  {
   "cell_type": "code",
   "execution_count": 2,
   "metadata": {},
   "outputs": [
    {
     "name": "stderr",
     "output_type": "stream",
     "text": [
      "Using TensorFlow backend.\n"
     ]
    }
   ],
   "source": [
    "import h5py\n",
    "import keras\n",
    "from keras.models import Sequential, Model\n",
    "from keras.layers import Dense, Activation, Flatten, Input, MaxPooling2D, Dropout, AveragePooling2D, GlobalAveragePooling2D\n",
    "from keras.layers import Conv2D, Embedding\n",
    "from keras.optimizers import SGD, rmsprop\n",
    "from sklearn.metrics import classification_report, confusion_matrix, precision_recall_fscore_support, accuracy_score, f1_score, precision_score, recall_score\n",
    "from sklearn.utils import class_weight\n",
    "from sklearn.utils.class_weight import compute_class_weight\n",
    "from sklearn.preprocessing import LabelEncoder\n",
    "from keras.layers.advanced_activations import LeakyReLU, PReLU, ELU\n",
    "from keras_contrib.layers.advanced_activations import PELU, SReLU"
   ]
  },
  {
   "cell_type": "code",
   "execution_count": 3,
   "metadata": {
    "collapsed": true
   },
   "outputs": [],
   "source": [
    "batch_size=10\n",
    "num_classes=37\n",
    "epochs=40"
   ]
  },
  {
   "cell_type": "code",
   "execution_count": 4,
   "metadata": {
    "collapsed": true
   },
   "outputs": [],
   "source": [
    "import os\n",
    "from PIL import Image\n",
    "import matplotlib.image as mpimg"
   ]
  },
  {
   "cell_type": "code",
   "execution_count": 5,
   "metadata": {
    "collapsed": true
   },
   "outputs": [],
   "source": [
    "os.chdir(\"E:\");\n",
    "path=\"E:/Dataset_Final(March)/One\";\n",
    "classes=os.listdir(path)\n",
    "x=[]#Datapoints \n",
    "y=[]#labels \n",
    "for fol in classes:\n",
    "    imgfiles=os.listdir(path+u'\\\\'+fol);\n",
    "    for img in imgfiles:\n",
    "        im=mpimg.imread(path+u'\\\\'+fol+u'\\\\'+img);\n",
    "        x.append(im)\n",
    "        y.append(fol)\n",
    "x=numpy.array(x)\n",
    "y=numpy.array(y)"
   ]
  },
  {
   "cell_type": "code",
   "execution_count": 6,
   "metadata": {},
   "outputs": [
    {
     "name": "stdout",
     "output_type": "stream",
     "text": [
      "(144, 100, 100)\n",
      "(144,)\n"
     ]
    }
   ],
   "source": [
    "print(x.shape)\n",
    "print(y.shape)\n",
    "x=x.reshape((-1,100,100,1))"
   ]
  },
  {
   "cell_type": "code",
   "execution_count": 7,
   "metadata": {
    "collapsed": true
   },
   "outputs": [],
   "source": [
    "n=x.shape[0]\n",
    "randomize=numpy.arange(n)\n",
    "numpy.random.shuffle(randomize)\n",
    "randomize\n",
    "x=x[randomize]\n",
    "y=y[randomize]"
   ]
  },
  {
   "cell_type": "code",
   "execution_count": 8,
   "metadata": {},
   "outputs": [
    {
     "name": "stdout",
     "output_type": "stream",
     "text": [
      "(96, 100, 100, 1)\n",
      "(96,)\n",
      "(48, 100, 100, 1)\n",
      "(48,)\n"
     ]
    }
   ],
   "source": [
    "test_split=round(n*2/3)\n",
    "x_train=x[:test_split]\n",
    "y_train=y[:test_split]\n",
    "x_test=x[test_split:]\n",
    "y_test=y[test_split:]\n",
    "\n",
    "print(x_train.shape)\n",
    "print(y_train.shape)\n",
    "print(x_test.shape)\n",
    "print(y_test.shape)"
   ]
  },
  {
   "cell_type": "code",
   "execution_count": 9,
   "metadata": {
    "scrolled": true
   },
   "outputs": [
    {
     "data": {
      "text/plain": [
       "array([[ 0.,  0.,  0.,  0.,  0.,  0.,  0.,  0.,  0.,  0.,  0.,  0.,  0.,\n",
       "         0.,  0.,  0.,  0.,  0.,  0.,  0.,  0.,  0.,  0.,  1.,  0.,  0.,\n",
       "         0.,  0.,  0.,  0.,  0.,  0.,  0.,  0.,  0.,  0.,  0.]])"
      ]
     },
     "execution_count": 9,
     "metadata": {},
     "output_type": "execute_result"
    }
   ],
   "source": [
    "y_train=keras.utils.to_categorical(y_train, num_classes)\n",
    "y_test=keras.utils.to_categorical(y_test, num_classes)\n",
    "y_train[:1]"
   ]
  },
  {
   "cell_type": "code",
   "execution_count": 10,
   "metadata": {
    "collapsed": true
   },
   "outputs": [],
   "source": [
    "# inputs=Input(shape=(100,100,1))\n",
    "# x=Conv2D(32, (6, 6), padding='same', strides=1)(inputs)\n",
    "# x=SReLU()(x)\n",
    "# x=Conv2D(32, (6, 6), padding='same')(x)\n",
    "# x=SReLU()(x)\n",
    "# x=MaxPooling2D(pool_size=(2,2), strides=1)(x)\n",
    "# x=Dropout(0.2)(x)\n",
    "# x=Conv2D(24, (3, 3), padding='same', strides=1)(x)\n",
    "# x=SReLU()(x)\n",
    "# x=Conv2D(24, (3, 3), padding='same')(x)\n",
    "# x=SReLU()(x)\n",
    "# x=MaxPooling2D(pool_size=(2,2), strides=1)(x)\n",
    "# x=Dropout(0.2)(x)\n",
    "\n",
    "# x=Flatten()(x)#-------------------------------------------------------------------------------0.58(ep-37)\n",
    "# x=Dense(256)(x)\n",
    "# x=SReLU()(x)\n",
    "# x=Dense(num_classes)(x)\n",
    "\n",
    "# output=Activation('softmax')(x)\n",
    "# model=Model([inputs], output)"
   ]
  },
  {
   "cell_type": "code",
   "execution_count": 16,
   "metadata": {
    "collapsed": true
   },
   "outputs": [],
   "source": [
    "# inputs=Input(shape=(100,100,1))\n",
    "\n",
    "# x=Conv2D(128,(3,3), padding='same')(inputs)\n",
    "# x=SReLU()(x)\n",
    "# x=Conv2D(64,(3,3))(x)\n",
    "# x=SReLU()(x)\n",
    "# x=MaxPooling2D(pool_size=(2,2))(x)\n",
    "# x=Dropout(0.2)(x)\n",
    "# x=Flatten()(x)\n",
    "# x=Dense(num_classes)(x)\n",
    "# #x=Activation('softmax')(x)\n",
    "# output=Activation('softmax')(x)\n",
    "# model=Model([inputs], output)"
   ]
  },
  {
   "cell_type": "code",
   "execution_count": 12,
   "metadata": {
    "collapsed": true
   },
   "outputs": [],
   "source": [
    "# inputs=Input(shape=(100,100,1))\n",
    "# x=Conv2D(16, (3, 3), padding='same')(inputs)\n",
    "# x=Conv2D(16, (3, 3), padding='same')(x)\n",
    "# x=MaxPooling2D(pool_size=(2,2))(x)\n",
    "# x=Conv2D(32, (3, 3), padding='same')(x)\n",
    "# x=Conv2D(32, (3, 3), padding='same')(x)\n",
    "# x=MaxPooling2D(pool_size=(2,2))(x)\n",
    "# x=Conv2D(64, (3, 3), padding='same')(x)\n",
    "# x=Conv2D(64, (3, 3), padding='same')(x)\n",
    "# x=MaxPooling2D(pool_size=(2,2))(x)\n",
    "# x=Conv2D(72, (3, 3), padding='same')(x)\n",
    "# x=Conv2D(72, (3, 3), padding='same')(x)\n",
    "# x=MaxPooling2D(pool_size=(2,2))(x)\n",
    "# x=Conv2D(94, (3, 3), padding='same')(x)\n",
    "# x=Conv2D(94, (3, 3), padding='same')(x)\n",
    "# x=MaxPooling2D(pool_size=(2,2))(x)\n",
    "# x=Dropout(0.2)(x)\n",
    "# x=SReLU()(x)\n",
    "# x=Flatten()(x)-----------------------------------------------0.60(ep-38)\n",
    "# # x=Dense(37)(x)\n",
    "# # x=SReLU()(x)\n",
    "\n",
    "# x=Dense(num_classes)(x)\n",
    "# #x=SReLU()(x)\n",
    "# output=Activation('softmax')(x)\n",
    "# model=Model([inputs], output)"
   ]
  },
  {
   "cell_type": "code",
   "execution_count": 13,
   "metadata": {
    "collapsed": true
   },
   "outputs": [],
   "source": [
    "# inputs=Input(shape=(100,100,1))\n",
    "# x=Conv2D(16, (3, 3), padding='same')(inputs)\n",
    "# x=Conv2D(16, (3, 3), padding='same')(x)\n",
    "# x=MaxPooling2D(pool_size=(2,2))(x)\n",
    "# x=Conv2D(32, (3, 3), padding='same')(x)\n",
    "# x=Conv2D(32, (3, 3), padding='same')(x)\n",
    "# x=MaxPooling2D(pool_size=(2,2))(x)\n",
    "# x=Conv2D(64, (3, 3), padding='same')(x)\n",
    "# x=Conv2D(64, (3, 3), padding='same')(x)\n",
    "# x=MaxPooling2D(pool_size=(2,2))(x)\n",
    "# x=Conv2D(72, (3, 3), padding='same')(x)\n",
    "# x=Conv2D(72, (3, 3), padding='same')(x)\n",
    "# x=MaxPooling2D(pool_size=(2,2))(x)\n",
    "# x=Conv2D(128, (3, 3), padding='same')(x)\n",
    "# x=Conv2D(128, (3, 3), padding='same')(x)\n",
    "# x=MaxPooling2D(pool_size=(2,2))(x)\n",
    "# x=Dropout(0.5)(x)\n",
    "# x=SReLU()(x)\n",
    "# x=Flatten()(x)\n",
    "# # x=Dense(37)(x)\n",
    "# # x=SReLU()(x)--------------------------------------------------------------0.62(ep-39)\n",
    "\n",
    "# x=Dense(num_classes)(x)\n",
    "# #x=SReLU()(x)\n",
    "# output=Activation('softmax')(x)\n",
    "# model=Model([inputs], output)"
   ]
  },
  {
   "cell_type": "code",
   "execution_count": 14,
   "metadata": {
    "collapsed": true
   },
   "outputs": [],
   "source": [
    "# inputs=Input(shape=(100,100,1))\n",
    "\n",
    "# x=Conv2D(16, (3, 3), padding='same')(inputs)\n",
    "# x=Conv2D(16, (3, 3), padding='same')(x)\n",
    "# x=MaxPooling2D(pool_size=(2,2))(x)\n",
    "# x=SReLU()(x)\n",
    "\n",
    "\n",
    "# x=Conv2D(32, (3, 3), padding='same')(x)\n",
    "# x=Conv2D(32, (3, 3), padding='same')(x)\n",
    "# x=MaxPooling2D(pool_size=(2,2))(x)\n",
    "# x=SReLU()(x)\n",
    "\n",
    "\n",
    "# x=Conv2D(64, (3, 3), padding='same')(x)\n",
    "# x=Conv2D(64, (3, 3), padding='same')(x)\n",
    "# x=MaxPooling2D(pool_size=(2,2))(x)\n",
    "# x=SReLU()(x)\n",
    "\n",
    "\n",
    "# x=Conv2D(128, (3, 3), padding='same')(x)\n",
    "# x=Conv2D(128, (3, 3), padding='same')(x)\n",
    "# x=MaxPooling2D(pool_size=(2,2))(x)\n",
    "# x=Dropout(0.2)(x)\n",
    "# x=SReLU()(x)\n",
    "\n",
    "\n",
    "\n",
    "\n",
    "# x=Flatten()(x)\n",
    "# # x=Dropout(0.5)(x)\n",
    "# # x=SReLU()(x)\n",
    "\n",
    "\n",
    "# # x=Dense(112)(x)\n",
    "# # x=Dropout(0.5)(x)\n",
    "# # x=SReLU()(x)#--------------------------------------------------------------0.65(ep-39)\n",
    "\n",
    "# x=Dense(num_classes)(x)\n",
    "# #x=SReLU()(x)\n",
    "# output=Activation('softmax')(x)\n",
    "# model=Model([inputs], output)"
   ]
  },
  {
   "cell_type": "code",
   "execution_count": 17,
   "metadata": {
    "collapsed": true
   },
   "outputs": [],
   "source": [
    "inputs=Input(shape=(100,100,1))\n",
    "\n",
    "x=Conv2D(16, (3, 3), padding='same')(inputs)\n",
    "x=Conv2D(16, (3, 3), padding='same')(x)\n",
    "x=MaxPooling2D(pool_size=(2,2))(x)\n",
    "x=SReLU()(x)\n",
    "\n",
    "\n",
    "x=Conv2D(32, (3, 3), padding='same')(x)\n",
    "x=Conv2D(32, (3, 3), padding='same')(x)\n",
    "x=MaxPooling2D(pool_size=(2,2))(x)\n",
    "x=SReLU()(x)\n",
    "\n",
    "\n",
    "x=Conv2D(64, (3, 3), padding='same')(x)\n",
    "x=Conv2D(64, (3, 3), padding='same')(x)\n",
    "x=MaxPooling2D(pool_size=(2,2))(x)\n",
    "x=SReLU()(x)\n",
    "\n",
    "\n",
    "x=Conv2D(128, (3, 3), padding='same')(x)\n",
    "x=Conv2D(128, (3, 3), padding='same')(x)\n",
    "x=MaxPooling2D(pool_size=(2,2))(x)\n",
    "x=Dropout(0.2)(x)\n",
    "x=SReLU()(x)\n",
    "\n",
    "\n",
    "\n",
    "\n",
    "x=Flatten()(x)\n",
    "x=Dense(num_classes)(x)\n",
    "output=Activation('softmax')(x)\n",
    "model=Model([inputs], output)"
   ]
  },
  {
   "cell_type": "code",
   "execution_count": 18,
   "metadata": {},
   "outputs": [
    {
     "name": "stdout",
     "output_type": "stream",
     "text": [
      "_________________________________________________________________\n",
      "Layer (type)                 Output Shape              Param #   \n",
      "=================================================================\n",
      "input_3 (InputLayer)         (None, 100, 100, 1)       0         \n",
      "_________________________________________________________________\n",
      "conv2d_11 (Conv2D)           (None, 100, 100, 16)      160       \n",
      "_________________________________________________________________\n",
      "conv2d_12 (Conv2D)           (None, 100, 100, 16)      2320      \n",
      "_________________________________________________________________\n",
      "max_pooling2d_6 (MaxPooling2 (None, 50, 50, 16)        0         \n",
      "_________________________________________________________________\n",
      "s_re_lu_7 (SReLU)            (None, 50, 50, 16)        160000    \n",
      "_________________________________________________________________\n",
      "conv2d_13 (Conv2D)           (None, 50, 50, 32)        4640      \n",
      "_________________________________________________________________\n",
      "conv2d_14 (Conv2D)           (None, 50, 50, 32)        9248      \n",
      "_________________________________________________________________\n",
      "max_pooling2d_7 (MaxPooling2 (None, 25, 25, 32)        0         \n",
      "_________________________________________________________________\n",
      "s_re_lu_8 (SReLU)            (None, 25, 25, 32)        80000     \n",
      "_________________________________________________________________\n",
      "conv2d_15 (Conv2D)           (None, 25, 25, 64)        18496     \n",
      "_________________________________________________________________\n",
      "conv2d_16 (Conv2D)           (None, 25, 25, 64)        36928     \n",
      "_________________________________________________________________\n",
      "max_pooling2d_8 (MaxPooling2 (None, 12, 12, 64)        0         \n",
      "_________________________________________________________________\n",
      "s_re_lu_9 (SReLU)            (None, 12, 12, 64)        36864     \n",
      "_________________________________________________________________\n",
      "conv2d_17 (Conv2D)           (None, 12, 12, 128)       73856     \n",
      "_________________________________________________________________\n",
      "conv2d_18 (Conv2D)           (None, 12, 12, 128)       147584    \n",
      "_________________________________________________________________\n",
      "max_pooling2d_9 (MaxPooling2 (None, 6, 6, 128)         0         \n",
      "_________________________________________________________________\n",
      "dropout_3 (Dropout)          (None, 6, 6, 128)         0         \n",
      "_________________________________________________________________\n",
      "s_re_lu_10 (SReLU)           (None, 6, 6, 128)         18432     \n",
      "_________________________________________________________________\n",
      "flatten_3 (Flatten)          (None, 4608)              0         \n",
      "_________________________________________________________________\n",
      "dense_3 (Dense)              (None, 37)                170533    \n",
      "_________________________________________________________________\n",
      "activation_3 (Activation)    (None, 37)                0         \n",
      "=================================================================\n",
      "Total params: 759,061\n",
      "Trainable params: 759,061\n",
      "Non-trainable params: 0\n",
      "_________________________________________________________________\n"
     ]
    }
   ],
   "source": [
    "model.summary()"
   ]
  },
  {
   "cell_type": "code",
   "execution_count": 19,
   "metadata": {
    "collapsed": true
   },
   "outputs": [],
   "source": [
    "opt=keras.optimizers.RMSprop(lr=1e-3)"
   ]
  },
  {
   "cell_type": "code",
   "execution_count": 20,
   "metadata": {
    "collapsed": true
   },
   "outputs": [],
   "source": [
    "model.compile(loss='categorical_crossentropy', optimizer=opt, metrics=['accuracy'])"
   ]
  },
  {
   "cell_type": "code",
   "execution_count": 21,
   "metadata": {
    "collapsed": true
   },
   "outputs": [],
   "source": [
    "import h5py\n",
    "from keras.callbacks import ModelCheckpoint\n",
    "filepath='E:Dataset_Final(March)/Checkpoints/Level_1/Epoch_41/weights-improvement-{epoch:2d}-{val_acc:.2f}.hdf5'\n",
    "checkpoint=ModelCheckpoint(filepath, monitor='val_acc', verbose=1, mode='max')"
   ]
  },
  {
   "cell_type": "code",
   "execution_count": 22,
   "metadata": {},
   "outputs": [
    {
     "name": "stdout",
     "output_type": "stream",
     "text": [
      "Train on 96 samples, validate on 48 samples\n",
      "Epoch 1/40\n",
      "96/96 [==============================] - 6s 64ms/step - loss: 3.6873 - acc: 0.0104 - val_loss: 3.7329 - val_acc: 0.0000e+00\n",
      "\n",
      "Epoch 00001: saving model to E:Dataset_Final(March)/Checkpoints/Level_1/Epoch_41/weights-improvement- 1-0.00.hdf5\n",
      "Epoch 2/40\n",
      "96/96 [==============================] - 5s 53ms/step - loss: 3.6170 - acc: 0.0521 - val_loss: 3.8381 - val_acc: 0.0000e+00\n",
      "\n",
      "Epoch 00002: saving model to E:Dataset_Final(March)/Checkpoints/Level_1/Epoch_41/weights-improvement- 2-0.00.hdf5\n",
      "Epoch 3/40\n",
      "96/96 [==============================] - 5s 55ms/step - loss: 3.3152 - acc: 0.0833 - val_loss: 3.2382 - val_acc: 0.1667\n",
      "\n",
      "Epoch 00003: saving model to E:Dataset_Final(March)/Checkpoints/Level_1/Epoch_41/weights-improvement- 3-0.17.hdf5\n",
      "Epoch 4/40\n",
      "96/96 [==============================] - 5s 54ms/step - loss: 2.6756 - acc: 0.2917 - val_loss: 2.6266 - val_acc: 0.1667\n",
      "\n",
      "Epoch 00004: saving model to E:Dataset_Final(March)/Checkpoints/Level_1/Epoch_41/weights-improvement- 4-0.17.hdf5\n",
      "Epoch 5/40\n",
      "96/96 [==============================] - 5s 54ms/step - loss: 2.0565 - acc: 0.3333 - val_loss: 2.4506 - val_acc: 0.2917\n",
      "\n",
      "Epoch 00005: saving model to E:Dataset_Final(March)/Checkpoints/Level_1/Epoch_41/weights-improvement- 5-0.29.hdf5\n",
      "Epoch 6/40\n",
      "96/96 [==============================] - 5s 54ms/step - loss: 1.7263 - acc: 0.4167 - val_loss: 1.7303 - val_acc: 0.4167\n",
      "\n",
      "Epoch 00006: saving model to E:Dataset_Final(March)/Checkpoints/Level_1/Epoch_41/weights-improvement- 6-0.42.hdf5\n",
      "Epoch 7/40\n",
      "96/96 [==============================] - 5s 54ms/step - loss: 1.6439 - acc: 0.4896 - val_loss: 1.5695 - val_acc: 0.4792\n",
      "\n",
      "Epoch 00007: saving model to E:Dataset_Final(March)/Checkpoints/Level_1/Epoch_41/weights-improvement- 7-0.48.hdf5\n",
      "Epoch 8/40\n",
      "96/96 [==============================] - 5s 53ms/step - loss: 1.2903 - acc: 0.5833 - val_loss: 1.4481 - val_acc: 0.5833\n",
      "\n",
      "Epoch 00008: saving model to E:Dataset_Final(March)/Checkpoints/Level_1/Epoch_41/weights-improvement- 8-0.58.hdf5\n",
      "Epoch 9/40\n",
      "96/96 [==============================] - 5s 53ms/step - loss: 1.2205 - acc: 0.5625 - val_loss: 1.6245 - val_acc: 0.4375\n",
      "\n",
      "Epoch 00009: saving model to E:Dataset_Final(March)/Checkpoints/Level_1/Epoch_41/weights-improvement- 9-0.44.hdf5\n",
      "Epoch 10/40\n",
      "96/96 [==============================] - 5s 53ms/step - loss: 1.0472 - acc: 0.5833 - val_loss: 1.6225 - val_acc: 0.5000\n",
      "\n",
      "Epoch 00010: saving model to E:Dataset_Final(March)/Checkpoints/Level_1/Epoch_41/weights-improvement-10-0.50.hdf5\n",
      "Epoch 11/40\n",
      "96/96 [==============================] - 5s 54ms/step - loss: 1.0932 - acc: 0.5833 - val_loss: 1.3472 - val_acc: 0.5000\n",
      "\n",
      "Epoch 00011: saving model to E:Dataset_Final(March)/Checkpoints/Level_1/Epoch_41/weights-improvement-11-0.50.hdf5\n",
      "Epoch 12/40\n",
      "96/96 [==============================] - 5s 54ms/step - loss: 1.0174 - acc: 0.5938 - val_loss: 1.4672 - val_acc: 0.4375\n",
      "\n",
      "Epoch 00012: saving model to E:Dataset_Final(March)/Checkpoints/Level_1/Epoch_41/weights-improvement-12-0.44.hdf5\n",
      "Epoch 13/40\n",
      "96/96 [==============================] - 5s 54ms/step - loss: 0.9754 - acc: 0.6042 - val_loss: 1.4275 - val_acc: 0.5000\n",
      "\n",
      "Epoch 00013: saving model to E:Dataset_Final(March)/Checkpoints/Level_1/Epoch_41/weights-improvement-13-0.50.hdf5\n",
      "Epoch 14/40\n",
      "96/96 [==============================] - 5s 53ms/step - loss: 0.9666 - acc: 0.6354 - val_loss: 1.1248 - val_acc: 0.5417\n",
      "\n",
      "Epoch 00014: saving model to E:Dataset_Final(March)/Checkpoints/Level_1/Epoch_41/weights-improvement-14-0.54.hdf5\n",
      "Epoch 15/40\n",
      "96/96 [==============================] - 5s 53ms/step - loss: 0.9238 - acc: 0.5625 - val_loss: 1.1079 - val_acc: 0.6458\n",
      "\n",
      "Epoch 00015: saving model to E:Dataset_Final(March)/Checkpoints/Level_1/Epoch_41/weights-improvement-15-0.65.hdf5\n",
      "Epoch 16/40\n",
      "96/96 [==============================] - 5s 53ms/step - loss: 0.9657 - acc: 0.5521 - val_loss: 1.0420 - val_acc: 0.5833\n",
      "\n",
      "Epoch 00016: saving model to E:Dataset_Final(March)/Checkpoints/Level_1/Epoch_41/weights-improvement-16-0.58.hdf5\n",
      "Epoch 17/40\n",
      "96/96 [==============================] - 6s 57ms/step - loss: 0.8488 - acc: 0.5938 - val_loss: 1.9290 - val_acc: 0.4167\n",
      "\n",
      "Epoch 00017: saving model to E:Dataset_Final(March)/Checkpoints/Level_1/Epoch_41/weights-improvement-17-0.42.hdf5\n",
      "Epoch 18/40\n",
      "96/96 [==============================] - 5s 57ms/step - loss: 0.8815 - acc: 0.5729 - val_loss: 1.3183 - val_acc: 0.5000\n",
      "\n",
      "Epoch 00018: saving model to E:Dataset_Final(March)/Checkpoints/Level_1/Epoch_41/weights-improvement-18-0.50.hdf5\n",
      "Epoch 19/40\n",
      "96/96 [==============================] - 5s 54ms/step - loss: 0.7934 - acc: 0.5729 - val_loss: 1.4468 - val_acc: 0.5208\n",
      "\n",
      "Epoch 00019: saving model to E:Dataset_Final(March)/Checkpoints/Level_1/Epoch_41/weights-improvement-19-0.52.hdf5\n",
      "Epoch 20/40\n",
      "96/96 [==============================] - 5s 56ms/step - loss: 0.8165 - acc: 0.6146 - val_loss: 1.6003 - val_acc: 0.5417\n",
      "\n",
      "Epoch 00020: saving model to E:Dataset_Final(March)/Checkpoints/Level_1/Epoch_41/weights-improvement-20-0.54.hdf5\n",
      "Epoch 21/40\n",
      "96/96 [==============================] - 6s 60ms/step - loss: 0.8947 - acc: 0.6042 - val_loss: 1.1157 - val_acc: 0.5833\n",
      "\n",
      "Epoch 00021: saving model to E:Dataset_Final(March)/Checkpoints/Level_1/Epoch_41/weights-improvement-21-0.58.hdf5\n",
      "Epoch 22/40\n",
      "96/96 [==============================] - 6s 61ms/step - loss: 0.8474 - acc: 0.6250 - val_loss: 1.4267 - val_acc: 0.5625\n",
      "\n",
      "Epoch 00022: saving model to E:Dataset_Final(March)/Checkpoints/Level_1/Epoch_41/weights-improvement-22-0.56.hdf5\n",
      "Epoch 23/40\n",
      "96/96 [==============================] - 6s 64ms/step - loss: 0.7447 - acc: 0.6458 - val_loss: 1.4917 - val_acc: 0.5208\n",
      "\n",
      "Epoch 00023: saving model to E:Dataset_Final(March)/Checkpoints/Level_1/Epoch_41/weights-improvement-23-0.52.hdf5\n",
      "Epoch 24/40\n",
      "96/96 [==============================] - 7s 69ms/step - loss: 0.8082 - acc: 0.5938 - val_loss: 1.4121 - val_acc: 0.4583\n",
      "\n",
      "Epoch 00024: saving model to E:Dataset_Final(March)/Checkpoints/Level_1/Epoch_41/weights-improvement-24-0.46.hdf5\n",
      "Epoch 25/40\n",
      "96/96 [==============================] - 6s 62ms/step - loss: 0.7628 - acc: 0.6458 - val_loss: 1.7003 - val_acc: 0.5417\n",
      "\n",
      "Epoch 00025: saving model to E:Dataset_Final(March)/Checkpoints/Level_1/Epoch_41/weights-improvement-25-0.54.hdf5\n",
      "Epoch 26/40\n",
      "96/96 [==============================] - 5s 56ms/step - loss: 0.7819 - acc: 0.6042 - val_loss: 1.3998 - val_acc: 0.5833\n",
      "\n",
      "Epoch 00026: saving model to E:Dataset_Final(March)/Checkpoints/Level_1/Epoch_41/weights-improvement-26-0.58.hdf5\n",
      "Epoch 27/40\n",
      "96/96 [==============================] - 6s 67ms/step - loss: 0.7132 - acc: 0.6250 - val_loss: 1.3105 - val_acc: 0.5417\n",
      "\n",
      "Epoch 00027: saving model to E:Dataset_Final(March)/Checkpoints/Level_1/Epoch_41/weights-improvement-27-0.54.hdf5\n",
      "Epoch 28/40\n",
      "96/96 [==============================] - 6s 63ms/step - loss: 0.7767 - acc: 0.6146 - val_loss: 1.1831 - val_acc: 0.5625\n",
      "\n",
      "Epoch 00028: saving model to E:Dataset_Final(March)/Checkpoints/Level_1/Epoch_41/weights-improvement-28-0.56.hdf5\n",
      "Epoch 29/40\n",
      "96/96 [==============================] - 6s 63ms/step - loss: 0.6695 - acc: 0.6875 - val_loss: 1.3145 - val_acc: 0.5625\n",
      "\n",
      "Epoch 00029: saving model to E:Dataset_Final(March)/Checkpoints/Level_1/Epoch_41/weights-improvement-29-0.56.hdf5\n",
      "Epoch 30/40\n",
      "96/96 [==============================] - 6s 60ms/step - loss: 0.6914 - acc: 0.6458 - val_loss: 1.6227 - val_acc: 0.5417\n",
      "\n",
      "Epoch 00030: saving model to E:Dataset_Final(March)/Checkpoints/Level_1/Epoch_41/weights-improvement-30-0.54.hdf5\n",
      "Epoch 31/40\n",
      "96/96 [==============================] - 6s 60ms/step - loss: 0.7029 - acc: 0.6667 - val_loss: 1.5965 - val_acc: 0.5208\n",
      "\n",
      "Epoch 00031: saving model to E:Dataset_Final(March)/Checkpoints/Level_1/Epoch_41/weights-improvement-31-0.52.hdf5\n",
      "Epoch 32/40\n",
      "96/96 [==============================] - 6s 59ms/step - loss: 0.7391 - acc: 0.6042 - val_loss: 1.3848 - val_acc: 0.5625\n",
      "\n",
      "Epoch 00032: saving model to E:Dataset_Final(March)/Checkpoints/Level_1/Epoch_41/weights-improvement-32-0.56.hdf5\n",
      "Epoch 33/40\n",
      "96/96 [==============================] - 5s 57ms/step - loss: 0.7011 - acc: 0.6354 - val_loss: 1.5538 - val_acc: 0.5000\n",
      "\n",
      "Epoch 00033: saving model to E:Dataset_Final(March)/Checkpoints/Level_1/Epoch_41/weights-improvement-33-0.50.hdf5\n"
     ]
    },
    {
     "name": "stdout",
     "output_type": "stream",
     "text": [
      "Epoch 34/40\n",
      "96/96 [==============================] - 5s 54ms/step - loss: 0.6802 - acc: 0.6458 - val_loss: 1.5749 - val_acc: 0.5417\n",
      "\n",
      "Epoch 00034: saving model to E:Dataset_Final(March)/Checkpoints/Level_1/Epoch_41/weights-improvement-34-0.54.hdf5\n",
      "Epoch 35/40\n",
      "96/96 [==============================] - 5s 56ms/step - loss: 0.6633 - acc: 0.6146 - val_loss: 1.8877 - val_acc: 0.4583\n",
      "\n",
      "Epoch 00035: saving model to E:Dataset_Final(March)/Checkpoints/Level_1/Epoch_41/weights-improvement-35-0.46.hdf5\n",
      "Epoch 36/40\n",
      "96/96 [==============================] - 5s 55ms/step - loss: 0.6795 - acc: 0.6979 - val_loss: 1.3275 - val_acc: 0.5208\n",
      "\n",
      "Epoch 00036: saving model to E:Dataset_Final(March)/Checkpoints/Level_1/Epoch_41/weights-improvement-36-0.52.hdf5\n",
      "Epoch 37/40\n",
      "96/96 [==============================] - 5s 55ms/step - loss: 0.6812 - acc: 0.6146 - val_loss: 1.4889 - val_acc: 0.5208\n",
      "\n",
      "Epoch 00037: saving model to E:Dataset_Final(March)/Checkpoints/Level_1/Epoch_41/weights-improvement-37-0.52.hdf5\n",
      "Epoch 38/40\n",
      "96/96 [==============================] - 6s 63ms/step - loss: 0.6348 - acc: 0.6458 - val_loss: 1.5786 - val_acc: 0.5625\n",
      "\n",
      "Epoch 00038: saving model to E:Dataset_Final(March)/Checkpoints/Level_1/Epoch_41/weights-improvement-38-0.56.hdf5\n",
      "Epoch 39/40\n",
      "96/96 [==============================] - 6s 61ms/step - loss: 0.6762 - acc: 0.6250 - val_loss: 1.4867 - val_acc: 0.5417\n",
      "\n",
      "Epoch 00039: saving model to E:Dataset_Final(March)/Checkpoints/Level_1/Epoch_41/weights-improvement-39-0.54.hdf5\n",
      "Epoch 40/40\n",
      "96/96 [==============================] - 6s 60ms/step - loss: 0.6161 - acc: 0.6875 - val_loss: 2.1799 - val_acc: 0.5208\n",
      "\n",
      "Epoch 00040: saving model to E:Dataset_Final(March)/Checkpoints/Level_1/Epoch_41/weights-improvement-40-0.52.hdf5\n"
     ]
    }
   ],
   "source": [
    "hist=model.fit(x_train, y_train, \n",
    "               batch_size=batch_size,\n",
    "               epochs=epochs,\n",
    "               validation_data=(x_test, y_test),\n",
    "               callbacks=[checkpoint]\n",
    "               )"
   ]
  },
  {
   "cell_type": "code",
   "execution_count": 23,
   "metadata": {},
   "outputs": [
    {
     "name": "stdout",
     "output_type": "stream",
     "text": [
      "48/48 [==============================] - 1s 15ms/step\n"
     ]
    }
   ],
   "source": [
    "score=model.evaluate(x_test, y_test)"
   ]
  },
  {
   "cell_type": "code",
   "execution_count": 24,
   "metadata": {},
   "outputs": [
    {
     "data": {
      "text/plain": [
       "0.52083333333333337"
      ]
     },
     "execution_count": 24,
     "metadata": {},
     "output_type": "execute_result"
    }
   ],
   "source": [
    "score[1]"
   ]
  },
  {
   "cell_type": "code",
   "execution_count": 25,
   "metadata": {},
   "outputs": [
    {
     "name": "stdout",
     "output_type": "stream",
     "text": [
      "[[  2.95616179e-13   9.61348667e-10   1.94511740e-09 ...,   1.44961086e-05\n",
      "    7.33914485e-09   9.89119550e-11]\n",
      " [  2.95740143e-09   1.25360908e-04   1.41914410e-04 ...,   1.42279750e-04\n",
      "    2.65683157e-05   8.53008387e-05]\n",
      " [  4.19736511e-13   2.15289944e-07   6.14086446e-07 ...,   6.57757937e-08\n",
      "    9.98494387e-01   3.57779157e-08]\n",
      " ..., \n",
      " [  2.04257943e-12   3.54214421e-07   1.44528360e-06 ...,   1.28863036e-07\n",
      "    9.98583436e-01   1.25766348e-07]\n",
      " [  2.82014856e-10   1.72238984e-07   1.05102053e-02 ...,   1.29010209e-06\n",
      "    5.83405381e-07   1.05136326e-06]\n",
      " [  6.24000620e-08   1.63094039e-04   1.22856908e-03 ...,   1.08553744e-04\n",
      "    3.57751414e-05   6.47220531e-07]]\n",
      "[16 11 35  2  4  4 27 31 30 25 10 36 25 22  9 12 16 24 22 21  3 34 28 34 11\n",
      " 29 22 24 26 32 33 24 10 16  9 33 16  4 16  9  9 12 26 29 28 35  3 33]\n"
     ]
    }
   ],
   "source": [
    "y_pred=model.predict(x_test)# for dataset of 12 characters\n",
    "print (y_pred)\n",
    "y_pred=numpy.argmax(y_pred, axis=1)\n",
    "print (y_pred)"
   ]
  },
  {
   "cell_type": "code",
   "execution_count": 29,
   "metadata": {},
   "outputs": [],
   "source": [
    "model.load_weights(\"E:Dataset_Final(March)/Checkpoints/Level_1/Epoch_41/weights-improvement-15-0.65.hdf5\")"
   ]
  },
  {
   "cell_type": "code",
   "execution_count": 30,
   "metadata": {},
   "outputs": [
    {
     "name": "stdout",
     "output_type": "stream",
     "text": [
      "48/48 [==============================] - 1s 14ms/step\n"
     ]
    }
   ],
   "source": [
    "score=model.evaluate(x_test, y_test)"
   ]
  },
  {
   "cell_type": "code",
   "execution_count": 31,
   "metadata": {},
   "outputs": [
    {
     "data": {
      "text/plain": [
       "0.64583333333333337"
      ]
     },
     "execution_count": 31,
     "metadata": {},
     "output_type": "execute_result"
    }
   ],
   "source": [
    "score[1]"
   ]
  },
  {
   "cell_type": "code",
   "execution_count": 32,
   "metadata": {},
   "outputs": [
    {
     "name": "stdout",
     "output_type": "stream",
     "text": [
      "[[  1.78034694e-04   3.28120496e-03   1.34585018e-03 ...,   7.62491375e-02\n",
      "    2.92167091e-03   3.83180275e-04]\n",
      " [  9.79870674e-05   1.70041583e-02   4.80077369e-03 ...,   9.19980742e-03\n",
      "    5.39745670e-03   3.07324226e-03]\n",
      " [  2.27816781e-05   2.57435068e-03   3.70459794e-03 ...,   1.97455357e-03\n",
      "    7.70529687e-01   1.33968086e-03]\n",
      " ..., \n",
      " [  3.45447006e-05   3.42285424e-03   4.97723697e-03 ...,   2.61275726e-03\n",
      "    7.45709658e-01   2.37681088e-03]\n",
      " [  3.25439818e-04   4.91389446e-03   4.69811037e-02 ...,   6.26867265e-03\n",
      "    1.25496660e-03   2.43466836e-03]\n",
      " [  3.31278687e-04   9.64956265e-03   8.81878939e-03 ...,   6.32843701e-03\n",
      "    3.32929287e-03   6.53021387e-04]]\n",
      "[16 11 35  3  6  6 27 31 30 24  8 36 25 22  8 11 15 24 22 21  3 34 28 34 11\n",
      " 29 22 24 26 32 33 24  8 16  8 30 15  6 15  8  8 11 26 29 28 35  3 30]\n"
     ]
    }
   ],
   "source": [
    "y_pred=model.predict(x_test)# for dataset of 12 characters\n",
    "print (y_pred)\n",
    "y_pred=numpy.argmax(y_pred, axis=1)\n",
    "print (y_pred)"
   ]
  },
  {
   "cell_type": "code",
   "execution_count": 33,
   "metadata": {},
   "outputs": [
    {
     "name": "stdout",
     "output_type": "stream",
     "text": [
      "[[0 1 0 0 0 0 0 0 0 0 0 0 0 0 0 0 0 0 0 0 0 0 0 0 0 0 0 0 0 0]\n",
      " [0 2 0 0 0 0 0 0 0 0 0 0 0 0 0 0 0 0 0 0 0 0 0 0 0 0 0 0 0 0]\n",
      " [0 0 0 1 0 0 0 0 0 0 0 0 0 0 0 0 0 0 0 0 0 0 0 0 0 0 0 0 0 0]\n",
      " [0 0 0 2 0 0 0 0 0 0 0 0 0 0 0 0 0 0 0 0 0 0 0 0 0 0 0 0 0 0]\n",
      " [0 0 0 0 0 1 0 0 0 0 0 0 0 0 0 0 0 0 0 0 0 0 0 0 0 0 0 0 0 0]\n",
      " [0 0 0 0 0 2 0 0 0 0 0 0 0 0 0 0 0 0 0 0 0 0 0 0 0 0 0 0 0 0]\n",
      " [0 0 0 0 0 2 0 0 0 0 0 0 0 0 0 0 0 0 0 0 0 0 0 0 0 0 0 0 0 0]\n",
      " [0 0 0 0 0 1 0 0 0 0 0 0 0 0 0 0 0 0 0 0 0 0 0 0 0 0 0 0 0 0]\n",
      " [0 0 0 0 0 0 0 0 2 0 0 0 0 0 0 0 0 0 0 0 0 0 0 0 0 0 0 0 0 0]\n",
      " [0 0 0 0 0 0 0 0 2 0 0 0 0 0 0 0 0 0 0 0 0 0 0 0 0 0 0 0 0 0]\n",
      " [0 0 0 0 0 0 0 0 0 0 0 2 1 0 0 0 0 0 0 0 0 0 0 0 0 0 0 0 0 0]\n",
      " [0 0 0 0 0 0 0 0 0 0 0 1 1 0 0 0 0 0 0 0 0 0 0 0 0 0 0 0 0 0]\n",
      " [0 0 0 0 0 0 0 0 0 0 0 0 0 0 0 0 0 0 0 0 0 0 0 0 0 0 0 0 0 0]\n",
      " [0 0 0 0 0 0 0 0 0 0 0 0 0 0 1 0 0 0 0 0 0 0 0 0 0 0 0 0 0 0]\n",
      " [0 0 0 0 0 0 0 0 0 0 0 0 0 0 0 0 0 0 0 0 0 0 0 0 0 0 0 0 0 0]\n",
      " [0 0 0 0 0 0 0 0 0 0 0 0 0 0 0 1 0 0 0 0 0 0 0 0 0 0 0 0 0 0]\n",
      " [0 0 0 0 0 0 0 0 0 0 0 0 0 0 0 2 0 0 0 0 0 0 0 0 0 0 0 0 0 0]\n",
      " [0 0 0 0 0 0 0 0 0 0 0 0 0 0 0 0 0 3 0 0 0 0 0 0 0 0 0 0 0 0]\n",
      " [0 0 0 0 0 0 0 0 0 0 0 0 0 0 0 0 0 1 1 0 0 0 0 0 0 0 0 0 0 0]\n",
      " [0 0 0 0 0 0 0 0 0 0 0 0 0 0 0 0 0 0 0 2 0 0 0 0 0 0 0 0 0 0]\n",
      " [0 0 0 0 0 0 0 0 0 0 0 0 0 0 0 0 0 0 0 0 1 0 0 0 0 0 0 0 0 0]\n",
      " [0 0 0 0 0 0 0 0 0 0 0 0 0 0 0 0 0 0 0 0 0 2 0 0 0 0 0 0 0 0]\n",
      " [0 0 0 0 0 0 0 0 0 0 0 0 0 0 0 0 0 0 0 0 0 0 2 0 0 0 0 0 0 0]\n",
      " [0 0 0 0 0 0 0 0 0 0 0 0 0 0 0 0 0 0 0 0 0 0 0 3 0 0 0 0 0 0]\n",
      " [0 0 0 0 0 0 0 0 0 0 0 0 0 0 0 0 0 0 0 0 0 0 0 0 1 0 0 0 0 0]\n",
      " [0 0 0 0 0 0 0 0 0 0 0 0 0 0 0 0 0 0 0 0 0 0 0 0 0 0 0 0 0 0]\n",
      " [0 0 0 0 0 0 0 0 0 0 0 0 0 0 0 0 0 0 0 0 0 0 0 0 0 1 1 0 0 0]\n",
      " [0 0 0 0 0 0 0 0 0 0 0 0 0 0 0 0 0 0 0 0 0 0 0 0 0 0 0 2 0 0]\n",
      " [0 0 0 0 0 0 0 0 0 0 0 0 0 0 0 0 0 0 0 0 0 0 0 0 0 0 0 0 2 0]\n",
      " [0 0 0 0 0 0 0 0 0 0 0 0 0 0 0 0 0 0 0 0 0 0 0 0 0 0 0 0 0 1]]\n"
     ]
    }
   ],
   "source": [
    "print(confusion_matrix(numpy.argmax(y_test, axis=1),y_pred))"
   ]
  },
  {
   "cell_type": "code",
   "execution_count": 34,
   "metadata": {},
   "outputs": [
    {
     "name": "stdout",
     "output_type": "stream",
     "text": [
      "             precision    recall  f1-score   support\n",
      "\n",
      "          2       0.00      0.00      0.00         1\n",
      "          3       0.67      1.00      0.80         2\n",
      "          5       0.00      0.00      0.00         1\n",
      "          6       0.67      1.00      0.80         2\n",
      "          7       0.00      0.00      0.00         1\n",
      "          8       0.33      1.00      0.50         2\n",
      "          9       0.00      0.00      0.00         2\n",
      "         10       0.00      0.00      0.00         1\n",
      "         11       0.50      1.00      0.67         2\n",
      "         13       0.00      0.00      0.00         2\n",
      "         14       0.00      0.00      0.00         3\n",
      "         15       0.33      0.50      0.40         2\n",
      "         16       0.00      0.00      0.00         0\n",
      "         20       0.00      0.00      0.00         1\n",
      "         21       0.00      0.00      0.00         0\n",
      "         22       0.33      1.00      0.50         1\n",
      "         23       0.00      0.00      0.00         2\n",
      "         24       0.75      1.00      0.86         3\n",
      "         25       1.00      0.50      0.67         2\n",
      "         26       1.00      1.00      1.00         2\n",
      "         27       1.00      1.00      1.00         1\n",
      "         28       1.00      1.00      1.00         2\n",
      "         29       1.00      1.00      1.00         2\n",
      "         30       1.00      1.00      1.00         3\n",
      "         31       1.00      1.00      1.00         1\n",
      "         32       0.00      0.00      0.00         0\n",
      "         33       1.00      0.50      0.67         2\n",
      "         34       1.00      1.00      1.00         2\n",
      "         35       1.00      1.00      1.00         2\n",
      "         36       1.00      1.00      1.00         1\n",
      "\n",
      "avg / total       0.57      0.65      0.58        48\n",
      "\n"
     ]
    },
    {
     "name": "stderr",
     "output_type": "stream",
     "text": [
      "C:\\ProgramData\\Anaconda3\\lib\\site-packages\\sklearn\\metrics\\classification.py:1135: UndefinedMetricWarning: Precision and F-score are ill-defined and being set to 0.0 in labels with no predicted samples.\n",
      "  'precision', 'predicted', average, warn_for)\n",
      "C:\\ProgramData\\Anaconda3\\lib\\site-packages\\sklearn\\metrics\\classification.py:1137: UndefinedMetricWarning: Recall and F-score are ill-defined and being set to 0.0 in labels with no true samples.\n",
      "  'recall', 'true', average, warn_for)\n"
     ]
    }
   ],
   "source": [
    "\n",
    "print (classification_report(numpy.argmax(y_test, axis=1), y_pred))"
   ]
  },
  {
   "cell_type": "code",
   "execution_count": 41,
   "metadata": {
    "collapsed": true
   },
   "outputs": [],
   "source": [
    "import pandas\n",
    "\n",
    "pandas.DataFrame(hist.history).to_csv(\"E:Dataset_Final(March)/Checkpoints/Level_1/Epoch_41/Figure/History.csv\")        \n",
    "# visualizing losses and accuracy\n",
    "train_loss=hist.history['loss']\n",
    "val_loss=hist.history['val_loss']\n",
    "train_acc=hist.history['acc']\n",
    "val_acc=hist.history['val_acc']\n",
    "xc=range(epochs)"
   ]
  },
  {
   "cell_type": "code",
   "execution_count": 63,
   "metadata": {},
   "outputs": [
    {
     "name": "stdout",
     "output_type": "stream",
     "text": [
      "['bmh', 'classic', 'dark_background', 'fast', 'fivethirtyeight', 'ggplot', 'grayscale', 'seaborn-bright', 'seaborn-colorblind', 'seaborn-dark-palette', 'seaborn-dark', 'seaborn-darkgrid', 'seaborn-deep', 'seaborn-muted', 'seaborn-notebook', 'seaborn-paper', 'seaborn-pastel', 'seaborn-poster', 'seaborn-talk', 'seaborn-ticks', 'seaborn-white', 'seaborn-whitegrid', 'seaborn', 'Solarize_Light2', '_classic_test']\n"
     ]
    }
   ],
   "source": [
    "import matplotlib.pyplot as plt\n",
    "import matplotlib\n",
    "from matplotlib.backends.backend_pdf import PdfPages\n",
    "\n",
    "pp=PdfPages(\"E:Dataset_Final(March)/Checkpoints/Level_1/Epoch_41/Figure/Loss.pdf\")\n",
    "plt.figure(1,figsize=(7,5))\n",
    "plt.plot(xc,train_loss)\n",
    "plt.plot(xc,val_loss)\n",
    "plt.xlabel('Epochs')\n",
    "plt.ylabel('Loss')\n",
    "plt.title('train_loss vs val_loss')\n",
    "plt.grid(True)\n",
    "plt.legend(['train','val'])\n",
    "print (plt.style.available)\n",
    "plt.style.use(['classic'])\n",
    "plt.savefig(pp, format='pdf')\n",
    "pp.close()"
   ]
  },
  {
   "cell_type": "code",
   "execution_count": 64,
   "metadata": {
    "collapsed": true
   },
   "outputs": [],
   "source": [
    "pp=PdfPages(\"E:Dataset_Final(March)/Checkpoints/Level_1/Epoch_41/Figure/Accuracy.pdf\")\n",
    "plt.figure(2,figsize=(7,5))\n",
    "plt.plot(xc,train_acc)\n",
    "plt.plot(xc,val_acc)\n",
    "plt.xlabel('Epochs')\n",
    "plt.ylabel('Accuracy')\n",
    "plt.title('train_acc vs val_acc')\n",
    "plt.grid(True)\n",
    "plt.legend(['train','val'],loc=4)\n",
    "#print plt.style.available # use bmh, classic,ggplot for big pictures\n",
    "plt.style.use(['bmh'])\n",
    "plt.savefig(pp, format='pdf')\n",
    "pp.close()"
   ]
  },
  {
   "cell_type": "code",
   "execution_count": null,
   "metadata": {
    "collapsed": true
   },
   "outputs": [],
   "source": []
  }
 ],
 "metadata": {
  "kernelspec": {
   "display_name": "Python 3",
   "language": "python",
   "name": "python3"
  },
  "language_info": {
   "codemirror_mode": {
    "name": "ipython",
    "version": 3
   },
   "file_extension": ".py",
   "mimetype": "text/x-python",
   "name": "python",
   "nbconvert_exporter": "python",
   "pygments_lexer": "ipython3",
   "version": "3.6.3"
  }
 },
 "nbformat": 4,
 "nbformat_minor": 2
}
