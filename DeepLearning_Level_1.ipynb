{
 "cells": [
  {
   "cell_type": "code",
   "execution_count": 18,
   "metadata": {
    "collapsed": true
   },
   "outputs": [],
   "source": [
    "import numpy \n",
    "numpy.random.seed(1337)"
   ]
  },
  {
   "cell_type": "code",
   "execution_count": 19,
   "metadata": {
    "collapsed": true
   },
   "outputs": [],
   "source": [
    "import h5py\n",
    "import keras\n",
    "from keras.models import Sequential, Model\n",
    "from keras.layers import Dense, Activation, Flatten, Input, MaxPooling2D, Dropout\n",
    "from keras.layers import Conv2D, Embedding\n",
    "from keras.optimizers import SGD, rmsprop\n",
    "from sklearn.metrics import classification_report, confusion_matrix, precision_recall_fscore_support, accuracy_score, f1_score, precision_score, recall_score\n",
    "from sklearn.utils import class_weight\n",
    "from sklearn.utils.class_weight import compute_class_weight\n",
    "from sklearn.preprocessing import LabelEncoder\n",
    "from keras.layers.advanced_activations import LeakyReLU, PReLU, ELU\n",
    "from keras_contrib.layers.advanced_activations import PELU, SReLU"
   ]
  },
  {
   "cell_type": "code",
   "execution_count": 40,
   "metadata": {
    "collapsed": true
   },
   "outputs": [],
   "source": [
    "batch_size=128 \n",
    "num_classes=37\n",
    "epochs=60"
   ]
  },
  {
   "cell_type": "code",
   "execution_count": 21,
   "metadata": {
    "collapsed": true
   },
   "outputs": [],
   "source": [
    "import os\n",
    "from PIL import Image\n",
    "import matplotlib.image as mpimg"
   ]
  },
  {
   "cell_type": "code",
   "execution_count": 22,
   "metadata": {
    "collapsed": true
   },
   "outputs": [],
   "source": [
    "os.chdir(\"E:\");\n",
    "path=\"E:/Dummy/Level_1\";\n",
    "classes=os.listdir(path)\n",
    "x=[]#Datapoints \n",
    "y=[]#labels \n",
    "for fol in classes:\n",
    "    imgfiles=os.listdir(path+u'\\\\'+fol);\n",
    "    for img in imgfiles:\n",
    "        im=mpimg.imread(path+u'\\\\'+fol+u'\\\\'+img);\n",
    "        x.append(im)\n",
    "        y.append(fol)\n",
    "x=numpy.array(x)\n",
    "y=numpy.array(y)"
   ]
  },
  {
   "cell_type": "code",
   "execution_count": 23,
   "metadata": {},
   "outputs": [
    {
     "name": "stdout",
     "output_type": "stream",
     "text": [
      "(1080, 100, 100)\n",
      "(1080,)\n"
     ]
    }
   ],
   "source": [
    "print(x.shape)\n",
    "print(y.shape)\n",
    "x=x.reshape((-1,100,100,1))"
   ]
  },
  {
   "cell_type": "code",
   "execution_count": 24,
   "metadata": {
    "collapsed": true
   },
   "outputs": [],
   "source": [
    "n=x.shape[0]\n",
    "randomize=numpy.arange(n)\n",
    "numpy.random.shuffle(randomize)\n",
    "randomize\n",
    "x=x[randomize]\n",
    "y=y[randomize]"
   ]
  },
  {
   "cell_type": "code",
   "execution_count": 25,
   "metadata": {},
   "outputs": [
    {
     "name": "stdout",
     "output_type": "stream",
     "text": [
      "(720, 100, 100, 1)\n",
      "(720,)\n",
      "(360, 100, 100, 1)\n",
      "(360,)\n"
     ]
    }
   ],
   "source": [
    "test_split=round(n*2/3)\n",
    "x_train=x[:test_split]\n",
    "y_train=y[:test_split]\n",
    "x_test=x[test_split:]\n",
    "y_test=y[test_split:]\n",
    "\n",
    "print(x_train.shape)\n",
    "print(y_train.shape)\n",
    "print(x_test.shape)\n",
    "print(y_test.shape)"
   ]
  },
  {
   "cell_type": "code",
   "execution_count": 26,
   "metadata": {
    "scrolled": true
   },
   "outputs": [
    {
     "data": {
      "text/plain": [
       "array([[ 0.,  0.,  0.,  0.,  0.,  0.,  0.,  0.,  0.,  1.,  0.,  0.,  0.,\n",
       "         0.,  0.,  0.,  0.,  0.,  0.,  0.,  0.,  0.,  0.,  0.,  0.,  0.,\n",
       "         0.,  0.,  0.,  0.,  0.,  0.,  0.,  0.,  0.,  0.,  0.]])"
      ]
     },
     "execution_count": 26,
     "metadata": {},
     "output_type": "execute_result"
    }
   ],
   "source": [
    "y_train=keras.utils.to_categorical(y_train, num_classes)\n",
    "y_test=keras.utils.to_categorical(y_test, num_classes)\n",
    "y_train[:1]"
   ]
  },
  {
   "cell_type": "code",
   "execution_count": 34,
   "metadata": {
    "collapsed": true
   },
   "outputs": [],
   "source": [
    "# inputs=Input(shape=(100,100,1))\n",
    "# x=Conv2D(32, (3, 3), padding='same')(inputs)\n",
    "# x=SReLU()(x)\n",
    "# x=MaxPooling2D(pool_size=(2,2))(x)\n",
    "# x=Conv2D(7, (3, 3), padding='same')(x)\n",
    "# x=SReLU()(x)\n",
    "# x=MaxPooling2D(pool_size=(2,2))(x)\n",
    "\n",
    "# x=Dropout(0.2)(x)#---------------------------------------------->0.3389(Epoch_24)\n",
    "# x=Dense(num_classes)(x)\n",
    "# x=SReLU()(x)\n",
    "# x=Flatten()(x)\n",
    "# x=Dense(num_classes)(x)\n",
    "\n",
    "# output=Activation('softmax')(x)\n",
    "# model=Model([inputs], output)"
   ]
  },
  {
   "cell_type": "code",
   "execution_count": 35,
   "metadata": {},
   "outputs": [
    {
     "name": "stdout",
     "output_type": "stream",
     "text": [
      "_________________________________________________________________\n",
      "Layer (type)                 Output Shape              Param #   \n",
      "=================================================================\n",
      "input_3 (InputLayer)         (None, 100, 100, 1)       0         \n",
      "_________________________________________________________________\n",
      "conv2d_4 (Conv2D)            (None, 100, 100, 32)      320       \n",
      "_________________________________________________________________\n",
      "s_re_lu_4 (SReLU)            (None, 100, 100, 32)      1280000   \n",
      "_________________________________________________________________\n",
      "max_pooling2d_3 (MaxPooling2 (None, 50, 50, 32)        0         \n",
      "_________________________________________________________________\n",
      "conv2d_5 (Conv2D)            (None, 50, 50, 7)         2023      \n",
      "_________________________________________________________________\n",
      "s_re_lu_5 (SReLU)            (None, 50, 50, 7)         70000     \n",
      "_________________________________________________________________\n",
      "max_pooling2d_4 (MaxPooling2 (None, 25, 25, 7)         0         \n",
      "_________________________________________________________________\n",
      "dropout_2 (Dropout)          (None, 25, 25, 7)         0         \n",
      "_________________________________________________________________\n",
      "dense_3 (Dense)              (None, 25, 25, 37)        296       \n",
      "_________________________________________________________________\n",
      "s_re_lu_6 (SReLU)            (None, 25, 25, 37)        92500     \n",
      "_________________________________________________________________\n",
      "flatten_2 (Flatten)          (None, 23125)             0         \n",
      "_________________________________________________________________\n",
      "dense_4 (Dense)              (None, 37)                855662    \n",
      "_________________________________________________________________\n",
      "activation_2 (Activation)    (None, 37)                0         \n",
      "=================================================================\n",
      "Total params: 2,300,801\n",
      "Trainable params: 2,300,801\n",
      "Non-trainable params: 0\n",
      "_________________________________________________________________\n"
     ]
    }
   ],
   "source": [
    "model.summary()"
   ]
  },
  {
   "cell_type": "code",
   "execution_count": 36,
   "metadata": {
    "collapsed": true
   },
   "outputs": [],
   "source": [
    "opt=keras.optimizers.Adam(lr=1e-3)"
   ]
  },
  {
   "cell_type": "code",
   "execution_count": 37,
   "metadata": {
    "collapsed": true
   },
   "outputs": [],
   "source": [
    "model.compile(loss='categorical_crossentropy', optimizer=opt, metrics=['accuracy'])"
   ]
  },
  {
   "cell_type": "code",
   "execution_count": 38,
   "metadata": {
    "collapsed": true
   },
   "outputs": [],
   "source": [
    "import h5py\n",
    "from keras.callbacks import ModelCheckpoint\n",
    "filepath='E:Dataset_Final(March)/Checkpoints/Level_1/Epoch_24/weights-improvement-{epoch:2d}-{val_acc:.2f}.hdf5'\n",
    "checkpoint=ModelCheckpoint(filepath, monitor='val_acc', verbose=1, mode='max')"
   ]
  },
  {
   "cell_type": "code",
   "execution_count": 41,
   "metadata": {},
   "outputs": [
    {
     "name": "stdout",
     "output_type": "stream",
     "text": [
      "Train on 720 samples, validate on 360 samples\n",
      "Epoch 1/60\n",
      "720/720 [==============================] - 40s 55ms/step - loss: 3.4434 - acc: 0.1417 - val_loss: 3.2818 - val_acc: 0.1417\n",
      "\n",
      "Epoch 00001: saving model to E:Dataset_Final(March)/Checkpoints/Level_1/Epoch_24/weights-improvement- 1-0.14.hdf5\n",
      "Epoch 2/60\n",
      "720/720 [==============================] - 38s 52ms/step - loss: 2.9946 - acc: 0.2806 - val_loss: 2.8090 - val_acc: 0.2167\n",
      "\n",
      "Epoch 00002: saving model to E:Dataset_Final(March)/Checkpoints/Level_1/Epoch_24/weights-improvement- 2-0.22.hdf5\n",
      "Epoch 3/60\n",
      "720/720 [==============================] - 36s 50ms/step - loss: 2.3828 - acc: 0.3528 - val_loss: 2.2351 - val_acc: 0.2750\n",
      "\n",
      "Epoch 00003: saving model to E:Dataset_Final(March)/Checkpoints/Level_1/Epoch_24/weights-improvement- 3-0.28.hdf5\n",
      "Epoch 4/60\n",
      "720/720 [==============================] - 35s 49ms/step - loss: 1.8520 - acc: 0.3833 - val_loss: 1.9944 - val_acc: 0.3000\n",
      "\n",
      "Epoch 00004: saving model to E:Dataset_Final(March)/Checkpoints/Level_1/Epoch_24/weights-improvement- 4-0.30.hdf5\n",
      "Epoch 5/60\n",
      "720/720 [==============================] - 35s 49ms/step - loss: 1.5733 - acc: 0.4153 - val_loss: 1.8919 - val_acc: 0.3056\n",
      "\n",
      "Epoch 00005: saving model to E:Dataset_Final(March)/Checkpoints/Level_1/Epoch_24/weights-improvement- 5-0.31.hdf5\n",
      "Epoch 6/60\n",
      "720/720 [==============================] - 35s 49ms/step - loss: 1.4153 - acc: 0.4639 - val_loss: 1.9332 - val_acc: 0.3167\n",
      "\n",
      "Epoch 00006: saving model to E:Dataset_Final(March)/Checkpoints/Level_1/Epoch_24/weights-improvement- 6-0.32.hdf5\n",
      "Epoch 7/60\n",
      "720/720 [==============================] - 35s 49ms/step - loss: 1.2692 - acc: 0.4958 - val_loss: 1.9359 - val_acc: 0.3139\n",
      "\n",
      "Epoch 00007: saving model to E:Dataset_Final(March)/Checkpoints/Level_1/Epoch_24/weights-improvement- 7-0.31.hdf5\n",
      "Epoch 8/60\n",
      "720/720 [==============================] - 36s 50ms/step - loss: 1.1947 - acc: 0.5028 - val_loss: 1.9335 - val_acc: 0.3222\n",
      "\n",
      "Epoch 00008: saving model to E:Dataset_Final(March)/Checkpoints/Level_1/Epoch_24/weights-improvement- 8-0.32.hdf5\n",
      "Epoch 9/60\n",
      "720/720 [==============================] - 35s 49ms/step - loss: 1.1640 - acc: 0.5194 - val_loss: 1.8758 - val_acc: 0.3417\n",
      "\n",
      "Epoch 00009: saving model to E:Dataset_Final(March)/Checkpoints/Level_1/Epoch_24/weights-improvement- 9-0.34.hdf5\n",
      "Epoch 10/60\n",
      "720/720 [==============================] - 35s 49ms/step - loss: 1.1242 - acc: 0.5472 - val_loss: 1.9273 - val_acc: 0.3000\n",
      "\n",
      "Epoch 00010: saving model to E:Dataset_Final(March)/Checkpoints/Level_1/Epoch_24/weights-improvement-10-0.30.hdf5\n",
      "Epoch 11/60\n",
      "720/720 [==============================] - 37s 51ms/step - loss: 1.0420 - acc: 0.5597 - val_loss: 1.9254 - val_acc: 0.3250\n",
      "\n",
      "Epoch 00011: saving model to E:Dataset_Final(March)/Checkpoints/Level_1/Epoch_24/weights-improvement-11-0.32.hdf5\n",
      "Epoch 12/60\n",
      "720/720 [==============================] - 38s 52ms/step - loss: 1.0370 - acc: 0.5667 - val_loss: 1.9791 - val_acc: 0.3333\n",
      "\n",
      "Epoch 00012: saving model to E:Dataset_Final(March)/Checkpoints/Level_1/Epoch_24/weights-improvement-12-0.33.hdf5\n",
      "Epoch 13/60\n",
      "720/720 [==============================] - 37s 52ms/step - loss: 0.9544 - acc: 0.5806 - val_loss: 1.9558 - val_acc: 0.3389\n",
      "\n",
      "Epoch 00013: saving model to E:Dataset_Final(March)/Checkpoints/Level_1/Epoch_24/weights-improvement-13-0.34.hdf5\n",
      "Epoch 14/60\n",
      "720/720 [==============================] - 37s 52ms/step - loss: 0.9122 - acc: 0.6056 - val_loss: 2.0048 - val_acc: 0.3306\n",
      "\n",
      "Epoch 00014: saving model to E:Dataset_Final(March)/Checkpoints/Level_1/Epoch_24/weights-improvement-14-0.33.hdf5\n",
      "Epoch 15/60\n",
      "720/720 [==============================] - 37s 52ms/step - loss: 0.8872 - acc: 0.6069 - val_loss: 1.9537 - val_acc: 0.3361\n",
      "\n",
      "Epoch 00015: saving model to E:Dataset_Final(March)/Checkpoints/Level_1/Epoch_24/weights-improvement-15-0.34.hdf5\n",
      "Epoch 16/60\n",
      "720/720 [==============================] - 37s 52ms/step - loss: 0.8996 - acc: 0.5847 - val_loss: 2.0967 - val_acc: 0.3194\n",
      "\n",
      "Epoch 00016: saving model to E:Dataset_Final(March)/Checkpoints/Level_1/Epoch_24/weights-improvement-16-0.32.hdf5\n",
      "Epoch 17/60\n",
      "720/720 [==============================] - 37s 52ms/step - loss: 0.8424 - acc: 0.6111 - val_loss: 2.0940 - val_acc: 0.3361\n",
      "\n",
      "Epoch 00017: saving model to E:Dataset_Final(March)/Checkpoints/Level_1/Epoch_24/weights-improvement-17-0.34.hdf5\n",
      "Epoch 18/60\n",
      "720/720 [==============================] - 37s 52ms/step - loss: 0.8600 - acc: 0.6028 - val_loss: 2.0908 - val_acc: 0.3111\n",
      "\n",
      "Epoch 00018: saving model to E:Dataset_Final(March)/Checkpoints/Level_1/Epoch_24/weights-improvement-18-0.31.hdf5\n",
      "Epoch 19/60\n",
      "720/720 [==============================] - 37s 52ms/step - loss: 0.8625 - acc: 0.6042 - val_loss: 2.1175 - val_acc: 0.3194\n",
      "\n",
      "Epoch 00019: saving model to E:Dataset_Final(March)/Checkpoints/Level_1/Epoch_24/weights-improvement-19-0.32.hdf5\n",
      "Epoch 20/60\n",
      "720/720 [==============================] - 37s 51ms/step - loss: 0.7999 - acc: 0.6458 - val_loss: 2.1764 - val_acc: 0.3083\n",
      "\n",
      "Epoch 00020: saving model to E:Dataset_Final(March)/Checkpoints/Level_1/Epoch_24/weights-improvement-20-0.31.hdf5\n",
      "Epoch 21/60\n",
      "720/720 [==============================] - 37s 52ms/step - loss: 0.8451 - acc: 0.6181 - val_loss: 2.1265 - val_acc: 0.3306\n",
      "\n",
      "Epoch 00021: saving model to E:Dataset_Final(March)/Checkpoints/Level_1/Epoch_24/weights-improvement-21-0.33.hdf5\n",
      "Epoch 22/60\n",
      "720/720 [==============================] - 37s 51ms/step - loss: 0.7782 - acc: 0.6431 - val_loss: 2.1777 - val_acc: 0.3139\n",
      "\n",
      "Epoch 00022: saving model to E:Dataset_Final(March)/Checkpoints/Level_1/Epoch_24/weights-improvement-22-0.31.hdf5\n",
      "Epoch 23/60\n",
      "720/720 [==============================] - 37s 52ms/step - loss: 0.7832 - acc: 0.6389 - val_loss: 2.2122 - val_acc: 0.3222\n",
      "\n",
      "Epoch 00023: saving model to E:Dataset_Final(March)/Checkpoints/Level_1/Epoch_24/weights-improvement-23-0.32.hdf5\n",
      "Epoch 24/60\n",
      "720/720 [==============================] - 37s 52ms/step - loss: 0.7502 - acc: 0.6431 - val_loss: 2.2283 - val_acc: 0.3139\n",
      "\n",
      "Epoch 00024: saving model to E:Dataset_Final(March)/Checkpoints/Level_1/Epoch_24/weights-improvement-24-0.31.hdf5\n",
      "Epoch 25/60\n",
      "720/720 [==============================] - 37s 52ms/step - loss: 0.7794 - acc: 0.6458 - val_loss: 2.2058 - val_acc: 0.3278\n",
      "\n",
      "Epoch 00025: saving model to E:Dataset_Final(March)/Checkpoints/Level_1/Epoch_24/weights-improvement-25-0.33.hdf5\n",
      "Epoch 26/60\n",
      "720/720 [==============================] - 37s 52ms/step - loss: 0.7447 - acc: 0.6500 - val_loss: 2.2824 - val_acc: 0.3139\n",
      "\n",
      "Epoch 00026: saving model to E:Dataset_Final(March)/Checkpoints/Level_1/Epoch_24/weights-improvement-26-0.31.hdf5\n",
      "Epoch 27/60\n",
      "720/720 [==============================] - 38s 53ms/step - loss: 0.7508 - acc: 0.6542 - val_loss: 2.2962 - val_acc: 0.3139\n",
      "\n",
      "Epoch 00027: saving model to E:Dataset_Final(March)/Checkpoints/Level_1/Epoch_24/weights-improvement-27-0.31.hdf5\n",
      "Epoch 28/60\n",
      "720/720 [==============================] - 3560s 5s/step - loss: 0.7647 - acc: 0.6417 - val_loss: 2.2311 - val_acc: 0.3222\n",
      "\n",
      "Epoch 00028: saving model to E:Dataset_Final(March)/Checkpoints/Level_1/Epoch_24/weights-improvement-28-0.32.hdf5\n",
      "Epoch 29/60\n",
      "720/720 [==============================] - 37s 51ms/step - loss: 0.7081 - acc: 0.6708 - val_loss: 2.2087 - val_acc: 0.3306\n",
      "\n",
      "Epoch 00029: saving model to E:Dataset_Final(March)/Checkpoints/Level_1/Epoch_24/weights-improvement-29-0.33.hdf5\n",
      "Epoch 30/60\n",
      "720/720 [==============================] - 36s 50ms/step - loss: 0.7141 - acc: 0.6569 - val_loss: 2.2426 - val_acc: 0.3278\n",
      "\n",
      "Epoch 00030: saving model to E:Dataset_Final(March)/Checkpoints/Level_1/Epoch_24/weights-improvement-30-0.33.hdf5\n",
      "Epoch 31/60\n",
      "720/720 [==============================] - 35s 49ms/step - loss: 0.6963 - acc: 0.6778 - val_loss: 2.3562 - val_acc: 0.3111\n",
      "\n",
      "Epoch 00031: saving model to E:Dataset_Final(March)/Checkpoints/Level_1/Epoch_24/weights-improvement-31-0.31.hdf5\n",
      "Epoch 32/60\n",
      "720/720 [==============================] - 35s 49ms/step - loss: 0.7130 - acc: 0.6639 - val_loss: 2.2593 - val_acc: 0.3194\n",
      "\n",
      "Epoch 00032: saving model to E:Dataset_Final(March)/Checkpoints/Level_1/Epoch_24/weights-improvement-32-0.32.hdf5\n",
      "Epoch 33/60\n",
      "720/720 [==============================] - 35s 49ms/step - loss: 0.6871 - acc: 0.6667 - val_loss: 2.3474 - val_acc: 0.3167\n",
      "\n",
      "Epoch 00033: saving model to E:Dataset_Final(March)/Checkpoints/Level_1/Epoch_24/weights-improvement-33-0.32.hdf5\n",
      "Epoch 34/60\n"
     ]
    },
    {
     "name": "stdout",
     "output_type": "stream",
     "text": [
      "720/720 [==============================] - 35s 49ms/step - loss: 0.6961 - acc: 0.6694 - val_loss: 2.3360 - val_acc: 0.3139\n",
      "\n",
      "Epoch 00034: saving model to E:Dataset_Final(March)/Checkpoints/Level_1/Epoch_24/weights-improvement-34-0.31.hdf5\n",
      "Epoch 35/60\n",
      "720/720 [==============================] - 35s 49ms/step - loss: 0.6550 - acc: 0.6875 - val_loss: 2.3590 - val_acc: 0.3083\n",
      "\n",
      "Epoch 00035: saving model to E:Dataset_Final(March)/Checkpoints/Level_1/Epoch_24/weights-improvement-35-0.31.hdf5\n",
      "Epoch 36/60\n",
      "720/720 [==============================] - 35s 49ms/step - loss: 0.6743 - acc: 0.6889 - val_loss: 2.4457 - val_acc: 0.3139\n",
      "\n",
      "Epoch 00036: saving model to E:Dataset_Final(March)/Checkpoints/Level_1/Epoch_24/weights-improvement-36-0.31.hdf5\n",
      "Epoch 37/60\n",
      "720/720 [==============================] - 35s 49ms/step - loss: 0.6626 - acc: 0.6722 - val_loss: 2.4356 - val_acc: 0.3000\n",
      "\n",
      "Epoch 00037: saving model to E:Dataset_Final(March)/Checkpoints/Level_1/Epoch_24/weights-improvement-37-0.30.hdf5\n",
      "Epoch 38/60\n",
      "720/720 [==============================] - 35s 48ms/step - loss: 0.6803 - acc: 0.6750 - val_loss: 2.4210 - val_acc: 0.3389\n",
      "\n",
      "Epoch 00038: saving model to E:Dataset_Final(March)/Checkpoints/Level_1/Epoch_24/weights-improvement-38-0.34.hdf5\n",
      "Epoch 39/60\n",
      "720/720 [==============================] - 35s 49ms/step - loss: 0.6584 - acc: 0.6847 - val_loss: 2.4669 - val_acc: 0.3083\n",
      "\n",
      "Epoch 00039: saving model to E:Dataset_Final(March)/Checkpoints/Level_1/Epoch_24/weights-improvement-39-0.31.hdf5\n",
      "Epoch 40/60\n",
      "720/720 [==============================] - 35s 48ms/step - loss: 0.6442 - acc: 0.6847 - val_loss: 2.4477 - val_acc: 0.3139\n",
      "\n",
      "Epoch 00040: saving model to E:Dataset_Final(March)/Checkpoints/Level_1/Epoch_24/weights-improvement-40-0.31.hdf5\n",
      "Epoch 41/60\n",
      "720/720 [==============================] - 36s 49ms/step - loss: 0.6771 - acc: 0.6792 - val_loss: 2.4940 - val_acc: 0.3083\n",
      "\n",
      "Epoch 00041: saving model to E:Dataset_Final(March)/Checkpoints/Level_1/Epoch_24/weights-improvement-41-0.31.hdf5\n",
      "Epoch 42/60\n",
      "720/720 [==============================] - 37s 52ms/step - loss: 0.6736 - acc: 0.6653 - val_loss: 2.4756 - val_acc: 0.3167\n",
      "\n",
      "Epoch 00042: saving model to E:Dataset_Final(March)/Checkpoints/Level_1/Epoch_24/weights-improvement-42-0.32.hdf5\n",
      "Epoch 43/60\n",
      "720/720 [==============================] - 37s 52ms/step - loss: 0.6427 - acc: 0.6847 - val_loss: 2.4568 - val_acc: 0.3111\n",
      "\n",
      "Epoch 00043: saving model to E:Dataset_Final(March)/Checkpoints/Level_1/Epoch_24/weights-improvement-43-0.31.hdf5\n",
      "Epoch 44/60\n",
      "720/720 [==============================] - 44s 61ms/step - loss: 0.6421 - acc: 0.6861 - val_loss: 2.4712 - val_acc: 0.3000\n",
      "\n",
      "Epoch 00044: saving model to E:Dataset_Final(March)/Checkpoints/Level_1/Epoch_24/weights-improvement-44-0.30.hdf5\n",
      "Epoch 45/60\n",
      "720/720 [==============================] - 45s 63ms/step - loss: 0.6210 - acc: 0.7028 - val_loss: 2.4925 - val_acc: 0.3083\n",
      "\n",
      "Epoch 00045: saving model to E:Dataset_Final(March)/Checkpoints/Level_1/Epoch_24/weights-improvement-45-0.31.hdf5\n",
      "Epoch 46/60\n",
      "720/720 [==============================] - 38s 52ms/step - loss: 0.6417 - acc: 0.6847 - val_loss: 2.5032 - val_acc: 0.3083\n",
      "\n",
      "Epoch 00046: saving model to E:Dataset_Final(March)/Checkpoints/Level_1/Epoch_24/weights-improvement-46-0.31.hdf5\n",
      "Epoch 47/60\n",
      "720/720 [==============================] - 37s 51ms/step - loss: 0.6444 - acc: 0.7000 - val_loss: 2.5723 - val_acc: 0.3167\n",
      "\n",
      "Epoch 00047: saving model to E:Dataset_Final(March)/Checkpoints/Level_1/Epoch_24/weights-improvement-47-0.32.hdf5\n",
      "Epoch 48/60\n",
      "720/720 [==============================] - 38s 53ms/step - loss: 0.6126 - acc: 0.6972 - val_loss: 2.5341 - val_acc: 0.3194\n",
      "\n",
      "Epoch 00048: saving model to E:Dataset_Final(March)/Checkpoints/Level_1/Epoch_24/weights-improvement-48-0.32.hdf5\n",
      "Epoch 49/60\n",
      "720/720 [==============================] - 43s 59ms/step - loss: 0.6336 - acc: 0.6931 - val_loss: 2.5293 - val_acc: 0.3028\n",
      "\n",
      "Epoch 00049: saving model to E:Dataset_Final(March)/Checkpoints/Level_1/Epoch_24/weights-improvement-49-0.30.hdf5\n",
      "Epoch 50/60\n",
      "720/720 [==============================] - 37s 52ms/step - loss: 0.6143 - acc: 0.6847 - val_loss: 2.5471 - val_acc: 0.3056\n",
      "\n",
      "Epoch 00050: saving model to E:Dataset_Final(March)/Checkpoints/Level_1/Epoch_24/weights-improvement-50-0.31.hdf5\n",
      "Epoch 51/60\n",
      "720/720 [==============================] - 37s 51ms/step - loss: 0.5986 - acc: 0.6847 - val_loss: 2.5367 - val_acc: 0.3056\n",
      "\n",
      "Epoch 00051: saving model to E:Dataset_Final(March)/Checkpoints/Level_1/Epoch_24/weights-improvement-51-0.31.hdf5\n",
      "Epoch 52/60\n",
      "720/720 [==============================] - 37s 51ms/step - loss: 0.6003 - acc: 0.7028 - val_loss: 2.6251 - val_acc: 0.3250\n",
      "\n",
      "Epoch 00052: saving model to E:Dataset_Final(March)/Checkpoints/Level_1/Epoch_24/weights-improvement-52-0.32.hdf5\n",
      "Epoch 53/60\n",
      "720/720 [==============================] - 37s 51ms/step - loss: 0.5960 - acc: 0.7139 - val_loss: 2.6621 - val_acc: 0.3083\n",
      "\n",
      "Epoch 00053: saving model to E:Dataset_Final(March)/Checkpoints/Level_1/Epoch_24/weights-improvement-53-0.31.hdf5\n",
      "Epoch 54/60\n",
      "720/720 [==============================] - 36s 50ms/step - loss: 0.5928 - acc: 0.7042 - val_loss: 2.6239 - val_acc: 0.3056\n",
      "\n",
      "Epoch 00054: saving model to E:Dataset_Final(March)/Checkpoints/Level_1/Epoch_24/weights-improvement-54-0.31.hdf5\n",
      "Epoch 55/60\n",
      "720/720 [==============================] - 36s 51ms/step - loss: 0.6056 - acc: 0.6986 - val_loss: 2.6165 - val_acc: 0.3139\n",
      "\n",
      "Epoch 00055: saving model to E:Dataset_Final(March)/Checkpoints/Level_1/Epoch_24/weights-improvement-55-0.31.hdf5\n",
      "Epoch 56/60\n",
      "720/720 [==============================] - 37s 51ms/step - loss: 0.5811 - acc: 0.7194 - val_loss: 2.6718 - val_acc: 0.3000\n",
      "\n",
      "Epoch 00056: saving model to E:Dataset_Final(March)/Checkpoints/Level_1/Epoch_24/weights-improvement-56-0.30.hdf5\n",
      "Epoch 57/60\n",
      "720/720 [==============================] - 41s 56ms/step - loss: 0.5827 - acc: 0.7250 - val_loss: 2.6742 - val_acc: 0.3194\n",
      "\n",
      "Epoch 00057: saving model to E:Dataset_Final(March)/Checkpoints/Level_1/Epoch_24/weights-improvement-57-0.32.hdf5\n",
      "Epoch 58/60\n",
      "720/720 [==============================] - 37s 51ms/step - loss: 0.6145 - acc: 0.6931 - val_loss: 2.6536 - val_acc: 0.3056\n",
      "\n",
      "Epoch 00058: saving model to E:Dataset_Final(March)/Checkpoints/Level_1/Epoch_24/weights-improvement-58-0.31.hdf5\n",
      "Epoch 59/60\n",
      "720/720 [==============================] - 37s 51ms/step - loss: 0.6223 - acc: 0.6972 - val_loss: 2.6511 - val_acc: 0.3083\n",
      "\n",
      "Epoch 00059: saving model to E:Dataset_Final(March)/Checkpoints/Level_1/Epoch_24/weights-improvement-59-0.31.hdf5\n",
      "Epoch 60/60\n",
      "720/720 [==============================] - 37s 51ms/step - loss: 0.5876 - acc: 0.7042 - val_loss: 2.5899 - val_acc: 0.3111\n",
      "\n",
      "Epoch 00060: saving model to E:Dataset_Final(March)/Checkpoints/Level_1/Epoch_24/weights-improvement-60-0.31.hdf5\n"
     ]
    }
   ],
   "source": [
    "hist=model.fit(x_train, y_train, \n",
    "               batch_size=batch_size,\n",
    "               epochs=epochs,\n",
    "               validation_data=(x_test, y_test),\n",
    "               callbacks=[checkpoint]\n",
    "               )"
   ]
  },
  {
   "cell_type": "code",
   "execution_count": 42,
   "metadata": {},
   "outputs": [
    {
     "name": "stdout",
     "output_type": "stream",
     "text": [
      "360/360 [==============================] - 5s 14ms/step\n"
     ]
    }
   ],
   "source": [
    "score=model.evaluate(x_test, y_test)"
   ]
  },
  {
   "cell_type": "code",
   "execution_count": 43,
   "metadata": {},
   "outputs": [
    {
     "data": {
      "text/plain": [
       "0.31111111111111112"
      ]
     },
     "execution_count": 43,
     "metadata": {},
     "output_type": "execute_result"
    }
   ],
   "source": [
    "score[1]"
   ]
  },
  {
   "cell_type": "code",
   "execution_count": 44,
   "metadata": {},
   "outputs": [
    {
     "name": "stdout",
     "output_type": "stream",
     "text": [
      "[[  2.96732283e-09   7.33897250e-05   1.34394912e-04 ...,   2.66780648e-02\n",
      "    8.76068196e-04   1.60334966e-05]\n",
      " [  1.44327936e-08   7.52804699e-05   1.76889114e-06 ...,   3.31100804e-04\n",
      "    2.47228331e-06   3.70038083e-06]\n",
      " [  1.68288066e-14   6.83017748e-12   4.22392486e-06 ...,   4.29017919e-14\n",
      "    1.73891435e-12   9.95784700e-01]\n",
      " ..., \n",
      " [  2.48181808e-10   4.18301882e-09   5.32046974e-01 ...,   2.20651927e-07\n",
      "    5.14101713e-11   2.94603751e-12]\n",
      " [  1.45202583e-09   1.40393298e-04   9.44077598e-08 ...,   5.36014268e-04\n",
      "    9.76784170e-01   1.83405264e-05]\n",
      " [  1.31457313e-07   1.75945665e-04   5.11757662e-07 ...,   8.26684106e-03\n",
      "    1.18101276e-07   1.47840410e-06]]\n",
      "[17 11 36 24 27 35  3  1 14 11 10 34 24 17  4 19 10 29  6 11 25  1 19 27 25\n",
      " 25 26 11 27 23 14 11 13  6 18 34 18 21 30 14 25  8 12 27 36 21 20  3 31 25\n",
      " 35  5 30 16 10 30 10  4 18 22 18 13 25 15 15 18  3 10 31 14  8 30  2 10 34\n",
      "  1 25 23 31 34 22 13  9 32 18 18 19  5 29 35 26 18 23 25 20 28 13 29  3  4\n",
      " 18 11 16  4  3  8 28 21 26 11  6 31  8 23  1 36 26 18 25  6 26 20 15 33 23\n",
      "  3 18  5 27 13 16 21 27 14 33 22 10 10 20 14 20 32  5 23 23 29 15  1 21 32\n",
      " 15  8  7  5 35  6 10 25 15 13  8  7 22 34  5 34  2 10 28  2  1 15 18 10 35\n",
      " 27 16 14 17 17 30 16  3 11 24 11 29 14 14 10 34 26 15 28  5  4 21 24 24 35\n",
      " 27 14  6 20  7 28 19  1 13  5  7 19 33  4 11 16  5 32 33 27 24  3 14  8 15\n",
      " 16 27 21 11 33 13 23 10 23 24  6 14 25 15  3 31  6 20 23 10 33 33  1 28 21\n",
      " 14 18 10  4 20 22 30 17 15 32  7 19 18 30  9  1 23  1 28 25 17 28 32 20  3\n",
      " 21 21 10  7 10 20 16 28 28  2 31 28 11 13 10  4 31 28 15  8 24 13 30 13 26\n",
      " 23 28 19 13 15  6  7 24 13  8 23  2 23  4 21  6  2 25 24 32 34 29 11  2 24\n",
      " 33 10 23 32  4 16  5 31 30 29 20 16 23 28 36  3 32 29 13  5 21  9 33 32  3\n",
      "  9 23 20 16 11 13  3  2 35 14]\n"
     ]
    }
   ],
   "source": [
    "y_pred=model.predict(x_test)# for dataset of 12 characters\n",
    "print (y_pred)\n",
    "y_pred=numpy.argmax(y_pred, axis=1)\n",
    "print (y_pred)"
   ]
  },
  {
   "cell_type": "code",
   "execution_count": 45,
   "metadata": {
    "collapsed": true
   },
   "outputs": [],
   "source": [
    "model.load_weights(\"E:Dataset_Final(March)/Checkpoints/Level_1/Epoch_24/weights-improvement- 9-0.34.hdf5\")"
   ]
  },
  {
   "cell_type": "code",
   "execution_count": 46,
   "metadata": {},
   "outputs": [
    {
     "name": "stdout",
     "output_type": "stream",
     "text": [
      "360/360 [==============================] - 4s 11ms/step\n"
     ]
    }
   ],
   "source": [
    "score=model.evaluate(x_test, y_test)"
   ]
  },
  {
   "cell_type": "code",
   "execution_count": 47,
   "metadata": {},
   "outputs": [
    {
     "data": {
      "text/plain": [
       "0.34166666666666667"
      ]
     },
     "execution_count": 47,
     "metadata": {},
     "output_type": "execute_result"
    }
   ],
   "source": [
    "score[1]"
   ]
  },
  {
   "cell_type": "code",
   "execution_count": 65,
   "metadata": {},
   "outputs": [
    {
     "name": "stdout",
     "output_type": "stream",
     "text": [
      "[[  1.14446530e-09   4.88436781e-04   3.22940788e-04 ...,   2.62557454e-02\n",
      "    2.00021155e-02   9.22519612e-05]\n",
      " [  2.33385777e-09   1.41028790e-02   4.43182907e-05 ...,   6.08796300e-03\n",
      "    1.06983294e-03   6.54484174e-05]\n",
      " [  2.40366278e-18   1.82111660e-14   3.46898567e-04 ...,   5.09986289e-11\n",
      "    7.53880902e-10   9.90875363e-01]\n",
      " ..., \n",
      " [  2.79005031e-12   2.80058465e-09   1.52702257e-01 ...,   7.55173869e-06\n",
      "    1.37824632e-08   1.12375531e-08]\n",
      " [  8.31410052e-10   8.04339349e-03   5.82458415e-06 ...,   1.78518402e-03\n",
      "    7.58020878e-01   2.83352751e-03]\n",
      " [  5.43830971e-08   1.00230305e-02   1.14690674e-05 ...,   7.34316036e-02\n",
      "    1.09331115e-04   5.95340280e-05]]\n",
      "[17 11 36 25 27 35  3  1 33 11 10 12 10 14  5 18  8 28  6 13 25  1 19 27 25\n",
      " 24 26 35 27 23 15 13 13  5 18 34 18 20 30 14 25 10 35 27 36 21 20  3 31 10\n",
      " 34  5 30 14  9 30  8  5 19 22 20 13 24 14 14 18  2 10 31 14 24 30  5  8  1\n",
      "  1 31 23 31 34 22 35  9 33 18 18 19  5 29 35 26 18 23 25 20 28 13 28  3  4\n",
      " 20 14 17 26  3 10 28 21 26 11  6 31  8 23  1 36 26 18 25  6 26 20 33 33 23\n",
      "  2 20  5 27 14 17 21 27 14 17 22  8  8 20 17 20 32  5 23 23 29 14  1 21 32\n",
      " 16  8  9  5 35  5  8 25 14 14  9  9 22 34  2 34  5  8 28  2  1 15 18  8 35\n",
      " 27 16 14 17 17 30 14  3 11 31 11 28 16 14  8 34 26 33 28  5  4 21 24 24 35\n",
      " 27 14  6 20  7 28 19  1 35  5  7 19 33  5 11 17  5 33 33 27 24  2 14  9 14\n",
      " 16 27 21 11 33 13 23 10 22 24  6 14 24 16  3 31  2 20 23  8 33 30  1 28 21\n",
      " 15 20  8  5 20 22 30 17 16 32  7 19 18 30  9  1 22  1 28 25 17 28 33 20  3\n",
      " 20 21 36  9  8 20 16 28 28  2 31 28 11 13 10  5 31 28 33 24 24 11 30 13 26\n",
      " 23 28 19 35 14  6  9 24 13  8 22  2 23  5 21  4  3 24 24 33 34 28 11  3 24\n",
      " 33 10 22 32  4 14  5 31 30 28 20 17 23 28 36  3 33 28 13  5 20  9  3 32  3\n",
      "  9 23 20 17 11 35  3  3 35 14]\n"
     ]
    }
   ],
   "source": [
    "y_pred=model.predict(x_test)# for dataset of 12 characters\n",
    "print (y_pred)\n",
    "y_pred=numpy.argmax(y_pred, axis=1)\n",
    "print (y_pred)"
   ]
  },
  {
   "cell_type": "code",
   "execution_count": 67,
   "metadata": {},
   "outputs": [
    {
     "name": "stdout",
     "output_type": "stream",
     "text": [
      "[[11  0  0 ...,  0  0  0]\n",
      " [ 0  1  6 ...,  0  0  0]\n",
      " [ 0  4  7 ...,  0  0  0]\n",
      " ..., \n",
      " [ 0  0  0 ...,  4  0  0]\n",
      " [ 0  0  0 ...,  0  6  0]\n",
      " [ 0  0  0 ...,  0  0  5]]\n"
     ]
    }
   ],
   "source": [
    "print(confusion_matrix(numpy.argmax(y_test, axis=1),y_pred))"
   ]
  },
  {
   "cell_type": "code",
   "execution_count": 66,
   "metadata": {},
   "outputs": [
    {
     "name": "stdout",
     "output_type": "stream",
     "text": [
      "             precision    recall  f1-score   support\n",
      "\n",
      "          1       1.00      1.00      1.00        11\n",
      "          2       0.12      0.08      0.10        12\n",
      "          3       0.50      0.54      0.52        13\n",
      "          4       0.00      0.00      0.00        10\n",
      "          5       0.10      0.40      0.16         5\n",
      "          6       0.00      0.00      0.00        10\n",
      "          7       0.33      0.08      0.12        13\n",
      "          8       0.07      0.12      0.09         8\n",
      "          9       0.09      0.08      0.09        12\n",
      "         10       0.00      0.00      0.00         3\n",
      "         11       0.18      0.18      0.18        11\n",
      "         12       0.00      0.00      0.00        12\n",
      "         13       0.10      0.14      0.12         7\n",
      "         14       0.18      0.44      0.26         9\n",
      "         15       0.00      0.00      0.00        12\n",
      "         16       0.29      0.17      0.21        12\n",
      "         17       0.58      0.54      0.56        13\n",
      "         18       0.40      0.31      0.35        13\n",
      "         19       0.14      0.10      0.12        10\n",
      "         20       0.21      0.40      0.28        10\n",
      "         21       0.11      0.09      0.10        11\n",
      "         22       0.44      0.27      0.33        15\n",
      "         23       0.15      0.29      0.20         7\n",
      "         24       0.21      0.30      0.25        10\n",
      "         25       0.25      0.14      0.18        14\n",
      "         26       0.88      0.88      0.88         8\n",
      "         27       1.00      0.91      0.95        11\n",
      "         28       0.45      0.82      0.58        11\n",
      "         29       0.00      0.00      0.00        11\n",
      "         30       1.00      1.00      1.00        10\n",
      "         31       0.90      0.82      0.86        11\n",
      "         32       0.00      0.00      0.00        10\n",
      "         33       0.13      0.29      0.18         7\n",
      "         34       0.57      0.80      0.67         5\n",
      "         35       0.50      0.86      0.63         7\n",
      "         36       1.00      0.83      0.91         6\n",
      "\n",
      "avg / total       0.33      0.34      0.32       360\n",
      "\n"
     ]
    }
   ],
   "source": [
    "\n",
    "print (classification_report(numpy.argmax(y_test, axis=1), y_pred))"
   ]
  },
  {
   "cell_type": "code",
   "execution_count": 69,
   "metadata": {
    "collapsed": true
   },
   "outputs": [],
   "source": [
    "import pandas\n",
    "\n",
    "pandas.DataFrame(hist.history).to_csv(\"E:Dataset_Final(March)/Checkpoints/Level_1/Epoch_24/Figure/History.csv\")        \n",
    "# visualizing losses and accuracy\n",
    "train_loss=hist.history['loss']\n",
    "val_loss=hist.history['val_loss']\n",
    "train_acc=hist.history['acc']\n",
    "val_acc=hist.history['val_acc']\n",
    "xc=range(epochs)"
   ]
  },
  {
   "cell_type": "code",
   "execution_count": 70,
   "metadata": {},
   "outputs": [
    {
     "name": "stdout",
     "output_type": "stream",
     "text": [
      "['bmh', 'classic', 'dark_background', 'fast', 'fivethirtyeight', 'ggplot', 'grayscale', 'seaborn-bright', 'seaborn-colorblind', 'seaborn-dark-palette', 'seaborn-dark', 'seaborn-darkgrid', 'seaborn-deep', 'seaborn-muted', 'seaborn-notebook', 'seaborn-paper', 'seaborn-pastel', 'seaborn-poster', 'seaborn-talk', 'seaborn-ticks', 'seaborn-white', 'seaborn-whitegrid', 'seaborn', 'Solarize_Light2', '_classic_test']\n"
     ]
    }
   ],
   "source": [
    "import matplotlib.pyplot as plt\n",
    "import matplotlib\n",
    "from matplotlib.backends.backend_pdf import PdfPages\n",
    "\n",
    "pp=PdfPages(\"E:Dataset_Final(March)/Checkpoints/Level_1/Epoch_24/Figure/Loss.pdf\")\n",
    "plt.figure(1,figsize=(7,5))\n",
    "plt.plot(xc,train_loss)\n",
    "plt.plot(xc,val_loss)\n",
    "plt.xlabel('Epochs')\n",
    "plt.ylabel('Loss')\n",
    "plt.title('train_loss vs val_loss')\n",
    "plt.grid(True)\n",
    "plt.legend(['train','val'])\n",
    "print (plt.style.available)\n",
    "plt.style.use(['classic'])\n",
    "plt.savefig(pp, format='pdf')\n",
    "pp.close()"
   ]
  },
  {
   "cell_type": "code",
   "execution_count": 71,
   "metadata": {
    "collapsed": true
   },
   "outputs": [],
   "source": [
    "pp=PdfPages(\"E:Dataset_Final(March)/Checkpoints/Level_1/Epoch_24/Figure/Accuracy.pdf\")\n",
    "plt.figure(2,figsize=(7,5))\n",
    "plt.plot(xc,train_acc)\n",
    "plt.plot(xc,val_acc)\n",
    "plt.xlabel('Epochs')\n",
    "plt.ylabel('Accuracy')\n",
    "plt.title('train_acc vs val_acc')\n",
    "plt.grid(True)\n",
    "plt.legend(['train','val'],loc=4)\n",
    "#print plt.style.available # use bmh, classic,ggplot for big pictures\n",
    "plt.style.use(['classic'])\n",
    "plt.savefig(pp, format='pdf')\n",
    "pp.close()"
   ]
  },
  {
   "cell_type": "code",
   "execution_count": null,
   "metadata": {
    "collapsed": true
   },
   "outputs": [],
   "source": []
  }
 ],
 "metadata": {
  "kernelspec": {
   "display_name": "Python 3",
   "language": "python",
   "name": "python3"
  },
  "language_info": {
   "codemirror_mode": {
    "name": "ipython",
    "version": 3
   },
   "file_extension": ".py",
   "mimetype": "text/x-python",
   "name": "python",
   "nbconvert_exporter": "python",
   "pygments_lexer": "ipython3",
   "version": "3.6.3"
  }
 },
 "nbformat": 4,
 "nbformat_minor": 2
}
