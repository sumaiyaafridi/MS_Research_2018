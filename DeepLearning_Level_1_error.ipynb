{
 "cells": [
  {
   "cell_type": "code",
   "execution_count": 1,
   "metadata": {},
   "outputs": [],
   "source": [
    "import numpy \n",
    "numpy.random.seed(1337)"
   ]
  },
  {
   "cell_type": "code",
   "execution_count": 2,
   "metadata": {},
   "outputs": [
    {
     "name": "stderr",
     "output_type": "stream",
     "text": [
      "c:\\users\\sumayyah\\keras\\lib\\site-packages\\h5py\\__init__.py:36: FutureWarning: Conversion of the second argument of issubdtype from `float` to `np.floating` is deprecated. In future, it will be treated as `np.float64 == np.dtype(float).type`.\n",
      "  from ._conv import register_converters as _register_converters\n",
      "Using TensorFlow backend.\n"
     ]
    }
   ],
   "source": [
    "import h5py\n",
    "import keras\n",
    "from keras.models import Sequential, Model\n",
    "from keras.layers import Dense, Activation, Flatten, Input, MaxPooling2D, Dropout\n",
    "from keras.layers import Conv2D, Embedding\n",
    "from keras.optimizers import SGD, rmsprop\n",
    "from sklearn.metrics import classification_report, confusion_matrix, precision_recall_fscore_support, accuracy_score, f1_score, precision_score, recall_score\n",
    "from sklearn.utils import class_weight\n",
    "from sklearn.utils.class_weight import compute_class_weight\n",
    "from sklearn.preprocessing import LabelEncoder\n",
    "from keras.layers.advanced_activations import LeakyReLU, PReLU, ELU\n",
    "from keras_contrib.layers.advanced_activations import PELU, SReLU"
   ]
  },
  {
   "cell_type": "code",
   "execution_count": 3,
   "metadata": {},
   "outputs": [],
   "source": [
    "batch_size=128 \n",
    "num_classes=37\n",
    "epochs=100"
   ]
  },
  {
   "cell_type": "code",
   "execution_count": 4,
   "metadata": {},
   "outputs": [],
   "source": [
    "import os\n",
    "from PIL import Image\n",
    "import matplotlib.image as mpimg"
   ]
  },
  {
   "cell_type": "code",
   "execution_count": 5,
   "metadata": {},
   "outputs": [],
   "source": [
    "os.chdir(\"E:\");\n",
    "path=\"E:/Dataset_Final(March)/One\";\n",
    "classes=os.listdir(path)\n",
    "x=[]#Datapoints \n",
    "y=[]#labels \n",
    "for fol in classes:\n",
    "    imgfiles=os.listdir(path+u'\\\\'+fol);\n",
    "    for img in imgfiles:\n",
    "        im=mpimg.imread(path+u'\\\\'+fol+u'\\\\'+img);\n",
    "        x.append(im)\n",
    "        y.append(fol)\n",
    "x=numpy.array(x)\n",
    "y=numpy.array(y)"
   ]
  },
  {
   "cell_type": "code",
   "execution_count": 6,
   "metadata": {},
   "outputs": [
    {
     "name": "stdout",
     "output_type": "stream",
     "text": [
      "(144, 100, 100)\n",
      "(144,)\n"
     ]
    }
   ],
   "source": [
    "print(x.shape)\n",
    "print(y.shape)\n",
    "x=x.reshape((-1,100,100,1))"
   ]
  },
  {
   "cell_type": "code",
   "execution_count": 7,
   "metadata": {},
   "outputs": [],
   "source": [
    "n=x.shape[0]\n",
    "randomize=numpy.arange(n)\n",
    "numpy.random.shuffle(randomize)\n",
    "randomize\n",
    "x=x[randomize]\n",
    "y=y[randomize]"
   ]
  },
  {
   "cell_type": "code",
   "execution_count": 8,
   "metadata": {},
   "outputs": [
    {
     "name": "stdout",
     "output_type": "stream",
     "text": [
      "(96, 100, 100, 1)\n",
      "(96,)\n",
      "(48, 100, 100, 1)\n",
      "(48,)\n"
     ]
    }
   ],
   "source": [
    "test_split=round(n*2/3)\n",
    "x_train=x[:test_split]\n",
    "y_train=y[:test_split]\n",
    "x_test=x[test_split:]\n",
    "y_test=y[test_split:]\n",
    "\n",
    "print(x_train.shape)\n",
    "print(y_train.shape)\n",
    "print(x_test.shape)\n",
    "print(y_test.shape)"
   ]
  },
  {
   "cell_type": "code",
   "execution_count": 9,
   "metadata": {
    "scrolled": true
   },
   "outputs": [
    {
     "data": {
      "text/plain": [
       "array([[0., 0., 0., 0., 0., 0., 0., 0., 0., 0., 0., 0., 0., 0., 0., 0.,\n",
       "        0., 0., 0., 0., 0., 0., 0., 1., 0., 0., 0., 0., 0., 0., 0., 0.,\n",
       "        0., 0., 0., 0., 0.]])"
      ]
     },
     "execution_count": 9,
     "metadata": {},
     "output_type": "execute_result"
    }
   ],
   "source": [
    "y_train=keras.utils.to_categorical(y_train, num_classes)\n",
    "y_test=keras.utils.to_categorical(y_test, num_classes)\n",
    "y_train[:1]"
   ]
  },
  {
   "cell_type": "code",
   "execution_count": 10,
   "metadata": {},
   "outputs": [],
   "source": [
    "# inputs=Input(shape=(100,100,1))\n",
    "# x=Conv2D(64, (3, 3), padding='same')(inputs)\n",
    "# x=SReLU()(x)\n",
    "# x=MaxPooling2D(pool_size=(2,2))(x)\n",
    "# x=Conv2D(16, (3, 3), padding='same')(x)\n",
    "# x=SReLU()(x)\n",
    "# x=MaxPooling2D(pool_size=(2,2))(x)\n",
    "\n",
    "# x=Dropout(0.2)(x)#---------------------------------------------->0.5208(Epoch_101)\n",
    "# x=Dense(num_classes)(x)\n",
    "# x=SReLU()(x)\n",
    "# x=Flatten()(x)\n",
    "# x=Dense(num_classes)(x)\n",
    "\n",
    "# output=Activation('softmax')(x)\n",
    "# model=Model([inputs], output)"
   ]
  },
  {
   "cell_type": "code",
   "execution_count": 40,
   "metadata": {},
   "outputs": [],
   "source": [
    "inputs=Input(shape=(100,100,1))\n",
    "x=Conv2D(128, (3, 3), padding='same')(inputs)\n",
    "x=SReLU()(x)\n",
    "x=MaxPooling2D(pool_size=(2,2))(x)\n",
    "x=Conv2D(32, (3, 3), padding='same')(x)\n",
    "x=SReLU()(x)\n",
    "x=MaxPooling2D(pool_size=(2,2))(x)\n",
    "# x=Conv2D(7, (3, 3), padding='same')(x)\n",
    "# x=SReLU()(x)\n",
    "# x=MaxPooling2D(pool_size=(2,2))(x)\n",
    "\n",
    "x=Dropout(0.2)(x)#---------------------------------------------->0.(Epoch_102)\n",
    "x=Dense(num_classes)(x)\n",
    "x=SReLU()(x)\n",
    "x=Flatten()(x)\n",
    "x=Dense(num_classes)(x)\n",
    "\n",
    "output=Activation('softmax')(x)\n",
    "model=Model([inputs], output)"
   ]
  },
  {
   "cell_type": "code",
   "execution_count": 41,
   "metadata": {},
   "outputs": [
    {
     "name": "stdout",
     "output_type": "stream",
     "text": [
      "_________________________________________________________________\n",
      "Layer (type)                 Output Shape              Param #   \n",
      "=================================================================\n",
      "input_4 (InputLayer)         (None, 100, 100, 1)       0         \n",
      "_________________________________________________________________\n",
      "conv2d_8 (Conv2D)            (None, 100, 100, 128)     1280      \n",
      "_________________________________________________________________\n",
      "s_re_lu_11 (SReLU)           (None, 100, 100, 128)     5120000   \n",
      "_________________________________________________________________\n",
      "max_pooling2d_8 (MaxPooling2 (None, 50, 50, 128)       0         \n",
      "_________________________________________________________________\n",
      "conv2d_9 (Conv2D)            (None, 50, 50, 32)        36896     \n",
      "_________________________________________________________________\n",
      "s_re_lu_12 (SReLU)           (None, 50, 50, 32)        320000    \n",
      "_________________________________________________________________\n",
      "max_pooling2d_9 (MaxPooling2 (None, 25, 25, 32)        0         \n",
      "_________________________________________________________________\n",
      "dropout_4 (Dropout)          (None, 25, 25, 32)        0         \n",
      "_________________________________________________________________\n",
      "dense_7 (Dense)              (None, 25, 25, 37)        1221      \n",
      "_________________________________________________________________\n",
      "s_re_lu_13 (SReLU)           (None, 25, 25, 37)        92500     \n",
      "_________________________________________________________________\n",
      "flatten_4 (Flatten)          (None, 23125)             0         \n",
      "_________________________________________________________________\n",
      "dense_8 (Dense)              (None, 37)                855662    \n",
      "_________________________________________________________________\n",
      "activation_4 (Activation)    (None, 37)                0         \n",
      "=================================================================\n",
      "Total params: 6,427,559\n",
      "Trainable params: 6,427,559\n",
      "Non-trainable params: 0\n",
      "_________________________________________________________________\n"
     ]
    }
   ],
   "source": [
    "model.summary()"
   ]
  },
  {
   "cell_type": "code",
   "execution_count": 42,
   "metadata": {},
   "outputs": [],
   "source": [
    "opt=keras.optimizers.Adam(lr=1e-3)"
   ]
  },
  {
   "cell_type": "code",
   "execution_count": 43,
   "metadata": {},
   "outputs": [],
   "source": [
    "model.compile(loss='categorical_crossentropy', optimizer=opt, metrics=['accuracy'])"
   ]
  },
  {
   "cell_type": "code",
   "execution_count": 44,
   "metadata": {},
   "outputs": [],
   "source": [
    "import h5py\n",
    "from keras.callbacks import ModelCheckpoint\n",
    "filepath='E:Dataset_Final(March)/Checkpoints/Level_1/Epoch_102/weights-improvement-{epoch:2d}-{val_acc:.2f}.hdf5'\n",
    "checkpoint=ModelCheckpoint(filepath, monitor='val_acc', verbose=1, mode='max')"
   ]
  },
  {
   "cell_type": "code",
   "execution_count": 45,
   "metadata": {},
   "outputs": [
    {
     "name": "stdout",
     "output_type": "stream",
     "text": [
      "Train on 96 samples, validate on 48 samples\n",
      "Epoch 1/100\n",
      "\n",
      "Epoch 00001: saving model to E:Dataset_Final(March)/Checkpoints/Level_1/Epoch_102/weights-improvement- 1-0.04.hdf5\n",
      "96/96 [==============================] - 42s 437ms/step - loss: 3.6128 - acc: 0.0312 - val_loss: 3.6059 - val_acc: 0.0417\n",
      "Epoch 2/100\n",
      "\n",
      "Epoch 00002: saving model to E:Dataset_Final(March)/Checkpoints/Level_1/Epoch_102/weights-improvement- 2-0.02.hdf5\n",
      "96/96 [==============================] - 34s 354ms/step - loss: 3.5753 - acc: 0.2500 - val_loss: 3.6166 - val_acc: 0.0208\n",
      "Epoch 3/100\n",
      "\n",
      "Epoch 00003: saving model to E:Dataset_Final(March)/Checkpoints/Level_1/Epoch_102/weights-improvement- 3-0.02.hdf5\n",
      "96/96 [==============================] - 34s 356ms/step - loss: 3.5281 - acc: 0.1875 - val_loss: 3.6656 - val_acc: 0.0208\n",
      "Epoch 4/100\n",
      "\n",
      "Epoch 00004: saving model to E:Dataset_Final(March)/Checkpoints/Level_1/Epoch_102/weights-improvement- 4-0.02.hdf5\n",
      "96/96 [==============================] - 34s 358ms/step - loss: 3.4470 - acc: 0.2292 - val_loss: 3.7853 - val_acc: 0.0208\n",
      "Epoch 5/100\n",
      "\n",
      "Epoch 00005: saving model to E:Dataset_Final(March)/Checkpoints/Level_1/Epoch_102/weights-improvement- 5-0.02.hdf5\n",
      "96/96 [==============================] - 35s 360ms/step - loss: 3.3592 - acc: 0.2604 - val_loss: 3.9058 - val_acc: 0.0208\n",
      "Epoch 6/100\n",
      "\n",
      "Epoch 00006: saving model to E:Dataset_Final(March)/Checkpoints/Level_1/Epoch_102/weights-improvement- 6-0.06.hdf5\n",
      "96/96 [==============================] - 37s 389ms/step - loss: 3.2721 - acc: 0.3333 - val_loss: 3.8208 - val_acc: 0.0625\n",
      "Epoch 7/100\n",
      "\n",
      "Epoch 00007: saving model to E:Dataset_Final(March)/Checkpoints/Level_1/Epoch_102/weights-improvement- 7-0.10.hdf5\n",
      "96/96 [==============================] - 37s 386ms/step - loss: 3.1497 - acc: 0.3958 - val_loss: 3.6142 - val_acc: 0.1042\n",
      "Epoch 8/100\n",
      "\n",
      "Epoch 00008: saving model to E:Dataset_Final(March)/Checkpoints/Level_1/Epoch_102/weights-improvement- 8-0.15.hdf5\n",
      "96/96 [==============================] - 34s 354ms/step - loss: 2.9799 - acc: 0.5104 - val_loss: 3.3699 - val_acc: 0.1458\n",
      "Epoch 9/100\n",
      "\n",
      "Epoch 00009: saving model to E:Dataset_Final(March)/Checkpoints/Level_1/Epoch_102/weights-improvement- 9-0.21.hdf5\n",
      "96/96 [==============================] - 33s 344ms/step - loss: 2.7913 - acc: 0.5521 - val_loss: 3.1213 - val_acc: 0.2083\n",
      "Epoch 10/100\n",
      "\n",
      "Epoch 00010: saving model to E:Dataset_Final(March)/Checkpoints/Level_1/Epoch_102/weights-improvement-10-0.23.hdf5\n",
      "96/96 [==============================] - 32s 335ms/step - loss: 2.5924 - acc: 0.5417 - val_loss: 2.8728 - val_acc: 0.2292\n",
      "Epoch 11/100\n",
      "\n",
      "Epoch 00011: saving model to E:Dataset_Final(March)/Checkpoints/Level_1/Epoch_102/weights-improvement-11-0.23.hdf5\n",
      "96/96 [==============================] - 33s 341ms/step - loss: 2.3397 - acc: 0.5625 - val_loss: 2.6193 - val_acc: 0.2292\n",
      "Epoch 12/100\n",
      "\n",
      "Epoch 00012: saving model to E:Dataset_Final(March)/Checkpoints/Level_1/Epoch_102/weights-improvement-12-0.23.hdf5\n",
      "96/96 [==============================] - 33s 342ms/step - loss: 2.0776 - acc: 0.5521 - val_loss: 2.3738 - val_acc: 0.2292\n",
      "Epoch 13/100\n",
      "\n",
      "Epoch 00013: saving model to E:Dataset_Final(March)/Checkpoints/Level_1/Epoch_102/weights-improvement-13-0.27.hdf5\n",
      "96/96 [==============================] - 35s 360ms/step - loss: 1.8129 - acc: 0.5625 - val_loss: 2.1390 - val_acc: 0.2708\n",
      "Epoch 14/100\n",
      "\n",
      "Epoch 00014: saving model to E:Dataset_Final(March)/Checkpoints/Level_1/Epoch_102/weights-improvement-14-0.27.hdf5\n",
      "96/96 [==============================] - 34s 351ms/step - loss: 1.5620 - acc: 0.6146 - val_loss: 1.8686 - val_acc: 0.2708\n",
      "Epoch 15/100\n",
      "\n",
      "Epoch 00015: saving model to E:Dataset_Final(March)/Checkpoints/Level_1/Epoch_102/weights-improvement-15-0.42.hdf5\n",
      "96/96 [==============================] - 37s 381ms/step - loss: 1.3426 - acc: 0.5938 - val_loss: 1.5970 - val_acc: 0.4167\n",
      "Epoch 16/100\n",
      "\n",
      "Epoch 00016: saving model to E:Dataset_Final(March)/Checkpoints/Level_1/Epoch_102/weights-improvement-16-0.42.hdf5\n",
      "96/96 [==============================] - 34s 350ms/step - loss: 1.1739 - acc: 0.6979 - val_loss: 1.3615 - val_acc: 0.4167\n",
      "Epoch 17/100\n",
      "\n",
      "Epoch 00017: saving model to E:Dataset_Final(March)/Checkpoints/Level_1/Epoch_102/weights-improvement-17-0.46.hdf5\n",
      "96/96 [==============================] - 33s 339ms/step - loss: 1.0649 - acc: 0.6771 - val_loss: 1.2500 - val_acc: 0.4583\n",
      "Epoch 18/100\n",
      "\n",
      "Epoch 00018: saving model to E:Dataset_Final(March)/Checkpoints/Level_1/Epoch_102/weights-improvement-18-0.46.hdf5\n",
      "96/96 [==============================] - 34s 357ms/step - loss: 0.9383 - acc: 0.6875 - val_loss: 1.2559 - val_acc: 0.4583\n",
      "Epoch 19/100\n",
      "\n",
      "Epoch 00019: saving model to E:Dataset_Final(March)/Checkpoints/Level_1/Epoch_102/weights-improvement-19-0.46.hdf5\n",
      "96/96 [==============================] - 33s 345ms/step - loss: 0.8584 - acc: 0.6458 - val_loss: 1.2493 - val_acc: 0.4583\n",
      "Epoch 20/100\n",
      "\n",
      "Epoch 00020: saving model to E:Dataset_Final(March)/Checkpoints/Level_1/Epoch_102/weights-improvement-20-0.46.hdf5\n",
      "96/96 [==============================] - 39s 404ms/step - loss: 0.7878 - acc: 0.6771 - val_loss: 1.1526 - val_acc: 0.4583\n",
      "Epoch 21/100\n",
      "\n",
      "Epoch 00021: saving model to E:Dataset_Final(March)/Checkpoints/Level_1/Epoch_102/weights-improvement-21-0.50.hdf5\n",
      "96/96 [==============================] - 36s 372ms/step - loss: 0.7349 - acc: 0.7500 - val_loss: 1.0925 - val_acc: 0.5000\n",
      "Epoch 22/100\n",
      "\n",
      "Epoch 00022: saving model to E:Dataset_Final(March)/Checkpoints/Level_1/Epoch_102/weights-improvement-22-0.50.hdf5\n",
      "96/96 [==============================] - 35s 365ms/step - loss: 0.6854 - acc: 0.6875 - val_loss: 1.1729 - val_acc: 0.5000\n",
      "Epoch 23/100\n",
      "\n",
      "Epoch 00023: saving model to E:Dataset_Final(March)/Checkpoints/Level_1/Epoch_102/weights-improvement-23-0.44.hdf5\n",
      "96/96 [==============================] - 35s 365ms/step - loss: 0.6990 - acc: 0.6771 - val_loss: 1.2011 - val_acc: 0.4375\n",
      "Epoch 24/100\n",
      "\n",
      "Epoch 00024: saving model to E:Dataset_Final(March)/Checkpoints/Level_1/Epoch_102/weights-improvement-24-0.46.hdf5\n",
      "96/96 [==============================] - 34s 352ms/step - loss: 0.6327 - acc: 0.7188 - val_loss: 1.1223 - val_acc: 0.4583\n",
      "Epoch 25/100\n",
      "\n",
      "Epoch 00025: saving model to E:Dataset_Final(March)/Checkpoints/Level_1/Epoch_102/weights-improvement-25-0.50.hdf5\n",
      "96/96 [==============================] - 34s 351ms/step - loss: 0.6164 - acc: 0.6875 - val_loss: 1.2018 - val_acc: 0.5000\n",
      "Epoch 26/100\n",
      "\n",
      "Epoch 00026: saving model to E:Dataset_Final(March)/Checkpoints/Level_1/Epoch_102/weights-improvement-26-0.48.hdf5\n",
      "96/96 [==============================] - 33s 341ms/step - loss: 0.6251 - acc: 0.7083 - val_loss: 1.2254 - val_acc: 0.4792\n",
      "Epoch 27/100\n",
      "\n",
      "Epoch 00027: saving model to E:Dataset_Final(March)/Checkpoints/Level_1/Epoch_102/weights-improvement-27-0.48.hdf5\n",
      "96/96 [==============================] - 33s 341ms/step - loss: 0.6076 - acc: 0.7083 - val_loss: 1.3448 - val_acc: 0.4792\n",
      "Epoch 28/100\n",
      "\n",
      "Epoch 00028: saving model to E:Dataset_Final(March)/Checkpoints/Level_1/Epoch_102/weights-improvement-28-0.48.hdf5\n",
      "96/96 [==============================] - 34s 350ms/step - loss: 0.5364 - acc: 0.7292 - val_loss: 1.3005 - val_acc: 0.4792\n",
      "Epoch 29/100\n",
      "\n",
      "Epoch 00029: saving model to E:Dataset_Final(March)/Checkpoints/Level_1/Epoch_102/weights-improvement-29-0.48.hdf5\n",
      "96/96 [==============================] - 32s 334ms/step - loss: 0.5895 - acc: 0.6875 - val_loss: 1.3083 - val_acc: 0.4792\n",
      "Epoch 30/100\n",
      "\n",
      "Epoch 00030: saving model to E:Dataset_Final(March)/Checkpoints/Level_1/Epoch_102/weights-improvement-30-0.48.hdf5\n",
      "96/96 [==============================] - 32s 335ms/step - loss: 0.5404 - acc: 0.7500 - val_loss: 1.4580 - val_acc: 0.4792\n",
      "Epoch 31/100\n",
      "\n",
      "Epoch 00031: saving model to E:Dataset_Final(March)/Checkpoints/Level_1/Epoch_102/weights-improvement-31-0.50.hdf5\n",
      "96/96 [==============================] - 34s 353ms/step - loss: 0.5459 - acc: 0.7188 - val_loss: 1.3612 - val_acc: 0.5000\n",
      "Epoch 32/100\n",
      "\n",
      "Epoch 00032: saving model to E:Dataset_Final(March)/Checkpoints/Level_1/Epoch_102/weights-improvement-32-0.50.hdf5\n",
      "96/96 [==============================] - 35s 360ms/step - loss: 0.6113 - acc: 0.7083 - val_loss: 1.5198 - val_acc: 0.5000\n",
      "Epoch 33/100\n",
      "\n",
      "Epoch 00033: saving model to E:Dataset_Final(March)/Checkpoints/Level_1/Epoch_102/weights-improvement-33-0.50.hdf5\n"
     ]
    },
    {
     "name": "stdout",
     "output_type": "stream",
     "text": [
      "96/96 [==============================] - 33s 346ms/step - loss: 0.6288 - acc: 0.7396 - val_loss: 1.4646 - val_acc: 0.5000\n",
      "Epoch 34/100\n",
      "\n",
      "Epoch 00034: saving model to E:Dataset_Final(March)/Checkpoints/Level_1/Epoch_102/weights-improvement-34-0.54.hdf5\n",
      "96/96 [==============================] - 32s 332ms/step - loss: 0.5213 - acc: 0.7188 - val_loss: 1.5123 - val_acc: 0.5417\n",
      "Epoch 35/100\n",
      "\n",
      "Epoch 00035: saving model to E:Dataset_Final(March)/Checkpoints/Level_1/Epoch_102/weights-improvement-35-0.50.hdf5\n",
      "96/96 [==============================] - 34s 350ms/step - loss: 0.5671 - acc: 0.7083 - val_loss: 1.7569 - val_acc: 0.5000\n",
      "Epoch 36/100\n",
      "\n",
      "Epoch 00036: saving model to E:Dataset_Final(March)/Checkpoints/Level_1/Epoch_102/weights-improvement-36-0.50.hdf5\n",
      "96/96 [==============================] - 33s 349ms/step - loss: 0.5629 - acc: 0.6979 - val_loss: 1.7541 - val_acc: 0.5000\n",
      "Epoch 37/100\n",
      "\n",
      "Epoch 00037: saving model to E:Dataset_Final(March)/Checkpoints/Level_1/Epoch_102/weights-improvement-37-0.50.hdf5\n",
      "96/96 [==============================] - 33s 341ms/step - loss: 0.6077 - acc: 0.6875 - val_loss: 1.6678 - val_acc: 0.5000\n",
      "Epoch 38/100\n",
      "\n",
      "Epoch 00038: saving model to E:Dataset_Final(March)/Checkpoints/Level_1/Epoch_102/weights-improvement-38-0.48.hdf5\n",
      "96/96 [==============================] - 35s 363ms/step - loss: 0.5570 - acc: 0.7188 - val_loss: 1.7219 - val_acc: 0.4792\n",
      "Epoch 39/100\n",
      "\n",
      "Epoch 00039: saving model to E:Dataset_Final(March)/Checkpoints/Level_1/Epoch_102/weights-improvement-39-0.46.hdf5\n",
      "96/96 [==============================] - 34s 359ms/step - loss: 0.5185 - acc: 0.7604 - val_loss: 1.7461 - val_acc: 0.4583\n",
      "Epoch 40/100\n",
      "\n",
      "Epoch 00040: saving model to E:Dataset_Final(March)/Checkpoints/Level_1/Epoch_102/weights-improvement-40-0.48.hdf5\n",
      "96/96 [==============================] - 35s 362ms/step - loss: 0.5126 - acc: 0.7396 - val_loss: 1.8511 - val_acc: 0.4792\n",
      "Epoch 41/100\n",
      "\n",
      "Epoch 00041: saving model to E:Dataset_Final(March)/Checkpoints/Level_1/Epoch_102/weights-improvement-41-0.54.hdf5\n",
      "96/96 [==============================] - 33s 339ms/step - loss: 0.5729 - acc: 0.7083 - val_loss: 1.7973 - val_acc: 0.5417\n",
      "Epoch 42/100\n",
      "\n",
      "Epoch 00042: saving model to E:Dataset_Final(March)/Checkpoints/Level_1/Epoch_102/weights-improvement-42-0.50.hdf5\n",
      "96/96 [==============================] - 33s 339ms/step - loss: 0.5430 - acc: 0.6979 - val_loss: 1.8076 - val_acc: 0.5000\n",
      "Epoch 43/100\n",
      "\n",
      "Epoch 00043: saving model to E:Dataset_Final(March)/Checkpoints/Level_1/Epoch_102/weights-improvement-43-0.50.hdf5\n",
      "96/96 [==============================] - 34s 353ms/step - loss: 0.5605 - acc: 0.6875 - val_loss: 1.7350 - val_acc: 0.5000\n",
      "Epoch 44/100\n",
      "\n",
      "Epoch 00044: saving model to E:Dataset_Final(March)/Checkpoints/Level_1/Epoch_102/weights-improvement-44-0.48.hdf5\n",
      "96/96 [==============================] - 35s 367ms/step - loss: 0.5520 - acc: 0.7500 - val_loss: 1.7569 - val_acc: 0.4792\n",
      "Epoch 45/100\n",
      "\n",
      "Epoch 00045: saving model to E:Dataset_Final(March)/Checkpoints/Level_1/Epoch_102/weights-improvement-45-0.48.hdf5\n",
      "96/96 [==============================] - 33s 348ms/step - loss: 0.5291 - acc: 0.7396 - val_loss: 1.7486 - val_acc: 0.4792\n",
      "Epoch 46/100\n",
      "\n",
      "Epoch 00046: saving model to E:Dataset_Final(March)/Checkpoints/Level_1/Epoch_102/weights-improvement-46-0.52.hdf5\n",
      "96/96 [==============================] - 34s 356ms/step - loss: 0.5607 - acc: 0.6875 - val_loss: 1.7774 - val_acc: 0.5208\n",
      "Epoch 47/100\n",
      "\n",
      "Epoch 00047: saving model to E:Dataset_Final(March)/Checkpoints/Level_1/Epoch_102/weights-improvement-47-0.48.hdf5\n",
      "96/96 [==============================] - 33s 344ms/step - loss: 0.5323 - acc: 0.7083 - val_loss: 1.8622 - val_acc: 0.4792\n",
      "Epoch 48/100\n",
      "\n",
      "Epoch 00048: saving model to E:Dataset_Final(March)/Checkpoints/Level_1/Epoch_102/weights-improvement-48-0.48.hdf5\n",
      "96/96 [==============================] - 33s 339ms/step - loss: 0.5270 - acc: 0.7396 - val_loss: 1.8930 - val_acc: 0.4792\n",
      "Epoch 49/100\n",
      "\n",
      "Epoch 00049: saving model to E:Dataset_Final(March)/Checkpoints/Level_1/Epoch_102/weights-improvement-49-0.48.hdf5\n",
      "96/96 [==============================] - 33s 344ms/step - loss: 0.5511 - acc: 0.6875 - val_loss: 1.8635 - val_acc: 0.4792\n",
      "Epoch 50/100\n",
      "\n",
      "Epoch 00050: saving model to E:Dataset_Final(March)/Checkpoints/Level_1/Epoch_102/weights-improvement-50-0.48.hdf5\n",
      "96/96 [==============================] - 33s 339ms/step - loss: 0.5086 - acc: 0.7083 - val_loss: 1.7962 - val_acc: 0.4792\n",
      "Epoch 51/100\n",
      "\n",
      "Epoch 00051: saving model to E:Dataset_Final(March)/Checkpoints/Level_1/Epoch_102/weights-improvement-51-0.48.hdf5\n",
      "96/96 [==============================] - 34s 359ms/step - loss: 0.5299 - acc: 0.7500 - val_loss: 1.8152 - val_acc: 0.4792\n",
      "Epoch 52/100\n",
      "\n",
      "Epoch 00052: saving model to E:Dataset_Final(March)/Checkpoints/Level_1/Epoch_102/weights-improvement-52-0.48.hdf5\n",
      "96/96 [==============================] - 32s 336ms/step - loss: 0.5241 - acc: 0.7396 - val_loss: 1.8733 - val_acc: 0.4792\n",
      "Epoch 53/100\n",
      "\n",
      "Epoch 00053: saving model to E:Dataset_Final(March)/Checkpoints/Level_1/Epoch_102/weights-improvement-53-0.48.hdf5\n",
      "96/96 [==============================] - 33s 341ms/step - loss: 0.5545 - acc: 0.7396 - val_loss: 1.8909 - val_acc: 0.4792\n",
      "Epoch 54/100\n",
      "\n",
      "Epoch 00054: saving model to E:Dataset_Final(March)/Checkpoints/Level_1/Epoch_102/weights-improvement-54-0.48.hdf5\n",
      "96/96 [==============================] - 34s 352ms/step - loss: 0.5386 - acc: 0.7188 - val_loss: 1.9219 - val_acc: 0.4792\n",
      "Epoch 55/100\n",
      "\n",
      "Epoch 00055: saving model to E:Dataset_Final(March)/Checkpoints/Level_1/Epoch_102/weights-improvement-55-0.50.hdf5\n",
      "96/96 [==============================] - 33s 342ms/step - loss: 0.5071 - acc: 0.7292 - val_loss: 1.9397 - val_acc: 0.5000\n",
      "Epoch 56/100\n",
      "\n",
      "Epoch 00056: saving model to E:Dataset_Final(March)/Checkpoints/Level_1/Epoch_102/weights-improvement-56-0.50.hdf5\n",
      "96/96 [==============================] - 37s 384ms/step - loss: 0.5428 - acc: 0.7500 - val_loss: 1.9359 - val_acc: 0.5000\n",
      "Epoch 57/100\n",
      "\n",
      "Epoch 00057: saving model to E:Dataset_Final(March)/Checkpoints/Level_1/Epoch_102/weights-improvement-57-0.50.hdf5\n",
      "96/96 [==============================] - 33s 346ms/step - loss: 0.5047 - acc: 0.7396 - val_loss: 1.8447 - val_acc: 0.5000\n",
      "Epoch 58/100\n",
      "\n",
      "Epoch 00058: saving model to E:Dataset_Final(March)/Checkpoints/Level_1/Epoch_102/weights-improvement-58-0.50.hdf5\n",
      "96/96 [==============================] - 34s 356ms/step - loss: 0.5192 - acc: 0.6979 - val_loss: 1.7679 - val_acc: 0.5000\n",
      "Epoch 59/100\n"
     ]
    },
    {
     "ename": "ResourceExhaustedError",
     "evalue": "OOM when allocating tensor with shape[96,100,100,128] and type float on /job:localhost/replica:0/task:0/device:CPU:0 by allocator cpu\n\t [[Node: training_3/Adam/gradients/s_re_lu_11/LeakyRelu/Maximum_grad/Select = Select[T=DT_FLOAT, _class=[\"loc:@s_re_lu_11/LeakyRelu/Maximum\"], _device=\"/job:localhost/replica:0/task:0/device:CPU:0\"](training_3/Adam/gradients/s_re_lu_11/LeakyRelu/Maximum_grad/GreaterEqual, training_3/Adam/gradients/s_re_lu_11/Minimum_grad/Reshape, training_3/Adam/gradients/s_re_lu_11/LeakyRelu/Maximum_grad/zeros)]]\nHint: If you want to see a list of allocated tensors when OOM happens, add report_tensor_allocations_upon_oom to RunOptions for current allocation info.\n\n\nCaused by op 'training_3/Adam/gradients/s_re_lu_11/LeakyRelu/Maximum_grad/Select', defined at:\n  File \"e:\\anaconda3\\Lib\\runpy.py\", line 193, in _run_module_as_main\n    \"__main__\", mod_spec)\n  File \"e:\\anaconda3\\Lib\\runpy.py\", line 85, in _run_code\n    exec(code, run_globals)\n  File \"c:\\users\\sumayyah\\keras\\lib\\site-packages\\ipykernel_launcher.py\", line 16, in <module>\n    app.launch_new_instance()\n  File \"c:\\users\\sumayyah\\keras\\lib\\site-packages\\traitlets\\config\\application.py\", line 658, in launch_instance\n    app.start()\n  File \"c:\\users\\sumayyah\\keras\\lib\\site-packages\\ipykernel\\kernelapp.py\", line 478, in start\n    self.io_loop.start()\n  File \"c:\\users\\sumayyah\\keras\\lib\\site-packages\\zmq\\eventloop\\ioloop.py\", line 177, in start\n    super(ZMQIOLoop, self).start()\n  File \"c:\\users\\sumayyah\\keras\\lib\\site-packages\\tornado\\ioloop.py\", line 888, in start\n    handler_func(fd_obj, events)\n  File \"c:\\users\\sumayyah\\keras\\lib\\site-packages\\tornado\\stack_context.py\", line 277, in null_wrapper\n    return fn(*args, **kwargs)\n  File \"c:\\users\\sumayyah\\keras\\lib\\site-packages\\zmq\\eventloop\\zmqstream.py\", line 440, in _handle_events\n    self._handle_recv()\n  File \"c:\\users\\sumayyah\\keras\\lib\\site-packages\\zmq\\eventloop\\zmqstream.py\", line 472, in _handle_recv\n    self._run_callback(callback, msg)\n  File \"c:\\users\\sumayyah\\keras\\lib\\site-packages\\zmq\\eventloop\\zmqstream.py\", line 414, in _run_callback\n    callback(*args, **kwargs)\n  File \"c:\\users\\sumayyah\\keras\\lib\\site-packages\\tornado\\stack_context.py\", line 277, in null_wrapper\n    return fn(*args, **kwargs)\n  File \"c:\\users\\sumayyah\\keras\\lib\\site-packages\\ipykernel\\kernelbase.py\", line 283, in dispatcher\n    return self.dispatch_shell(stream, msg)\n  File \"c:\\users\\sumayyah\\keras\\lib\\site-packages\\ipykernel\\kernelbase.py\", line 233, in dispatch_shell\n    handler(stream, idents, msg)\n  File \"c:\\users\\sumayyah\\keras\\lib\\site-packages\\ipykernel\\kernelbase.py\", line 399, in execute_request\n    user_expressions, allow_stdin)\n  File \"c:\\users\\sumayyah\\keras\\lib\\site-packages\\ipykernel\\ipkernel.py\", line 208, in do_execute\n    res = shell.run_cell(code, store_history=store_history, silent=silent)\n  File \"c:\\users\\sumayyah\\keras\\lib\\site-packages\\ipykernel\\zmqshell.py\", line 537, in run_cell\n    return super(ZMQInteractiveShell, self).run_cell(*args, **kwargs)\n  File \"c:\\users\\sumayyah\\keras\\lib\\site-packages\\IPython\\core\\interactiveshell.py\", line 2728, in run_cell\n    interactivity=interactivity, compiler=compiler, result=result)\n  File \"c:\\users\\sumayyah\\keras\\lib\\site-packages\\IPython\\core\\interactiveshell.py\", line 2850, in run_ast_nodes\n    if self.run_code(code, result):\n  File \"c:\\users\\sumayyah\\keras\\lib\\site-packages\\IPython\\core\\interactiveshell.py\", line 2910, in run_code\n    exec(code_obj, self.user_global_ns, self.user_ns)\n  File \"<ipython-input-45-876c02652090>\", line 5, in <module>\n    callbacks=[checkpoint]\n  File \"c:\\users\\sumayyah\\keras\\lib\\site-packages\\keras\\engine\\training.py\", line 1646, in fit\n    self._make_train_function()\n  File \"c:\\users\\sumayyah\\keras\\lib\\site-packages\\keras\\engine\\training.py\", line 970, in _make_train_function\n    loss=self.total_loss)\n  File \"c:\\users\\sumayyah\\keras\\lib\\site-packages\\keras\\legacy\\interfaces.py\", line 91, in wrapper\n    return func(*args, **kwargs)\n  File \"c:\\users\\sumayyah\\keras\\lib\\site-packages\\keras\\optimizers.py\", line 434, in get_updates\n    grads = self.get_gradients(loss, params)\n  File \"c:\\users\\sumayyah\\keras\\lib\\site-packages\\keras\\optimizers.py\", line 78, in get_gradients\n    grads = K.gradients(loss, params)\n  File \"c:\\users\\sumayyah\\keras\\lib\\site-packages\\keras\\backend\\tensorflow_backend.py\", line 2512, in gradients\n    return tf.gradients(loss, variables, colocate_gradients_with_ops=True)\n  File \"c:\\users\\sumayyah\\keras\\lib\\site-packages\\tensorflow\\python\\ops\\gradients_impl.py\", line 609, in gradients\n    grad_scope, op, func_call, lambda: grad_fn(op, *out_grads))\n  File \"c:\\users\\sumayyah\\keras\\lib\\site-packages\\tensorflow\\python\\ops\\gradients_impl.py\", line 375, in _MaybeCompile\n    return grad_fn()  # Exit early\n  File \"c:\\users\\sumayyah\\keras\\lib\\site-packages\\tensorflow\\python\\ops\\gradients_impl.py\", line 609, in <lambda>\n    grad_scope, op, func_call, lambda: grad_fn(op, *out_grads))\n  File \"c:\\users\\sumayyah\\keras\\lib\\site-packages\\tensorflow\\python\\ops\\math_grad.py\", line 904, in _MaximumGrad\n    return _MaximumMinimumGrad(op, grad, math_ops.greater_equal)\n  File \"c:\\users\\sumayyah\\keras\\lib\\site-packages\\tensorflow\\python\\ops\\math_grad.py\", line 894, in _MaximumMinimumGrad\n    xgrad = array_ops.where(xmask, grad, zeros)\n  File \"c:\\users\\sumayyah\\keras\\lib\\site-packages\\tensorflow\\python\\ops\\array_ops.py\", line 2540, in where\n    return gen_math_ops._select(condition=condition, x=x, y=y, name=name)\n  File \"c:\\users\\sumayyah\\keras\\lib\\site-packages\\tensorflow\\python\\ops\\gen_math_ops.py\", line 4528, in _select\n    \"Select\", condition=condition, t=x, e=y, name=name)\n  File \"c:\\users\\sumayyah\\keras\\lib\\site-packages\\tensorflow\\python\\framework\\op_def_library.py\", line 787, in _apply_op_helper\n    op_def=op_def)\n  File \"c:\\users\\sumayyah\\keras\\lib\\site-packages\\tensorflow\\python\\framework\\ops.py\", line 3160, in create_op\n    op_def=op_def)\n  File \"c:\\users\\sumayyah\\keras\\lib\\site-packages\\tensorflow\\python\\framework\\ops.py\", line 1625, in __init__\n    self._traceback = self._graph._extract_stack()  # pylint: disable=protected-access\n\n...which was originally created as op 's_re_lu_11/LeakyRelu/Maximum', defined at:\n  File \"e:\\anaconda3\\Lib\\runpy.py\", line 193, in _run_module_as_main\n    \"__main__\", mod_spec)\n[elided 18 identical lines from previous traceback]\n  File \"c:\\users\\sumayyah\\keras\\lib\\site-packages\\IPython\\core\\interactiveshell.py\", line 2910, in run_code\n    exec(code_obj, self.user_global_ns, self.user_ns)\n  File \"<ipython-input-40-0d2f2276bec7>\", line 3, in <module>\n    x=SReLU()(x)\n  File \"c:\\users\\sumayyah\\keras\\lib\\site-packages\\keras\\engine\\topology.py\", line 617, in __call__\n    output = self.call(inputs, **kwargs)\n  File \"c:\\users\\sumayyah\\keras\\lib\\site-packages\\keras_contrib\\layers\\advanced_activations.py\", line 223, in call\n    t_right_actual - t_left)\n  File \"c:\\users\\sumayyah\\keras\\lib\\site-packages\\keras\\backend\\tensorflow_backend.py\", line 2918, in relu\n    x = tf.nn.leaky_relu(x, alpha)\n  File \"c:\\users\\sumayyah\\keras\\lib\\site-packages\\tensorflow\\python\\ops\\nn_ops.py\", line 1548, in leaky_relu\n    return math_ops.maximum(alpha * features, features)\n  File \"c:\\users\\sumayyah\\keras\\lib\\site-packages\\tensorflow\\python\\ops\\gen_math_ops.py\", line 2887, in maximum\n    \"Maximum\", x=x, y=y, name=name)\n  File \"c:\\users\\sumayyah\\keras\\lib\\site-packages\\tensorflow\\python\\framework\\op_def_library.py\", line 787, in _apply_op_helper\n    op_def=op_def)\n  File \"c:\\users\\sumayyah\\keras\\lib\\site-packages\\tensorflow\\python\\framework\\ops.py\", line 3160, in create_op\n    op_def=op_def)\n  File \"c:\\users\\sumayyah\\keras\\lib\\site-packages\\tensorflow\\python\\framework\\ops.py\", line 1625, in __init__\n    self._traceback = self._graph._extract_stack()  # pylint: disable=protected-access\n\nResourceExhaustedError (see above for traceback): OOM when allocating tensor with shape[96,100,100,128] and type float on /job:localhost/replica:0/task:0/device:CPU:0 by allocator cpu\n\t [[Node: training_3/Adam/gradients/s_re_lu_11/LeakyRelu/Maximum_grad/Select = Select[T=DT_FLOAT, _class=[\"loc:@s_re_lu_11/LeakyRelu/Maximum\"], _device=\"/job:localhost/replica:0/task:0/device:CPU:0\"](training_3/Adam/gradients/s_re_lu_11/LeakyRelu/Maximum_grad/GreaterEqual, training_3/Adam/gradients/s_re_lu_11/Minimum_grad/Reshape, training_3/Adam/gradients/s_re_lu_11/LeakyRelu/Maximum_grad/zeros)]]\nHint: If you want to see a list of allocated tensors when OOM happens, add report_tensor_allocations_upon_oom to RunOptions for current allocation info.\n\n",
     "output_type": "error",
     "traceback": [
      "\u001b[1;31m---------------------------------------------------------------------------\u001b[0m",
      "\u001b[1;31mResourceExhaustedError\u001b[0m                    Traceback (most recent call last)",
      "\u001b[1;32mc:\\users\\sumayyah\\keras\\lib\\site-packages\\tensorflow\\python\\client\\session.py\u001b[0m in \u001b[0;36m_do_call\u001b[1;34m(self, fn, *args)\u001b[0m\n\u001b[0;32m   1349\u001b[0m     \u001b[1;32mtry\u001b[0m\u001b[1;33m:\u001b[0m\u001b[1;33m\u001b[0m\u001b[0m\n\u001b[1;32m-> 1350\u001b[1;33m       \u001b[1;32mreturn\u001b[0m \u001b[0mfn\u001b[0m\u001b[1;33m(\u001b[0m\u001b[1;33m*\u001b[0m\u001b[0margs\u001b[0m\u001b[1;33m)\u001b[0m\u001b[1;33m\u001b[0m\u001b[0m\n\u001b[0m\u001b[0;32m   1351\u001b[0m     \u001b[1;32mexcept\u001b[0m \u001b[0merrors\u001b[0m\u001b[1;33m.\u001b[0m\u001b[0mOpError\u001b[0m \u001b[1;32mas\u001b[0m \u001b[0me\u001b[0m\u001b[1;33m:\u001b[0m\u001b[1;33m\u001b[0m\u001b[0m\n",
      "\u001b[1;32mc:\\users\\sumayyah\\keras\\lib\\site-packages\\tensorflow\\python\\client\\session.py\u001b[0m in \u001b[0;36m_run_fn\u001b[1;34m(session, feed_dict, fetch_list, target_list, options, run_metadata)\u001b[0m\n\u001b[0;32m   1328\u001b[0m                                    \u001b[0mfeed_dict\u001b[0m\u001b[1;33m,\u001b[0m \u001b[0mfetch_list\u001b[0m\u001b[1;33m,\u001b[0m \u001b[0mtarget_list\u001b[0m\u001b[1;33m,\u001b[0m\u001b[1;33m\u001b[0m\u001b[0m\n\u001b[1;32m-> 1329\u001b[1;33m                                    status, run_metadata)\n\u001b[0m\u001b[0;32m   1330\u001b[0m \u001b[1;33m\u001b[0m\u001b[0m\n",
      "\u001b[1;32mc:\\users\\sumayyah\\keras\\lib\\site-packages\\tensorflow\\python\\framework\\errors_impl.py\u001b[0m in \u001b[0;36m__exit__\u001b[1;34m(self, type_arg, value_arg, traceback_arg)\u001b[0m\n\u001b[0;32m    472\u001b[0m             \u001b[0mcompat\u001b[0m\u001b[1;33m.\u001b[0m\u001b[0mas_text\u001b[0m\u001b[1;33m(\u001b[0m\u001b[0mc_api\u001b[0m\u001b[1;33m.\u001b[0m\u001b[0mTF_Message\u001b[0m\u001b[1;33m(\u001b[0m\u001b[0mself\u001b[0m\u001b[1;33m.\u001b[0m\u001b[0mstatus\u001b[0m\u001b[1;33m.\u001b[0m\u001b[0mstatus\u001b[0m\u001b[1;33m)\u001b[0m\u001b[1;33m)\u001b[0m\u001b[1;33m,\u001b[0m\u001b[1;33m\u001b[0m\u001b[0m\n\u001b[1;32m--> 473\u001b[1;33m             c_api.TF_GetCode(self.status.status))\n\u001b[0m\u001b[0;32m    474\u001b[0m     \u001b[1;31m# Delete the underlying status object from memory otherwise it stays alive\u001b[0m\u001b[1;33m\u001b[0m\u001b[1;33m\u001b[0m\u001b[0m\n",
      "\u001b[1;31mResourceExhaustedError\u001b[0m: OOM when allocating tensor with shape[96,100,100,128] and type float on /job:localhost/replica:0/task:0/device:CPU:0 by allocator cpu\n\t [[Node: training_3/Adam/gradients/s_re_lu_11/LeakyRelu/Maximum_grad/Select = Select[T=DT_FLOAT, _class=[\"loc:@s_re_lu_11/LeakyRelu/Maximum\"], _device=\"/job:localhost/replica:0/task:0/device:CPU:0\"](training_3/Adam/gradients/s_re_lu_11/LeakyRelu/Maximum_grad/GreaterEqual, training_3/Adam/gradients/s_re_lu_11/Minimum_grad/Reshape, training_3/Adam/gradients/s_re_lu_11/LeakyRelu/Maximum_grad/zeros)]]\nHint: If you want to see a list of allocated tensors when OOM happens, add report_tensor_allocations_upon_oom to RunOptions for current allocation info.\n",
      "\nDuring handling of the above exception, another exception occurred:\n",
      "\u001b[1;31mResourceExhaustedError\u001b[0m                    Traceback (most recent call last)",
      "\u001b[1;32m<ipython-input-45-876c02652090>\u001b[0m in \u001b[0;36m<module>\u001b[1;34m()\u001b[0m\n\u001b[0;32m      3\u001b[0m                \u001b[0mepochs\u001b[0m\u001b[1;33m=\u001b[0m\u001b[0mepochs\u001b[0m\u001b[1;33m,\u001b[0m\u001b[1;33m\u001b[0m\u001b[0m\n\u001b[0;32m      4\u001b[0m                \u001b[0mvalidation_data\u001b[0m\u001b[1;33m=\u001b[0m\u001b[1;33m(\u001b[0m\u001b[0mx_test\u001b[0m\u001b[1;33m,\u001b[0m \u001b[0my_test\u001b[0m\u001b[1;33m)\u001b[0m\u001b[1;33m,\u001b[0m\u001b[1;33m\u001b[0m\u001b[0m\n\u001b[1;32m----> 5\u001b[1;33m                \u001b[0mcallbacks\u001b[0m\u001b[1;33m=\u001b[0m\u001b[1;33m[\u001b[0m\u001b[0mcheckpoint\u001b[0m\u001b[1;33m]\u001b[0m\u001b[1;33m\u001b[0m\u001b[0m\n\u001b[0m\u001b[0;32m      6\u001b[0m                )\n",
      "\u001b[1;32mc:\\users\\sumayyah\\keras\\lib\\site-packages\\keras\\engine\\training.py\u001b[0m in \u001b[0;36mfit\u001b[1;34m(self, x, y, batch_size, epochs, verbose, callbacks, validation_split, validation_data, shuffle, class_weight, sample_weight, initial_epoch, steps_per_epoch, validation_steps, **kwargs)\u001b[0m\n\u001b[0;32m   1667\u001b[0m                               \u001b[0minitial_epoch\u001b[0m\u001b[1;33m=\u001b[0m\u001b[0minitial_epoch\u001b[0m\u001b[1;33m,\u001b[0m\u001b[1;33m\u001b[0m\u001b[0m\n\u001b[0;32m   1668\u001b[0m                               \u001b[0msteps_per_epoch\u001b[0m\u001b[1;33m=\u001b[0m\u001b[0msteps_per_epoch\u001b[0m\u001b[1;33m,\u001b[0m\u001b[1;33m\u001b[0m\u001b[0m\n\u001b[1;32m-> 1669\u001b[1;33m                               validation_steps=validation_steps)\n\u001b[0m\u001b[0;32m   1670\u001b[0m \u001b[1;33m\u001b[0m\u001b[0m\n\u001b[0;32m   1671\u001b[0m     def evaluate(self, x=None, y=None,\n",
      "\u001b[1;32mc:\\users\\sumayyah\\keras\\lib\\site-packages\\keras\\engine\\training.py\u001b[0m in \u001b[0;36m_fit_loop\u001b[1;34m(self, f, ins, out_labels, batch_size, epochs, verbose, callbacks, val_f, val_ins, shuffle, callback_metrics, initial_epoch, steps_per_epoch, validation_steps)\u001b[0m\n\u001b[0;32m   1204\u001b[0m                         \u001b[0mins_batch\u001b[0m\u001b[1;33m[\u001b[0m\u001b[0mi\u001b[0m\u001b[1;33m]\u001b[0m \u001b[1;33m=\u001b[0m \u001b[0mins_batch\u001b[0m\u001b[1;33m[\u001b[0m\u001b[0mi\u001b[0m\u001b[1;33m]\u001b[0m\u001b[1;33m.\u001b[0m\u001b[0mtoarray\u001b[0m\u001b[1;33m(\u001b[0m\u001b[1;33m)\u001b[0m\u001b[1;33m\u001b[0m\u001b[0m\n\u001b[0;32m   1205\u001b[0m \u001b[1;33m\u001b[0m\u001b[0m\n\u001b[1;32m-> 1206\u001b[1;33m                     \u001b[0mouts\u001b[0m \u001b[1;33m=\u001b[0m \u001b[0mf\u001b[0m\u001b[1;33m(\u001b[0m\u001b[0mins_batch\u001b[0m\u001b[1;33m)\u001b[0m\u001b[1;33m\u001b[0m\u001b[0m\n\u001b[0m\u001b[0;32m   1207\u001b[0m                     \u001b[1;32mif\u001b[0m \u001b[1;32mnot\u001b[0m \u001b[0misinstance\u001b[0m\u001b[1;33m(\u001b[0m\u001b[0mouts\u001b[0m\u001b[1;33m,\u001b[0m \u001b[0mlist\u001b[0m\u001b[1;33m)\u001b[0m\u001b[1;33m:\u001b[0m\u001b[1;33m\u001b[0m\u001b[0m\n\u001b[0;32m   1208\u001b[0m                         \u001b[0mouts\u001b[0m \u001b[1;33m=\u001b[0m \u001b[1;33m[\u001b[0m\u001b[0mouts\u001b[0m\u001b[1;33m]\u001b[0m\u001b[1;33m\u001b[0m\u001b[0m\n",
      "\u001b[1;32mc:\\users\\sumayyah\\keras\\lib\\site-packages\\keras\\backend\\tensorflow_backend.py\u001b[0m in \u001b[0;36m__call__\u001b[1;34m(self, inputs)\u001b[0m\n\u001b[0;32m   2473\u001b[0m         \u001b[0msession\u001b[0m \u001b[1;33m=\u001b[0m \u001b[0mget_session\u001b[0m\u001b[1;33m(\u001b[0m\u001b[1;33m)\u001b[0m\u001b[1;33m\u001b[0m\u001b[0m\n\u001b[0;32m   2474\u001b[0m         updated = session.run(fetches=fetches, feed_dict=feed_dict,\n\u001b[1;32m-> 2475\u001b[1;33m                               **self.session_kwargs)\n\u001b[0m\u001b[0;32m   2476\u001b[0m         \u001b[1;32mreturn\u001b[0m \u001b[0mupdated\u001b[0m\u001b[1;33m[\u001b[0m\u001b[1;33m:\u001b[0m\u001b[0mlen\u001b[0m\u001b[1;33m(\u001b[0m\u001b[0mself\u001b[0m\u001b[1;33m.\u001b[0m\u001b[0moutputs\u001b[0m\u001b[1;33m)\u001b[0m\u001b[1;33m]\u001b[0m\u001b[1;33m\u001b[0m\u001b[0m\n\u001b[0;32m   2477\u001b[0m \u001b[1;33m\u001b[0m\u001b[0m\n",
      "\u001b[1;32mc:\\users\\sumayyah\\keras\\lib\\site-packages\\tensorflow\\python\\client\\session.py\u001b[0m in \u001b[0;36mrun\u001b[1;34m(self, fetches, feed_dict, options, run_metadata)\u001b[0m\n\u001b[0;32m    893\u001b[0m     \u001b[1;32mtry\u001b[0m\u001b[1;33m:\u001b[0m\u001b[1;33m\u001b[0m\u001b[0m\n\u001b[0;32m    894\u001b[0m       result = self._run(None, fetches, feed_dict, options_ptr,\n\u001b[1;32m--> 895\u001b[1;33m                          run_metadata_ptr)\n\u001b[0m\u001b[0;32m    896\u001b[0m       \u001b[1;32mif\u001b[0m \u001b[0mrun_metadata\u001b[0m\u001b[1;33m:\u001b[0m\u001b[1;33m\u001b[0m\u001b[0m\n\u001b[0;32m    897\u001b[0m         \u001b[0mproto_data\u001b[0m \u001b[1;33m=\u001b[0m \u001b[0mtf_session\u001b[0m\u001b[1;33m.\u001b[0m\u001b[0mTF_GetBuffer\u001b[0m\u001b[1;33m(\u001b[0m\u001b[0mrun_metadata_ptr\u001b[0m\u001b[1;33m)\u001b[0m\u001b[1;33m\u001b[0m\u001b[0m\n",
      "\u001b[1;32mc:\\users\\sumayyah\\keras\\lib\\site-packages\\tensorflow\\python\\client\\session.py\u001b[0m in \u001b[0;36m_run\u001b[1;34m(self, handle, fetches, feed_dict, options, run_metadata)\u001b[0m\n\u001b[0;32m   1126\u001b[0m     \u001b[1;32mif\u001b[0m \u001b[0mfinal_fetches\u001b[0m \u001b[1;32mor\u001b[0m \u001b[0mfinal_targets\u001b[0m \u001b[1;32mor\u001b[0m \u001b[1;33m(\u001b[0m\u001b[0mhandle\u001b[0m \u001b[1;32mand\u001b[0m \u001b[0mfeed_dict_tensor\u001b[0m\u001b[1;33m)\u001b[0m\u001b[1;33m:\u001b[0m\u001b[1;33m\u001b[0m\u001b[0m\n\u001b[0;32m   1127\u001b[0m       results = self._do_run(handle, final_targets, final_fetches,\n\u001b[1;32m-> 1128\u001b[1;33m                              feed_dict_tensor, options, run_metadata)\n\u001b[0m\u001b[0;32m   1129\u001b[0m     \u001b[1;32melse\u001b[0m\u001b[1;33m:\u001b[0m\u001b[1;33m\u001b[0m\u001b[0m\n\u001b[0;32m   1130\u001b[0m       \u001b[0mresults\u001b[0m \u001b[1;33m=\u001b[0m \u001b[1;33m[\u001b[0m\u001b[1;33m]\u001b[0m\u001b[1;33m\u001b[0m\u001b[0m\n",
      "\u001b[1;32mc:\\users\\sumayyah\\keras\\lib\\site-packages\\tensorflow\\python\\client\\session.py\u001b[0m in \u001b[0;36m_do_run\u001b[1;34m(self, handle, target_list, fetch_list, feed_dict, options, run_metadata)\u001b[0m\n\u001b[0;32m   1342\u001b[0m     \u001b[1;32mif\u001b[0m \u001b[0mhandle\u001b[0m \u001b[1;32mis\u001b[0m \u001b[1;32mNone\u001b[0m\u001b[1;33m:\u001b[0m\u001b[1;33m\u001b[0m\u001b[0m\n\u001b[0;32m   1343\u001b[0m       return self._do_call(_run_fn, self._session, feeds, fetches, targets,\n\u001b[1;32m-> 1344\u001b[1;33m                            options, run_metadata)\n\u001b[0m\u001b[0;32m   1345\u001b[0m     \u001b[1;32melse\u001b[0m\u001b[1;33m:\u001b[0m\u001b[1;33m\u001b[0m\u001b[0m\n\u001b[0;32m   1346\u001b[0m       \u001b[1;32mreturn\u001b[0m \u001b[0mself\u001b[0m\u001b[1;33m.\u001b[0m\u001b[0m_do_call\u001b[0m\u001b[1;33m(\u001b[0m\u001b[0m_prun_fn\u001b[0m\u001b[1;33m,\u001b[0m \u001b[0mself\u001b[0m\u001b[1;33m.\u001b[0m\u001b[0m_session\u001b[0m\u001b[1;33m,\u001b[0m \u001b[0mhandle\u001b[0m\u001b[1;33m,\u001b[0m \u001b[0mfeeds\u001b[0m\u001b[1;33m,\u001b[0m \u001b[0mfetches\u001b[0m\u001b[1;33m)\u001b[0m\u001b[1;33m\u001b[0m\u001b[0m\n",
      "\u001b[1;32mc:\\users\\sumayyah\\keras\\lib\\site-packages\\tensorflow\\python\\client\\session.py\u001b[0m in \u001b[0;36m_do_call\u001b[1;34m(self, fn, *args)\u001b[0m\n\u001b[0;32m   1361\u001b[0m         \u001b[1;32mexcept\u001b[0m \u001b[0mKeyError\u001b[0m\u001b[1;33m:\u001b[0m\u001b[1;33m\u001b[0m\u001b[0m\n\u001b[0;32m   1362\u001b[0m           \u001b[1;32mpass\u001b[0m\u001b[1;33m\u001b[0m\u001b[0m\n\u001b[1;32m-> 1363\u001b[1;33m       \u001b[1;32mraise\u001b[0m \u001b[0mtype\u001b[0m\u001b[1;33m(\u001b[0m\u001b[0me\u001b[0m\u001b[1;33m)\u001b[0m\u001b[1;33m(\u001b[0m\u001b[0mnode_def\u001b[0m\u001b[1;33m,\u001b[0m \u001b[0mop\u001b[0m\u001b[1;33m,\u001b[0m \u001b[0mmessage\u001b[0m\u001b[1;33m)\u001b[0m\u001b[1;33m\u001b[0m\u001b[0m\n\u001b[0m\u001b[0;32m   1364\u001b[0m \u001b[1;33m\u001b[0m\u001b[0m\n\u001b[0;32m   1365\u001b[0m   \u001b[1;32mdef\u001b[0m \u001b[0m_extend_graph\u001b[0m\u001b[1;33m(\u001b[0m\u001b[0mself\u001b[0m\u001b[1;33m)\u001b[0m\u001b[1;33m:\u001b[0m\u001b[1;33m\u001b[0m\u001b[0m\n",
      "\u001b[1;31mResourceExhaustedError\u001b[0m: OOM when allocating tensor with shape[96,100,100,128] and type float on /job:localhost/replica:0/task:0/device:CPU:0 by allocator cpu\n\t [[Node: training_3/Adam/gradients/s_re_lu_11/LeakyRelu/Maximum_grad/Select = Select[T=DT_FLOAT, _class=[\"loc:@s_re_lu_11/LeakyRelu/Maximum\"], _device=\"/job:localhost/replica:0/task:0/device:CPU:0\"](training_3/Adam/gradients/s_re_lu_11/LeakyRelu/Maximum_grad/GreaterEqual, training_3/Adam/gradients/s_re_lu_11/Minimum_grad/Reshape, training_3/Adam/gradients/s_re_lu_11/LeakyRelu/Maximum_grad/zeros)]]\nHint: If you want to see a list of allocated tensors when OOM happens, add report_tensor_allocations_upon_oom to RunOptions for current allocation info.\n\n\nCaused by op 'training_3/Adam/gradients/s_re_lu_11/LeakyRelu/Maximum_grad/Select', defined at:\n  File \"e:\\anaconda3\\Lib\\runpy.py\", line 193, in _run_module_as_main\n    \"__main__\", mod_spec)\n  File \"e:\\anaconda3\\Lib\\runpy.py\", line 85, in _run_code\n    exec(code, run_globals)\n  File \"c:\\users\\sumayyah\\keras\\lib\\site-packages\\ipykernel_launcher.py\", line 16, in <module>\n    app.launch_new_instance()\n  File \"c:\\users\\sumayyah\\keras\\lib\\site-packages\\traitlets\\config\\application.py\", line 658, in launch_instance\n    app.start()\n  File \"c:\\users\\sumayyah\\keras\\lib\\site-packages\\ipykernel\\kernelapp.py\", line 478, in start\n    self.io_loop.start()\n  File \"c:\\users\\sumayyah\\keras\\lib\\site-packages\\zmq\\eventloop\\ioloop.py\", line 177, in start\n    super(ZMQIOLoop, self).start()\n  File \"c:\\users\\sumayyah\\keras\\lib\\site-packages\\tornado\\ioloop.py\", line 888, in start\n    handler_func(fd_obj, events)\n  File \"c:\\users\\sumayyah\\keras\\lib\\site-packages\\tornado\\stack_context.py\", line 277, in null_wrapper\n    return fn(*args, **kwargs)\n  File \"c:\\users\\sumayyah\\keras\\lib\\site-packages\\zmq\\eventloop\\zmqstream.py\", line 440, in _handle_events\n    self._handle_recv()\n  File \"c:\\users\\sumayyah\\keras\\lib\\site-packages\\zmq\\eventloop\\zmqstream.py\", line 472, in _handle_recv\n    self._run_callback(callback, msg)\n  File \"c:\\users\\sumayyah\\keras\\lib\\site-packages\\zmq\\eventloop\\zmqstream.py\", line 414, in _run_callback\n    callback(*args, **kwargs)\n  File \"c:\\users\\sumayyah\\keras\\lib\\site-packages\\tornado\\stack_context.py\", line 277, in null_wrapper\n    return fn(*args, **kwargs)\n  File \"c:\\users\\sumayyah\\keras\\lib\\site-packages\\ipykernel\\kernelbase.py\", line 283, in dispatcher\n    return self.dispatch_shell(stream, msg)\n  File \"c:\\users\\sumayyah\\keras\\lib\\site-packages\\ipykernel\\kernelbase.py\", line 233, in dispatch_shell\n    handler(stream, idents, msg)\n  File \"c:\\users\\sumayyah\\keras\\lib\\site-packages\\ipykernel\\kernelbase.py\", line 399, in execute_request\n    user_expressions, allow_stdin)\n  File \"c:\\users\\sumayyah\\keras\\lib\\site-packages\\ipykernel\\ipkernel.py\", line 208, in do_execute\n    res = shell.run_cell(code, store_history=store_history, silent=silent)\n  File \"c:\\users\\sumayyah\\keras\\lib\\site-packages\\ipykernel\\zmqshell.py\", line 537, in run_cell\n    return super(ZMQInteractiveShell, self).run_cell(*args, **kwargs)\n  File \"c:\\users\\sumayyah\\keras\\lib\\site-packages\\IPython\\core\\interactiveshell.py\", line 2728, in run_cell\n    interactivity=interactivity, compiler=compiler, result=result)\n  File \"c:\\users\\sumayyah\\keras\\lib\\site-packages\\IPython\\core\\interactiveshell.py\", line 2850, in run_ast_nodes\n    if self.run_code(code, result):\n  File \"c:\\users\\sumayyah\\keras\\lib\\site-packages\\IPython\\core\\interactiveshell.py\", line 2910, in run_code\n    exec(code_obj, self.user_global_ns, self.user_ns)\n  File \"<ipython-input-45-876c02652090>\", line 5, in <module>\n    callbacks=[checkpoint]\n  File \"c:\\users\\sumayyah\\keras\\lib\\site-packages\\keras\\engine\\training.py\", line 1646, in fit\n    self._make_train_function()\n  File \"c:\\users\\sumayyah\\keras\\lib\\site-packages\\keras\\engine\\training.py\", line 970, in _make_train_function\n    loss=self.total_loss)\n  File \"c:\\users\\sumayyah\\keras\\lib\\site-packages\\keras\\legacy\\interfaces.py\", line 91, in wrapper\n    return func(*args, **kwargs)\n  File \"c:\\users\\sumayyah\\keras\\lib\\site-packages\\keras\\optimizers.py\", line 434, in get_updates\n    grads = self.get_gradients(loss, params)\n  File \"c:\\users\\sumayyah\\keras\\lib\\site-packages\\keras\\optimizers.py\", line 78, in get_gradients\n    grads = K.gradients(loss, params)\n  File \"c:\\users\\sumayyah\\keras\\lib\\site-packages\\keras\\backend\\tensorflow_backend.py\", line 2512, in gradients\n    return tf.gradients(loss, variables, colocate_gradients_with_ops=True)\n  File \"c:\\users\\sumayyah\\keras\\lib\\site-packages\\tensorflow\\python\\ops\\gradients_impl.py\", line 609, in gradients\n    grad_scope, op, func_call, lambda: grad_fn(op, *out_grads))\n  File \"c:\\users\\sumayyah\\keras\\lib\\site-packages\\tensorflow\\python\\ops\\gradients_impl.py\", line 375, in _MaybeCompile\n    return grad_fn()  # Exit early\n  File \"c:\\users\\sumayyah\\keras\\lib\\site-packages\\tensorflow\\python\\ops\\gradients_impl.py\", line 609, in <lambda>\n    grad_scope, op, func_call, lambda: grad_fn(op, *out_grads))\n  File \"c:\\users\\sumayyah\\keras\\lib\\site-packages\\tensorflow\\python\\ops\\math_grad.py\", line 904, in _MaximumGrad\n    return _MaximumMinimumGrad(op, grad, math_ops.greater_equal)\n  File \"c:\\users\\sumayyah\\keras\\lib\\site-packages\\tensorflow\\python\\ops\\math_grad.py\", line 894, in _MaximumMinimumGrad\n    xgrad = array_ops.where(xmask, grad, zeros)\n  File \"c:\\users\\sumayyah\\keras\\lib\\site-packages\\tensorflow\\python\\ops\\array_ops.py\", line 2540, in where\n    return gen_math_ops._select(condition=condition, x=x, y=y, name=name)\n  File \"c:\\users\\sumayyah\\keras\\lib\\site-packages\\tensorflow\\python\\ops\\gen_math_ops.py\", line 4528, in _select\n    \"Select\", condition=condition, t=x, e=y, name=name)\n  File \"c:\\users\\sumayyah\\keras\\lib\\site-packages\\tensorflow\\python\\framework\\op_def_library.py\", line 787, in _apply_op_helper\n    op_def=op_def)\n  File \"c:\\users\\sumayyah\\keras\\lib\\site-packages\\tensorflow\\python\\framework\\ops.py\", line 3160, in create_op\n    op_def=op_def)\n  File \"c:\\users\\sumayyah\\keras\\lib\\site-packages\\tensorflow\\python\\framework\\ops.py\", line 1625, in __init__\n    self._traceback = self._graph._extract_stack()  # pylint: disable=protected-access\n\n...which was originally created as op 's_re_lu_11/LeakyRelu/Maximum', defined at:\n  File \"e:\\anaconda3\\Lib\\runpy.py\", line 193, in _run_module_as_main\n    \"__main__\", mod_spec)\n[elided 18 identical lines from previous traceback]\n  File \"c:\\users\\sumayyah\\keras\\lib\\site-packages\\IPython\\core\\interactiveshell.py\", line 2910, in run_code\n    exec(code_obj, self.user_global_ns, self.user_ns)\n  File \"<ipython-input-40-0d2f2276bec7>\", line 3, in <module>\n    x=SReLU()(x)\n  File \"c:\\users\\sumayyah\\keras\\lib\\site-packages\\keras\\engine\\topology.py\", line 617, in __call__\n    output = self.call(inputs, **kwargs)\n  File \"c:\\users\\sumayyah\\keras\\lib\\site-packages\\keras_contrib\\layers\\advanced_activations.py\", line 223, in call\n    t_right_actual - t_left)\n  File \"c:\\users\\sumayyah\\keras\\lib\\site-packages\\keras\\backend\\tensorflow_backend.py\", line 2918, in relu\n    x = tf.nn.leaky_relu(x, alpha)\n  File \"c:\\users\\sumayyah\\keras\\lib\\site-packages\\tensorflow\\python\\ops\\nn_ops.py\", line 1548, in leaky_relu\n    return math_ops.maximum(alpha * features, features)\n  File \"c:\\users\\sumayyah\\keras\\lib\\site-packages\\tensorflow\\python\\ops\\gen_math_ops.py\", line 2887, in maximum\n    \"Maximum\", x=x, y=y, name=name)\n  File \"c:\\users\\sumayyah\\keras\\lib\\site-packages\\tensorflow\\python\\framework\\op_def_library.py\", line 787, in _apply_op_helper\n    op_def=op_def)\n  File \"c:\\users\\sumayyah\\keras\\lib\\site-packages\\tensorflow\\python\\framework\\ops.py\", line 3160, in create_op\n    op_def=op_def)\n  File \"c:\\users\\sumayyah\\keras\\lib\\site-packages\\tensorflow\\python\\framework\\ops.py\", line 1625, in __init__\n    self._traceback = self._graph._extract_stack()  # pylint: disable=protected-access\n\nResourceExhaustedError (see above for traceback): OOM when allocating tensor with shape[96,100,100,128] and type float on /job:localhost/replica:0/task:0/device:CPU:0 by allocator cpu\n\t [[Node: training_3/Adam/gradients/s_re_lu_11/LeakyRelu/Maximum_grad/Select = Select[T=DT_FLOAT, _class=[\"loc:@s_re_lu_11/LeakyRelu/Maximum\"], _device=\"/job:localhost/replica:0/task:0/device:CPU:0\"](training_3/Adam/gradients/s_re_lu_11/LeakyRelu/Maximum_grad/GreaterEqual, training_3/Adam/gradients/s_re_lu_11/Minimum_grad/Reshape, training_3/Adam/gradients/s_re_lu_11/LeakyRelu/Maximum_grad/zeros)]]\nHint: If you want to see a list of allocated tensors when OOM happens, add report_tensor_allocations_upon_oom to RunOptions for current allocation info.\n\n"
     ]
    }
   ],
   "source": [
    "hist=model.fit(x_train, y_train, \n",
    "               batch_size=batch_size,\n",
    "               epochs=epochs,\n",
    "               validation_data=(x_test, y_test),\n",
    "               callbacks=[checkpoint]\n",
    "               )"
   ]
  },
  {
   "cell_type": "code",
   "execution_count": 16,
   "metadata": {},
   "outputs": [
    {
     "name": "stdout",
     "output_type": "stream",
     "text": [
      "48/48 [==============================] - 2s 36ms/step\n"
     ]
    }
   ],
   "source": [
    "score=model.evaluate(x_test, y_test)"
   ]
  },
  {
   "cell_type": "code",
   "execution_count": 17,
   "metadata": {},
   "outputs": [
    {
     "data": {
      "text/plain": [
       "0.5"
      ]
     },
     "execution_count": 17,
     "metadata": {},
     "output_type": "execute_result"
    }
   ],
   "source": [
    "score[1]"
   ]
  },
  {
   "cell_type": "code",
   "execution_count": 18,
   "metadata": {},
   "outputs": [
    {
     "name": "stdout",
     "output_type": "stream",
     "text": [
      "[[2.94713150e-15 2.14662532e-09 1.70969159e-11 ... 2.00195354e-03\n",
      "  9.19864007e-08 2.72958427e-11]\n",
      " [4.48768135e-15 3.68956316e-05 1.37981804e-08 ... 5.73652287e-05\n",
      "  2.21351511e-04 4.90789603e-07]\n",
      " [1.10384114e-14 7.62660534e-07 1.29510340e-07 ... 3.51367760e-07\n",
      "  9.98131216e-01 2.39886688e-08]\n",
      " ...\n",
      " [1.91567767e-14 1.10330063e-06 2.05815184e-07 ... 1.10503755e-07\n",
      "  9.99504924e-01 6.21020106e-08]\n",
      " [1.25344591e-18 1.22945255e-15 7.21911967e-01 ... 5.30969366e-11\n",
      "  1.54337473e-10 2.29286812e-10]\n",
      " [3.09989243e-18 3.21937233e-14 3.30994339e-06 ... 7.24031557e-10\n",
      "  1.42700865e-10 3.47372586e-12]]\n",
      "[16 11 35  2  4  4 27 31 30 25 10 36 25 22  8 13 16 25 22 21  3 34 28 34\n",
      " 11 29 22 24 26 32 33 25 10 16  8 30 16  4 16  8  8 13 26 29 28 35  2 30]\n"
     ]
    }
   ],
   "source": [
    "y_pred=model.predict(x_test)# for dataset of 12 characters\n",
    "print (y_pred)\n",
    "y_pred=numpy.argmax(y_pred, axis=1)\n",
    "print (y_pred)"
   ]
  },
  {
   "cell_type": "code",
   "execution_count": 19,
   "metadata": {},
   "outputs": [],
   "source": [
    "model.load_weights(\"E:Dataset_Final(March)/Checkpoints/Level_1/Epoch_101/weights-improvement-83-0.50.hdf5\")"
   ]
  },
  {
   "cell_type": "code",
   "execution_count": 20,
   "metadata": {},
   "outputs": [
    {
     "name": "stdout",
     "output_type": "stream",
     "text": [
      "48/48 [==============================] - 2s 36ms/step\n"
     ]
    }
   ],
   "source": [
    "score=model.evaluate(x_test, y_test)"
   ]
  },
  {
   "cell_type": "code",
   "execution_count": 21,
   "metadata": {},
   "outputs": [
    {
     "data": {
      "text/plain": [
       "0.5"
      ]
     },
     "execution_count": 21,
     "metadata": {},
     "output_type": "execute_result"
    }
   ],
   "source": [
    "score[1]"
   ]
  },
  {
   "cell_type": "code",
   "execution_count": 22,
   "metadata": {},
   "outputs": [
    {
     "name": "stdout",
     "output_type": "stream",
     "text": [
      "[[6.9533046e-16 8.5169066e-10 6.3168598e-12 ... 8.2372007e-04\n",
      "  7.1592382e-08 1.3190575e-11]\n",
      " [1.2177702e-15 1.7118555e-05 5.6550387e-09 ... 2.4719671e-05\n",
      "  2.4708713e-04 3.1102670e-07]\n",
      " [2.8961037e-15 3.3115674e-07 5.2287238e-08 ... 1.5821681e-07\n",
      "  9.9826235e-01 1.4393768e-08]\n",
      " ...\n",
      " [5.0124640e-15 5.0098419e-07 8.1451283e-08 ... 4.7955403e-08\n",
      "  9.9955052e-01 3.7837570e-08]\n",
      " [2.8464851e-19 4.5182924e-16 3.6656675e-01 ... 9.7701751e-12\n",
      "  1.2010790e-10 1.6493006e-10]\n",
      " [1.3667511e-18 2.1992745e-14 2.0391437e-06 ... 3.2368427e-10\n",
      "  2.0967901e-10 3.6468849e-12]]\n",
      "[16 11 35  2  4  4 27 31 30 25  7 36 25 22  8 13 16 25 22 21  3 34 29 34\n",
      " 11 29 22 24 26 32 33 25  7 16  8 30 16  5 16  8  8 13 26 29 28 35  3 30]\n"
     ]
    }
   ],
   "source": [
    "y_pred=model.predict(x_test)# for dataset of 12 characters\n",
    "print (y_pred)\n",
    "y_pred=numpy.argmax(y_pred, axis=1)\n",
    "print (y_pred)"
   ]
  },
  {
   "cell_type": "code",
   "execution_count": 23,
   "metadata": {},
   "outputs": [
    {
     "name": "stdout",
     "output_type": "stream",
     "text": [
      "[[1 0 0 0 0 0 0 0 0 0 0 0 0 0 0 0 0 0 0 0 0 0 0 0 0 0 0 0 0 0 0]\n",
      " [0 2 0 0 0 0 0 0 0 0 0 0 0 0 0 0 0 0 0 0 0 0 0 0 0 0 0 0 0 0 0]\n",
      " [0 0 0 0 0 0 0 0 0 0 0 0 0 0 0 0 0 0 0 0 0 0 0 0 0 0 0 0 0 0 0]\n",
      " [0 0 1 0 0 0 0 0 0 0 0 0 0 0 0 0 0 0 0 0 0 0 0 0 0 0 0 0 0 0 0]\n",
      " [0 0 1 1 0 0 0 0 0 0 0 0 0 0 0 0 0 0 0 0 0 0 0 0 0 0 0 0 0 0 0]\n",
      " [0 0 0 0 0 0 1 0 0 0 0 0 0 0 0 0 0 0 0 0 0 0 0 0 0 0 0 0 0 0 0]\n",
      " [0 0 0 0 0 1 1 0 0 0 0 0 0 0 0 0 0 0 0 0 0 0 0 0 0 0 0 0 0 0 0]\n",
      " [0 0 0 0 0 1 1 0 0 0 0 0 0 0 0 0 0 0 0 0 0 0 0 0 0 0 0 0 0 0 0]\n",
      " [0 0 0 0 0 0 1 0 0 0 0 0 0 0 0 0 0 0 0 0 0 0 0 0 0 0 0 0 0 0 0]\n",
      " [0 0 0 0 0 0 0 0 0 0 2 0 0 0 0 0 0 0 0 0 0 0 0 0 0 0 0 0 0 0 0]\n",
      " [0 0 0 0 0 0 0 0 0 2 0 0 0 0 0 0 0 0 0 0 0 0 0 0 0 0 0 0 0 0 0]\n",
      " [0 0 0 0 0 0 0 0 0 0 0 0 0 3 0 0 0 0 0 0 0 0 0 0 0 0 0 0 0 0 0]\n",
      " [0 0 0 0 0 0 0 0 0 0 0 0 0 2 0 0 0 0 0 0 0 0 0 0 0 0 0 0 0 0 0]\n",
      " [0 0 0 0 0 0 0 0 0 0 0 0 0 0 0 0 0 0 0 0 0 0 0 0 0 0 0 0 0 0 0]\n",
      " [0 0 0 0 0 0 0 0 0 0 0 0 0 0 0 1 0 0 0 0 0 0 0 0 0 0 0 0 0 0 0]\n",
      " [0 0 0 0 0 0 0 0 0 0 0 0 0 0 0 0 0 0 0 0 0 0 0 0 0 0 0 0 0 0 0]\n",
      " [0 0 0 0 0 0 0 0 0 0 0 0 0 0 0 0 1 0 0 0 0 0 0 0 0 0 0 0 0 0 0]\n",
      " [0 0 0 0 0 0 0 0 0 0 0 0 0 0 0 0 2 0 0 0 0 0 0 0 0 0 0 0 0 0 0]\n",
      " [0 0 0 0 0 0 0 0 0 0 0 0 0 0 0 0 0 0 1 2 0 0 0 0 0 0 0 0 0 0 0]\n",
      " [0 0 0 0 0 0 0 0 0 0 0 0 0 0 0 0 0 0 0 2 0 0 0 0 0 0 0 0 0 0 0]\n",
      " [0 0 0 0 0 0 0 0 0 0 0 0 0 0 0 0 0 0 0 0 2 0 0 0 0 0 0 0 0 0 0]\n",
      " [0 0 0 0 0 0 0 0 0 0 0 0 0 0 0 0 0 0 0 0 0 1 0 0 0 0 0 0 0 0 0]\n",
      " [0 0 0 0 0 0 0 0 0 0 0 0 0 0 0 0 0 0 0 0 0 0 1 1 0 0 0 0 0 0 0]\n",
      " [0 0 0 0 0 0 0 0 0 0 0 0 0 0 0 0 0 0 0 0 0 0 0 2 0 0 0 0 0 0 0]\n",
      " [0 0 0 0 0 0 0 0 0 0 0 0 0 0 0 0 0 0 0 0 0 0 0 0 3 0 0 0 0 0 0]\n",
      " [0 0 0 0 0 0 0 0 0 0 0 0 0 0 0 0 0 0 0 0 0 0 0 0 0 1 0 0 0 0 0]\n",
      " [0 0 0 0 0 0 0 0 0 0 0 0 0 0 0 0 0 0 0 0 0 0 0 0 0 0 0 0 0 0 0]\n",
      " [0 0 0 0 0 0 0 0 0 0 0 0 0 0 0 0 0 0 0 0 0 0 0 0 0 0 1 1 0 0 0]\n",
      " [0 0 0 0 0 0 0 0 0 0 0 0 0 0 0 0 0 0 0 0 0 0 0 0 0 0 0 0 2 0 0]\n",
      " [0 0 0 0 0 0 0 0 0 0 0 0 0 0 0 0 0 0 0 0 0 0 0 0 0 0 0 0 0 2 0]\n",
      " [0 0 0 0 0 0 0 0 0 0 0 0 0 0 0 0 0 0 0 0 0 0 0 0 0 0 0 0 0 0 1]]\n"
     ]
    }
   ],
   "source": [
    "print(confusion_matrix(numpy.argmax(y_test, axis=1),y_pred))"
   ]
  },
  {
   "cell_type": "code",
   "execution_count": 24,
   "metadata": {},
   "outputs": [
    {
     "name": "stdout",
     "output_type": "stream",
     "text": [
      "             precision    recall  f1-score   support\n",
      "\n",
      "          2       1.00      1.00      1.00         1\n",
      "          3       1.00      1.00      1.00         2\n",
      "          4       0.00      0.00      0.00         0\n",
      "          5       0.00      0.00      0.00         1\n",
      "          6       0.00      0.00      0.00         2\n",
      "          7       0.00      0.00      0.00         1\n",
      "          8       0.25      0.50      0.33         2\n",
      "          9       0.00      0.00      0.00         2\n",
      "         10       0.00      0.00      0.00         1\n",
      "         11       0.00      0.00      0.00         2\n",
      "         13       0.00      0.00      0.00         2\n",
      "         14       0.00      0.00      0.00         3\n",
      "         15       0.00      0.00      0.00         2\n",
      "         16       0.00      0.00      0.00         0\n",
      "         20       0.00      0.00      0.00         1\n",
      "         21       0.00      0.00      0.00         0\n",
      "         22       0.33      1.00      0.50         1\n",
      "         23       0.00      0.00      0.00         2\n",
      "         24       1.00      0.33      0.50         3\n",
      "         25       0.50      1.00      0.67         2\n",
      "         26       1.00      1.00      1.00         2\n",
      "         27       1.00      1.00      1.00         1\n",
      "         28       1.00      0.50      0.67         2\n",
      "         29       0.67      1.00      0.80         2\n",
      "         30       1.00      1.00      1.00         3\n",
      "         31       1.00      1.00      1.00         1\n",
      "         32       0.00      0.00      0.00         0\n",
      "         33       1.00      0.50      0.67         2\n",
      "         34       1.00      1.00      1.00         2\n",
      "         35       1.00      1.00      1.00         2\n",
      "         36       1.00      1.00      1.00         1\n",
      "\n",
      "avg / total       0.52      0.50      0.48        48\n",
      "\n"
     ]
    },
    {
     "name": "stderr",
     "output_type": "stream",
     "text": [
      "c:\\users\\sumayyah\\keras\\lib\\site-packages\\sklearn\\metrics\\classification.py:1135: UndefinedMetricWarning: Precision and F-score are ill-defined and being set to 0.0 in labels with no predicted samples.\n",
      "  'precision', 'predicted', average, warn_for)\n",
      "c:\\users\\sumayyah\\keras\\lib\\site-packages\\sklearn\\metrics\\classification.py:1137: UndefinedMetricWarning: Recall and F-score are ill-defined and being set to 0.0 in labels with no true samples.\n",
      "  'recall', 'true', average, warn_for)\n"
     ]
    }
   ],
   "source": [
    "\n",
    "print (classification_report(numpy.argmax(y_test, axis=1), y_pred))"
   ]
  },
  {
   "cell_type": "code",
   "execution_count": 25,
   "metadata": {},
   "outputs": [],
   "source": [
    "import pandas\n",
    "\n",
    "pandas.DataFrame(hist.history).to_csv(\"E:Dataset_Final(March)/Checkpoints/Level_1/Epoch_101/Figure/History.csv\")        \n",
    "# visualizing losses and accuracy\n",
    "train_loss=hist.history['loss']\n",
    "val_loss=hist.history['val_loss']\n",
    "train_acc=hist.history['acc']\n",
    "val_acc=hist.history['val_acc']\n",
    "xc=range(epochs)"
   ]
  },
  {
   "cell_type": "code",
   "execution_count": 26,
   "metadata": {},
   "outputs": [
    {
     "name": "stdout",
     "output_type": "stream",
     "text": [
      "['bmh', 'classic', 'dark_background', 'fast', 'fivethirtyeight', 'ggplot', 'grayscale', 'seaborn-bright', 'seaborn-colorblind', 'seaborn-dark-palette', 'seaborn-dark', 'seaborn-darkgrid', 'seaborn-deep', 'seaborn-muted', 'seaborn-notebook', 'seaborn-paper', 'seaborn-pastel', 'seaborn-poster', 'seaborn-talk', 'seaborn-ticks', 'seaborn-white', 'seaborn-whitegrid', 'seaborn', 'Solarize_Light2', '_classic_test']\n"
     ]
    }
   ],
   "source": [
    "import matplotlib.pyplot as plt\n",
    "import matplotlib\n",
    "from matplotlib.backends.backend_pdf import PdfPages\n",
    "\n",
    "pp=PdfPages(\"E:Dataset_Final(March)/Checkpoints/Level_1/Epoch_101/Figure/Loss.pdf\")\n",
    "plt.figure(1,figsize=(7,5))\n",
    "plt.plot(xc,train_loss)\n",
    "plt.plot(xc,val_loss)\n",
    "plt.xlabel('Epochs')\n",
    "plt.ylabel('Loss')\n",
    "plt.title('train_loss vs val_loss')\n",
    "plt.grid(True)\n",
    "plt.legend(['train','val'])\n",
    "print (plt.style.available)\n",
    "plt.style.use(['classic'])\n",
    "plt.savefig(pp, format='pdf')\n",
    "pp.close()"
   ]
  },
  {
   "cell_type": "code",
   "execution_count": 27,
   "metadata": {},
   "outputs": [
    {
     "data": {
      "image/png": "[encoded data removed]",
      "text/plain": [
       "<matplotlib.figure.Figure at 0x1e735cf9748>"
      ]
     },
     "metadata": {},
     "output_type": "display_data"
    }
   ],
   "source": [
    "pp=PdfPages(\"E:Dataset_Final(March)/Checkpoints/Level_1/Epoch_101/Figure/Accuracy.pdf\")\n",
    "plt.figure(2,figsize=(7,5))\n",
    "plt.plot(xc,train_acc)\n",
    "plt.plot(xc,val_acc)\n",
    "plt.xlabel('Epochs')\n",
    "plt.ylabel('Accuracy')\n",
    "plt.title('train_acc vs val_acc')\n",
    "plt.grid(True)\n",
    "plt.legend(['train','val'],loc=4)\n",
    "#print plt.style.available # use bmh, classic,ggplot for big pictures\n",
    "plt.style.use(['classic'])\n",
    "plt.savefig(pp, format='pdf')\n",
    "pp.close()"
   ]
  },
  {
   "cell_type": "code",
   "execution_count": null,
   "metadata": {
    "collapsed": true
   },
   "outputs": [],
   "source": []
  }
 ],
 "metadata": {
  "kernelspec": {
   "display_name": "Python 3",
   "language": "python",
   "name": "python3"
  },
  "language_info": {
   "codemirror_mode": {
    "name": "ipython",
    "version": 3
   },
   "file_extension": ".py",
   "mimetype": "text/x-python",
   "name": "python",
   "nbconvert_exporter": "python",
   "pygments_lexer": "ipython3",
   "version": "3.6.3"
  }
 },
 "nbformat": 4,
 "nbformat_minor": 2
}
